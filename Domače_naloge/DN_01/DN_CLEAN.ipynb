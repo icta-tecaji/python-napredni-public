{
 "cells": [
  {
   "cell_type": "markdown",
   "metadata": {},
   "source": [
    "Skozi domačo nalogo bomo uporabljali dataset oglasov rabljenih avtomobilov pridobljenih iz nemškega *eBay Kleinanzeigen*.\n",
    "\n",
    "Podatki so razvrščeni v sledeče stolpce:\n",
    "* *dateCrawled* - When this ad was first crawled. All field-values are taken from this date.\n",
    "* *name* - Name of the car.\n",
    "* *seller* - Whether the seller is private or a dealer.\n",
    "* *offerType* - The type of listing\n",
    "* *price* - The price on the ad to sell the car.\n",
    "* *abtest* - Whether the listing is included in an A/B test.\n",
    "* *vehicleType* - The vehicle Type.\n",
    "* *yearOfRegistration* - The year in which the car was first registered.\n",
    "* *gearbox* - The transmission type.\n",
    "* *powerPS* - The power of the car in PS.\n",
    "* *model* - The car model name.\n",
    "* *kilometer* - How many kilometers the car has driven.\n",
    "* *monthOfRegistration* - The month in which the car was first registered.\n",
    "* *fuelType* - What type of fuel the car uses.\n",
    "* *brand* - The brand of the car.\n",
    "* *notRepairedDamage* - If the car has a damage which is not yet repaired.\n",
    "* *dateCreated* - The date on which the eBay listing was created.\n",
    "* *nrOfPictures* - The number of pictures in the ad.\n",
    "* *postalCode* - The postal code for the location of the vehicle.\n",
    "* *lastSeenOnline* - When the crawler saw this ad last online.\n"
   ]
  },
  {
   "cell_type": "code",
   "execution_count": 1,
   "metadata": {},
   "outputs": [],
   "source": [
    "import pandas as pd\n",
    "import numpy as np\n",
    "\n",
    "autos = pd.read_csv('ebay_cars_data.csv', encoding='Latin-1')"
   ]
  },
  {
   "cell_type": "markdown",
   "metadata": {},
   "source": [
    "<div class=\"alert alert-block alert-info\">\n",
    "<b>Vaja: </b> Uporabite .info() metodo za izpis osnovnih informacij o našem dataframe-u.\n",
    "</div>"
   ]
  },
  {
   "cell_type": "code",
   "execution_count": 2,
   "metadata": {},
   "outputs": [],
   "source": [
    "# Rešitev\n"
   ]
  },
  {
   "cell_type": "markdown",
   "metadata": {},
   "source": [
    "<div class=\"alert alert-block alert-info\">\n",
    "<b>Vaja: </b>Izpišite prvih 5 vrstic dataframe-a.\n",
    "</div>"
   ]
  },
  {
   "cell_type": "code",
   "execution_count": 3,
   "metadata": {},
   "outputs": [],
   "source": [
    "# Rešitev\n"
   ]
  },
  {
   "cell_type": "markdown",
   "metadata": {},
   "source": [
    "<div class=\"alert alert-block alert-info\">\n",
    "<b>Vaja: </b>Uporabite metodo .describe() in izpišite osnovne statistike vseh 20 stolpcev\n",
    "</div>"
   ]
  },
  {
   "cell_type": "code",
   "execution_count": 4,
   "metadata": {},
   "outputs": [],
   "source": [
    "# Rešitev\n"
   ]
  },
  {
   "cell_type": "markdown",
   "metadata": {},
   "source": [
    "<div class=\"alert alert-block alert-info\">\n",
    "<b>Vaja: </b>Poiščite max in min vrednost stolpca yearOfRegistration.\n",
    "</div>"
   ]
  },
  {
   "cell_type": "code",
   "execution_count": 5,
   "metadata": {},
   "outputs": [],
   "source": [
    "# Rešitev\n"
   ]
  },
  {
   "cell_type": "markdown",
   "metadata": {},
   "source": [
    "<div class=\"alert alert-block alert-info\">\n",
    "<b>Vaja: </b>Obdržite vrstice, kjer se vrednost stolpca yearOfRegistration nahaja znotraj območja 1900 - 2016.\n",
    "</div>"
   ]
  },
  {
   "cell_type": "code",
   "execution_count": 6,
   "metadata": {},
   "outputs": [],
   "source": [
    "# Rešitev\n"
   ]
  },
  {
   "cell_type": "markdown",
   "metadata": {},
   "source": [
    "<div class=\"alert alert-block alert-info\">\n",
    "<b>Vaja: </b>Pridobite vse vrstice, kjer se je vrednost stolpca <b>brand</b> <i>bmw</i> in jih shranite v spremenljivko. Nato pridobite vse vrstice, kjer je vrednost stolpca <b>brand</b> <i>ford</i> in jih shranite v drugo spremenljivko.\n",
    "</div>"
   ]
  },
  {
   "cell_type": "code",
   "execution_count": 7,
   "metadata": {},
   "outputs": [],
   "source": [
    "# Rešitev"
   ]
  },
  {
   "cell_type": "code",
   "execution_count": null,
   "metadata": {},
   "outputs": [],
   "source": []
  },
  {
   "cell_type": "markdown",
   "metadata": {},
   "source": [
    "<div class=\"alert alert-block alert-info\">\n",
    "<b>Vaja: </b> Narišite graf cene (os y) v odvisnosti od \"yearOfRegistration\".\n",
    "Točke fordov naj bodo rdeče, točke bmwjev naj bodo zelene.\n",
    "    \n",
    "Omogočite legendo.\n",
    "    \n",
    "Za izris točk uporabite <b>plt.scatter(x, y)</b>\n",
    "</div>"
   ]
  },
  {
   "attachments": {
    "image.png": {
     "image/png": "[encoded data removed]"
    }
   },
   "cell_type": "markdown",
   "metadata": {},
   "source": [
    "![image.png](attachment:image.png)"
   ]
  },
  {
   "cell_type": "code",
   "execution_count": 9,
   "metadata": {},
   "outputs": [],
   "source": [
    "import matplotlib.pyplot as plt\n",
    "\n",
    "# Rešitev"
   ]
  },
  {
   "cell_type": "markdown",
   "metadata": {},
   "source": [
    "<div class=\"alert alert-block alert-info\">\n",
    "<b>Vaja: </b> Podatke za BMWje shranite v excel.\n",
    "    \n",
    "Vrednosti v vrstici kjer imamo avto z najvecjo ceno <b>boldajte</b>\n",
    "</div>"
   ]
  },
  {
   "cell_type": "code",
   "execution_count": 10,
   "metadata": {},
   "outputs": [],
   "source": [
    "from openpyxl import load_workbook\n",
    "from openpyxl.styles import Font, Color, Alignment, Border, Side, colors\n",
    "\n",
    "# Rešitev"
   ]
  },
  {
   "cell_type": "code",
   "execution_count": null,
   "metadata": {},
   "outputs": [],
   "source": []
  },
  {
   "cell_type": "code",
   "execution_count": null,
   "metadata": {},
   "outputs": [],
   "source": []
  },
  {
   "cell_type": "code",
   "execution_count": null,
   "metadata": {},
   "outputs": [],
   "source": []
  },
  {
   "cell_type": "code",
   "execution_count": null,
   "metadata": {},
   "outputs": [],
   "source": []
  }
 ],
 "metadata": {
  "kernelspec": {
   "display_name": "Python 3",
   "language": "python",
   "name": "python3"
  },
  "language_info": {
   "codemirror_mode": {
    "name": "ipython",
    "version": 3
   },
   "file_extension": ".py",
   "mimetype": "text/x-python",
   "name": "python",
   "nbconvert_exporter": "python",
   "pygments_lexer": "ipython3",
   "version": "3.8.5"
  },
  "toc": {
   "base_numbering": 1,
   "nav_menu": {},
   "number_sections": true,
   "sideBar": true,
   "skip_h1_title": false,
   "title_cell": "Table of Contents",
   "title_sidebar": "Contents",
   "toc_cell": false,
   "toc_position": {},
   "toc_section_display": true,
   "toc_window_display": false
  }
 },
 "nbformat": 4,
 "nbformat_minor": 2
}
