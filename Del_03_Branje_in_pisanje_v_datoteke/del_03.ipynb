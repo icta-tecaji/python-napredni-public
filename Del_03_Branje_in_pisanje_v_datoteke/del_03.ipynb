{
 "metadata": {
  "language_info": {
   "codemirror_mode": {
    "name": "ipython",
    "version": 3
   },
   "file_extension": ".py",
   "mimetype": "text/x-python",
   "name": "python",
   "nbconvert_exporter": "python",
   "pygments_lexer": "ipython3",
   "version": "3.9.0-final"
  },
  "orig_nbformat": 2,
  "kernelspec": {
   "name": "python3",
   "display_name": "Python 3"
  }
 },
 "nbformat": 4,
 "nbformat_minor": 2,
 "cells": [
  {
   "source": [
    "# Branje in pisanje v datoteke"
   ],
   "cell_type": "markdown",
   "metadata": {}
  },
  {
   "source": [
    "## Opening and Closing a File in Python"
   ],
   "cell_type": "markdown",
   "metadata": {}
  },
  {
   "cell_type": "code",
   "execution_count": 9,
   "metadata": {},
   "outputs": [],
   "source": [
    "f = open('data/test.txt')"
   ]
  },
  {
   "cell_type": "code",
   "execution_count": 10,
   "metadata": {},
   "outputs": [
    {
     "output_type": "execute_result",
     "data": {
      "text/plain": [
       "<_io.TextIOWrapper name='data/test.txt' mode='r' encoding='UTF-8'>"
      ]
     },
     "metadata": {},
     "execution_count": 10
    }
   ],
   "source": [
    "f"
   ]
  },
  {
   "cell_type": "code",
   "execution_count": 11,
   "metadata": {},
   "outputs": [
    {
     "output_type": "execute_result",
     "data": {
      "text/plain": [
       "False"
      ]
     },
     "metadata": {},
     "execution_count": 11
    }
   ],
   "source": [
    "f.closed"
   ]
  },
  {
   "cell_type": "code",
   "execution_count": 14,
   "metadata": {},
   "outputs": [],
   "source": [
    "f.close()"
   ]
  },
  {
   "cell_type": "code",
   "execution_count": 15,
   "metadata": {},
   "outputs": [
    {
     "output_type": "execute_result",
     "data": {
      "text/plain": [
       "True"
      ]
     },
     "metadata": {},
     "execution_count": 15
    }
   ],
   "source": [
    "f.closed"
   ]
  },
  {
   "source": [
    "## Opcija 2"
   ],
   "cell_type": "markdown",
   "metadata": {}
  },
  {
   "cell_type": "code",
   "execution_count": 16,
   "metadata": {},
   "outputs": [],
   "source": [
    "\n",
    "try:\n",
    "    f = open('data/test.txt')\n",
    "    # procesirali\n",
    "finally:\n",
    "    f.close()\n"
   ]
  },
  {
   "source": [
    "## Opcija 3 - optimalno"
   ],
   "cell_type": "markdown",
   "metadata": {}
  },
  {
   "cell_type": "code",
   "execution_count": 20,
   "metadata": {},
   "outputs": [
    {
     "output_type": "stream",
     "name": "stdout",
     "text": [
      "znotraj False\nzunaj True\n"
     ]
    }
   ],
   "source": [
    "with open('data/test.txt', 'r', encoding='utf-8') as f:\n",
    "    # prosesiram\n",
    "    print('znotraj', f.closed)\n",
    "\n",
    "print('zunaj', f.closed)\n"
   ]
  },
  {
   "source": [
    "<table class=\"docutils align-default\" id=\"index-5\">\n",
    "<colgroup>\n",
    "<col style=\"width: 13%\">\n",
    "<col style=\"width: 88%\">\n",
    "</colgroup>\n",
    "<thead>\n",
    "<tr class=\"row-odd\"><th class=\"head\"><p>Character</p></th>\n",
    "<th class=\"head\"><p>Meaning</p></th>\n",
    "</tr>\n",
    "</thead>\n",
    "<tbody>\n",
    "<tr class=\"row-even\"><td><p><code class=\"docutils literal notranslate\"><span class=\"pre\">'r'</span></code></p></td>\n",
    "<td><p>open for reading (default)</p></td>\n",
    "</tr>\n",
    "<tr class=\"row-odd\"><td><p><code class=\"docutils literal notranslate\"><span class=\"pre\">'w'</span></code></p></td>\n",
    "<td><p>open for writing, truncating the file first</p></td>\n",
    "</tr>\n",
    "<tr class=\"row-even\"><td><p><code class=\"docutils literal notranslate\"><span class=\"pre\">'x'</span></code></p></td>\n",
    "<td><p>open for exclusive creation, failing if the file already exists</p></td>\n",
    "</tr>\n",
    "<tr class=\"row-odd\"><td><p><code class=\"docutils literal notranslate\"><span class=\"pre\">'a'</span></code></p></td>\n",
    "<td><p>open for writing, appending to the end of the file if it exists</p></td>\n",
    "</tr>\n",
    "<tr class=\"row-even\"><td><p><code class=\"docutils literal notranslate\"><span class=\"pre\">'b'</span></code></p></td>\n",
    "<td><p>binary mode</p></td>\n",
    "</tr>\n",
    "<tr class=\"row-odd\"><td><p><code class=\"docutils literal notranslate\"><span class=\"pre\">'t'</span></code></p></td>\n",
    "<td><p>text mode (default)</p></td>\n",
    "</tr>\n",
    "<tr class=\"row-even\"><td><p><code class=\"docutils literal notranslate\"><span class=\"pre\">'+'</span></code></p></td>\n",
    "<td><p>open for updating (reading and writing)</p></td>\n",
    "</tr>\n",
    "</tbody>\n",
    "</table>"
   ],
   "cell_type": "markdown",
   "metadata": {}
  },
  {
   "source": [
    "## Reading and Writing Opened Files"
   ],
   "cell_type": "markdown",
   "metadata": {}
  },
  {
   "source": [
    "<div class=\"table-responsive\">\n",
    "<table class=\"table table-hover\">\n",
    "<thead>\n",
    "<tr>\n",
    "<th>Method</th>\n",
    "<th>What It Does</th>\n",
    "</tr>\n",
    "</thead>\n",
    "<tbody>\n",
    "<tr>\n",
    "<td><a href=\"https://docs.python.org/3.7/library/io.html#io.RawIOBase.read\"><code>.read(size=-1)</code></a></td>\n",
    "<td>This reads from the file based on the number of <code>size</code> bytes. If no argument is passed or <code>None</code> or <code>-1</code> is passed, then the entire file is read.</td>\n",
    "</tr>\n",
    "<tr>\n",
    "<td><a href=\"https://docs.python.org/3.7/library/io.html#io.IOBase.readline\"><code>.readline(size=-1)</code></a></td>\n",
    "<td>This reads at most <code>size</code> number of characters from the line. This continues to the end of the line and then wraps back around. If no argument is passed or <code>None</code> or <code>-1</code> is passed, then the entire line (or rest of the line) is read.</td>\n",
    "</tr>\n",
    "<tr>\n",
    "<td><a href=\"https://docs.python.org/3.7/library/io.html#io.IOBase.readlines\"><code>.readlines()</code></a></td>\n",
    "<td>This reads the remaining lines from the file object and returns them as a list.</td>\n",
    "</tr>\n",
    "</tbody>\n",
    "</table>\n",
    "</div>"
   ],
   "cell_type": "markdown",
   "metadata": {}
  },
  {
   "cell_type": "code",
   "execution_count": 22,
   "metadata": {},
   "outputs": [
    {
     "output_type": "stream",
     "name": "stdout",
     "text": [
      "03/22 08:51:06 INFO   :.....mailslot_create: creating mailslot for RSVP\n03/22 08:51:06 INFO   :....mailbox_register: mailbox allocated for rsvp\n03/22 08:51:06 INFO   :.....mailslot_create: creating mailslot for RSVP via UDP\n03/22 08:51:06 INFO   :....mailbox_register: mailbox allocated for rsvp-udp\n03/22 08:51:06 TRACE  :..entity_initialize: interface 127.0.0.1, entity for rsvp allocated and initialized\n03/22 08:51:06 INFO   :......mailslot_create: creating socket for querying route\n03/22 08:51:06 INFO   :.....mailbox_register: no mailbox necessary for forward\n03/22 08:51:06 INFO   :......mailslot_create: creating mailslot for route engine - informational socket\n03/22 08:51:06 TRACE  :......mailslot_create: ready to accept informational socket connection\n03/22 08:51:11 INFO   :.....mailbox_register: mailbox allocated for route\n03/22 08:51:11 INFO   :.....mailslot_create: creating socket for traffic control module\n03/22 08:51:11 INFO   :....mailbox_register: no mailbox necessary for traffic-control\n03/22 08:51:11 INFO   :....mailslot_create: creating mailslot for RSVP client API\n03/22 08:51:11 INFO   :...mailbox_register: mailbox allocated for rsvp-api\n03/22 08:51:11 INFO   :...mailslot_create: creating mailslot for terminate\n03/22 08:51:11 INFO   :..mailbox_register: mailbox allocated for terminate\n03/22 08:51:11 INFO   :...mailslot_create: creating mailslot for dump\n03/22 08:51:11 INFO   :..mailbox_register: mailbox allocated for dump\n03/22 08:51:11 INFO   :...mailslot_create: creating mailslot for (broken) pipe\n03/22 08:51:11 INFO   :..mailbox_register: mailbox allocated for pipe\n"
     ]
    }
   ],
   "source": [
    "with open('data/test.txt', 'r') as reader:\n",
    "    print(reader.read())"
   ]
  },
  {
   "cell_type": "code",
   "execution_count": 28,
   "metadata": {},
   "outputs": [
    {
     "output_type": "stream",
     "name": "stdout",
     "text": [
      "03/22 08:51:06 INFO   :.....mailslot_create: creating mailslot for RSVP\n\n03/22 08:51:06 INFO   :....mailbox_register: mailbox allocated for rsvp\n\n03/22 08:51:06 INFO   :.....mailslot_create: creating mailslot for RSVP via UDP\n03/22 08:51:06 INFO   :....mailbox_register: mailbox allocated for rsvp-udp\n03/22 08:51:06 TRACE  :..entity_initialize: interface 127.0.0.1, entity for rsvp allocated and initialized\n03/22 08:51:06 INFO   :......mailslot_create: creating socket for querying route\n03/22 08:51:06 INFO   :.....mailbox_register: no mailbox necessary for forward\n03/22 08:51:06 INFO   :......mailslot_create: creating mailslot for route engine - informational socket\n03/22 08:51:06 TRACE  :......mailslot_create: ready to accept informational socket connection\n03/22 08:51:11 INFO   :.....mailbox_register: mailbox allocated for route\n03/22 08:51:11 INFO   :.....mailslot_create: creating socket for traffic control module\n03/22 08:51:11 INFO   :....mailbox_register: no mailbox necessary for traffic-control\n03/22 08:51:11 INFO   :....mailslot_create: creating mailslot for RSVP client API\n03/22 08:51:11 INFO   :...mailbox_register: mailbox allocated for rsvp-api\n03/22 08:51:11 INFO   :...mailslot_create: creating mailslot for terminate\n03/22 08:51:11 INFO   :..mailbox_register: mailbox allocated for terminate\n03/22 08:51:11 INFO   :...mailslot_create: creating mailslot for dump\n03/22 08:51:11 INFO   :..mailbox_register: mailbox allocated for dump\n03/22 08:51:11 INFO   :...mailslot_create: creating mailslot for (broken) pipe\n03/22 08:51:11 INFO   :..mailbox_register: mailbox allocated for pipe\n----------\n03/22 08:51:06 INFO   :.....mailslot_create: creating mailslot for RSVP\n03/22 08:51:06 INFO   :....mailbox_register: mailbox allocated for rsvp\n03/22 08:51:06 INFO   :.....mailslot_create: creating mailslot for RSVP via UDP\n03/22 08:51:06 INFO   :....mailbox_register: mailbox allocated for rsvp-udp\n03/22 08:51:06 TRACE  :..entity_initialize: interface 127.0.0.1, entity for rsvp allocated and initialized\n03/22 08:51:06 INFO   :......mailslot_create: creating socket for querying route\n03/22 08:51:06 INFO   :.....mailbox_register: no mailbox necessary for forward\n03/22 08:51:06 INFO   :......mailslot_create: creating mailslot for route engine - informational socket\n03/22 08:51:06 TRACE  :......mailslot_create: ready to accept informational socket connection\n03/22 08:51:11 INFO   :.....mailbox_register: mailbox allocated for route\n03/22 08:51:11 INFO   :.....mailslot_create: creating socket for traffic control module\n03/22 08:51:11 INFO   :....mailbox_register: no mailbox necessary for traffic-control\n03/22 08:51:11 INFO   :....mailslot_create: creating mailslot for RSVP client API\n03/22 08:51:11 INFO   :...mailbox_register: mailbox allocated for rsvp-api\n03/22 08:51:11 INFO   :...mailslot_create: creating mailslot for terminate\n03/22 08:51:11 INFO   :..mailbox_register: mailbox allocated for terminate\n03/22 08:51:11 INFO   :...mailslot_create: creating mailslot for dump\n03/22 08:51:11 INFO   :..mailbox_register: mailbox allocated for dump\n03/22 08:51:11 INFO   :...mailslot_create: creating mailslot for (broken) pipe\n03/22 08:51:11 INFO   :..mailbox_register: mailbox allocated for pipe\n"
     ]
    }
   ],
   "source": [
    "with open('data/test.txt', 'r') as reader:\n",
    "    print(reader.readline())\n",
    "    print(reader.readline())\n",
    "    print(reader.read())\n",
    "\n",
    "    print('-'*10)\n",
    "    reader.seek(0)\n",
    "    print(reader.read())"
   ]
  },
  {
   "cell_type": "code",
   "execution_count": 30,
   "metadata": {},
   "outputs": [],
   "source": [
    "with open('data/test.txt', 'r') as reader:\n",
    "    data = reader.readlines()"
   ]
  },
  {
   "cell_type": "code",
   "execution_count": 33,
   "metadata": {},
   "outputs": [
    {
     "output_type": "execute_result",
     "data": {
      "text/plain": [
       "'INFO'"
      ]
     },
     "metadata": {},
     "execution_count": 33
    }
   ],
   "source": [
    "data[0].split()[2]"
   ]
  },
  {
   "source": [
    "### Iterating Over Each Line in the File"
   ],
   "cell_type": "markdown",
   "metadata": {}
  },
  {
   "cell_type": "code",
   "execution_count": 35,
   "metadata": {},
   "outputs": [
    {
     "output_type": "stream",
     "name": "stdout",
     "text": [
      "03/22 08:51:06 INFO   :.....MAILSLOT_CREATE: CREATING MAILSLOT FOR RSVP\n\n03/22 08:51:06 INFO   :....MAILBOX_REGISTER: MAILBOX ALLOCATED FOR RSVP\n\n03/22 08:51:06 INFO   :.....MAILSLOT_CREATE: CREATING MAILSLOT FOR RSVP VIA UDP\n\n03/22 08:51:06 INFO   :....MAILBOX_REGISTER: MAILBOX ALLOCATED FOR RSVP-UDP\n\n03/22 08:51:06 TRACE  :..ENTITY_INITIALIZE: INTERFACE 127.0.0.1, ENTITY FOR RSVP ALLOCATED AND INITIALIZED\n\n03/22 08:51:06 INFO   :......MAILSLOT_CREATE: CREATING SOCKET FOR QUERYING ROUTE\n\n03/22 08:51:06 INFO   :.....MAILBOX_REGISTER: NO MAILBOX NECESSARY FOR FORWARD\n\n03/22 08:51:06 INFO   :......MAILSLOT_CREATE: CREATING MAILSLOT FOR ROUTE ENGINE - INFORMATIONAL SOCKET\n\n03/22 08:51:06 TRACE  :......MAILSLOT_CREATE: READY TO ACCEPT INFORMATIONAL SOCKET CONNECTION\n\n03/22 08:51:11 INFO   :.....MAILBOX_REGISTER: MAILBOX ALLOCATED FOR ROUTE\n\n03/22 08:51:11 INFO   :.....MAILSLOT_CREATE: CREATING SOCKET FOR TRAFFIC CONTROL MODULE\n\n03/22 08:51:11 INFO   :....MAILBOX_REGISTER: NO MAILBOX NECESSARY FOR TRAFFIC-CONTROL\n\n03/22 08:51:11 INFO   :....MAILSLOT_CREATE: CREATING MAILSLOT FOR RSVP CLIENT API\n\n03/22 08:51:11 INFO   :...MAILBOX_REGISTER: MAILBOX ALLOCATED FOR RSVP-API\n\n03/22 08:51:11 INFO   :...MAILSLOT_CREATE: CREATING MAILSLOT FOR TERMINATE\n\n03/22 08:51:11 INFO   :..MAILBOX_REGISTER: MAILBOX ALLOCATED FOR TERMINATE\n\n03/22 08:51:11 INFO   :...MAILSLOT_CREATE: CREATING MAILSLOT FOR DUMP\n\n03/22 08:51:11 INFO   :..MAILBOX_REGISTER: MAILBOX ALLOCATED FOR DUMP\n\n03/22 08:51:11 INFO   :...MAILSLOT_CREATE: CREATING MAILSLOT FOR (BROKEN) PIPE\n\n03/22 08:51:11 INFO   :..MAILBOX_REGISTER: MAILBOX ALLOCATED FOR PIPE\n"
     ]
    }
   ],
   "source": [
    "with open('data/test.txt', 'r') as reader:\n",
    "    for line in reader:\n",
    "        print(line.upper())"
   ]
  },
  {
   "source": [
    "### Writing lines"
   ],
   "cell_type": "markdown",
   "metadata": {}
  },
  {
   "source": [
    "<div class=\"table-responsive\">\n",
    "<table class=\"table table-hover\">\n",
    "<thead>\n",
    "<tr>\n",
    "<th>Method</th>\n",
    "<th>What It Does</th>\n",
    "</tr>\n",
    "</thead>\n",
    "<tbody>\n",
    "<tr>\n",
    "<td><code>.write(string)</code></td>\n",
    "<td>This writes the string to the file.</td>\n",
    "</tr>\n",
    "<tr>\n",
    "<td><code>.writelines(seq)</code></td>\n",
    "<td>This writes the sequence to the file. No line endings are appended to each sequence item. It’s up to you to add the appropriate line ending(s).</td>\n",
    "</tr>\n",
    "</tbody>\n",
    "</table>\n",
    "</div>"
   ],
   "cell_type": "markdown",
   "metadata": {}
  },
  {
   "cell_type": "code",
   "execution_count": 40,
   "metadata": {},
   "outputs": [],
   "source": [
    "with open('data/test.txt', 'r') as reader:\n",
    "    lines = reader.readlines()\n",
    "\n",
    "with open('data/test_reversed.txt', 'w') as writer:\n",
    "    for line in reversed(lines):\n",
    "        writer.write(line)"
   ]
  },
  {
   "cell_type": "code",
   "execution_count": 43,
   "metadata": {},
   "outputs": [],
   "source": [
    "def upper_converter(file_path: str):\n",
    "    src_path, suffix = file_path.split(\".\")\n",
    "    dest_path = f\"{src_path}_upper.{suffix}\"\n",
    "\n",
    "    with open(file_path, \"r\") as reader:\n",
    "        content = reader.read()\n",
    "\n",
    "    with open(dest_path, \"w\") as witer:\n",
    "        witer.write(content.upper())\n",
    "\n",
    "\n",
    "if __name__ == \"__main__\":\n",
    "    upper_converter(\"data/test.txt\")\n",
    "    #f = open(\"data/test.txt\")"
   ]
  },
  {
   "source": [
    "## Triki in nasveti pri branju in pisanju datotek"
   ],
   "cell_type": "markdown",
   "metadata": {}
  },
  {
   "source": [
    "### Writing to a File That Doesn’t Already Exist"
   ],
   "cell_type": "markdown",
   "metadata": {}
  },
  {
   "cell_type": "code",
   "execution_count": 44,
   "metadata": {},
   "outputs": [],
   "source": [
    "with open('data/exists.txt', \"w\") as f:\n",
    "    f.write('Hello\\n')"
   ]
  },
  {
   "cell_type": "code",
   "execution_count": 45,
   "metadata": {},
   "outputs": [
    {
     "output_type": "error",
     "ename": "FileExistsError",
     "evalue": "[Errno 17] File exists: 'data/exists.txt'",
     "traceback": [
      "\u001b[0;31m---------------------------------------------------------------------------\u001b[0m",
      "\u001b[0;31mFileExistsError\u001b[0m                           Traceback (most recent call last)",
      "\u001b[0;32m<ipython-input-45-7474dddbb772>\u001b[0m in \u001b[0;36m<module>\u001b[0;34m\u001b[0m\n\u001b[0;32m----> 1\u001b[0;31m \u001b[0;32mwith\u001b[0m \u001b[0mopen\u001b[0m\u001b[0;34m(\u001b[0m\u001b[0;34m'data/exists.txt'\u001b[0m\u001b[0;34m,\u001b[0m \u001b[0;34m\"x\"\u001b[0m\u001b[0;34m)\u001b[0m \u001b[0;32mas\u001b[0m \u001b[0mf\u001b[0m\u001b[0;34m:\u001b[0m\u001b[0;34m\u001b[0m\u001b[0;34m\u001b[0m\u001b[0m\n\u001b[0m\u001b[1;32m      2\u001b[0m     \u001b[0mf\u001b[0m\u001b[0;34m.\u001b[0m\u001b[0mwrite\u001b[0m\u001b[0;34m(\u001b[0m\u001b[0;34m'1111\\n'\u001b[0m\u001b[0;34m)\u001b[0m\u001b[0;34m\u001b[0m\u001b[0;34m\u001b[0m\u001b[0m\n",
      "\u001b[0;31mFileExistsError\u001b[0m: [Errno 17] File exists: 'data/exists.txt'"
     ]
    }
   ],
   "source": [
    "with open('data/exists.txt', \"x\") as f:\n",
    "    f.write('1111\\n')"
   ]
  },
  {
   "cell_type": "code",
   "execution_count": 47,
   "metadata": {},
   "outputs": [
    {
     "output_type": "stream",
     "name": "stdout",
     "text": [
      "File exists!\n"
     ]
    }
   ],
   "source": [
    "try:\n",
    "    with open('data/exists.txt', \"x\") as f:\n",
    "        f.write('1111\\n')\n",
    "except FileExistsError:\n",
    "    print('File exists!')"
   ]
  },
  {
   "source": [
    "### Appending to a File"
   ],
   "cell_type": "markdown",
   "metadata": {}
  },
  {
   "cell_type": "code",
   "execution_count": 49,
   "metadata": {},
   "outputs": [],
   "source": [
    "with open('data/exists.txt', \"a\") as f:\n",
    "    f.write('Hello\\n')"
   ]
  },
  {
   "source": [
    "### Working With Two Files at the Same Time"
   ],
   "cell_type": "markdown",
   "metadata": {}
  },
  {
   "cell_type": "code",
   "execution_count": 50,
   "metadata": {},
   "outputs": [],
   "source": [
    "def upper_converter(file_path: str):\n",
    "    src_path, suffix = file_path.split(\".\")\n",
    "    dest_path = f\"{src_path}_upper.{suffix}\"\n",
    "\n",
    "    with open(file_path, \"r\") as reader, open(dest_path, \"w\") as witer:\n",
    "        content = reader.read()\n",
    "        witer.write(content.upper())\n",
    "\n",
    "\n",
    "if __name__ == \"__main__\":\n",
    "    upper_converter(\"data/test.txt\")"
   ]
  },
  {
   "source": [
    "### Search for a string in text files"
   ],
   "cell_type": "markdown",
   "metadata": {}
  },
  {
   "cell_type": "code",
   "execution_count": 53,
   "metadata": {},
   "outputs": [
    {
     "output_type": "stream",
     "name": "stdout",
     "text": [
      "true\n"
     ]
    }
   ],
   "source": [
    "with open('data/search_file.txt') as f:\n",
    "    if 'Python' in f.read():\n",
    "        print('true')\n",
    " "
   ]
  },
  {
   "source": [
    "### Counts words in a text file"
   ],
   "cell_type": "markdown",
   "metadata": {}
  },
  {
   "cell_type": "code",
   "execution_count": 54,
   "metadata": {},
   "outputs": [],
   "source": [
    "with open('data/search_file.txt') as f:\n",
    "    text = f.read()"
   ]
  },
  {
   "cell_type": "code",
   "execution_count": 55,
   "metadata": {},
   "outputs": [
    {
     "output_type": "execute_result",
     "data": {
      "text/plain": [
       "'Python is an easy to learn, powerful programming language. It has efficient high-level data structures and a simple but effective approach to object-oriented programming. Python’s elegant syntax and dynamic typing, together with its interpreted nature, make it an ideal language for scripting and rapid application development in many areas on most platforms.\\n\\nThe Python interpreter and the extensive standard library are freely available in source or binary form for all major platforms from the Python Web site, https://www.python.org/, and may be freely distributed. The same site also contains distributions of and pointers to many free third party Python modules, programs and tools, and additional documentation.\\n\\nThe Python interpreter is easily extended with new functions and data types implemented in C or C++ (or other languages callable from C). Python is also suitable as an extension language for customizable applications.\\n\\nThis tutorial introduces the reader informally to the basic concepts and features of the Python language and system. It helps to have a Python interpreter handy for hands-on experience, but all examples are self-contained, so the tutorial can be read off-line as well.'"
      ]
     },
     "metadata": {},
     "execution_count": 55
    }
   ],
   "source": [
    "text"
   ]
  },
  {
   "cell_type": "code",
   "execution_count": 67,
   "metadata": {},
   "outputs": [
    {
     "output_type": "execute_result",
     "data": {
      "text/plain": [
       "[('and', 11), ('the', 9), ('python', 8), ('to', 5), ('language', 4)]"
      ]
     },
     "metadata": {},
     "execution_count": 67
    }
   ],
   "source": [
    "from collections import Counter\n",
    "\n",
    "\n",
    "#text_splited = [word.lower() for word in text_splited]\n",
    "text_splited = Counter([''.join(c for c in word.lower() if c.isalnum()) for word in text.split()]).most_common(5)\n",
    "text_splited"
   ]
  },
  {
   "source": [
    "# Dan 3"
   ],
   "cell_type": "markdown",
   "metadata": {}
  },
  {
   "source": [
    "#### Replace String in File"
   ],
   "cell_type": "markdown",
   "metadata": {}
  },
  {
   "cell_type": "code",
   "execution_count": 1,
   "metadata": {},
   "outputs": [],
   "source": [
    "with open('data/test.txt', 'r') as reader, open('data/test_edited.txt', 'w') as writer:\n",
    "    for line in reader:\n",
    "        writer.write(line.replace('INFO', 'ERROR'))"
   ]
  },
  {
   "source": [
    "#### Counting lines in a file"
   ],
   "cell_type": "markdown",
   "metadata": {}
  },
  {
   "cell_type": "code",
   "execution_count": 2,
   "metadata": {},
   "outputs": [],
   "source": [
    "def file_len(fname):\n",
    "    with open(fname) as f:\n",
    "        i = 0\n",
    "        for i, l in enumerate(f):\n",
    "            pass\n",
    "    return i + 1 "
   ]
  },
  {
   "cell_type": "code",
   "execution_count": 4,
   "metadata": {},
   "outputs": [
    {
     "output_type": "stream",
     "name": "stdout",
     "text": [
      "20\n"
     ]
    }
   ],
   "source": [
    "print(file_len('data/test.txt'))"
   ]
  },
  {
   "source": [
    "# Branje in pisanje posebnih formatov datotek"
   ],
   "cell_type": "markdown",
   "metadata": {}
  },
  {
   "cell_type": "code",
   "execution_count": 5,
   "metadata": {},
   "outputs": [],
   "source": [
    "import pandas as pd"
   ]
  },
  {
   "cell_type": "code",
   "execution_count": 7,
   "metadata": {},
   "outputs": [],
   "source": [
    "f500 = pd.read_csv('data/f500.csv')"
   ]
  },
  {
   "cell_type": "code",
   "execution_count": 8,
   "metadata": {},
   "outputs": [
    {
     "output_type": "execute_result",
     "data": {
      "text/plain": [
       "pandas.core.frame.DataFrame"
      ]
     },
     "metadata": {},
     "execution_count": 8
    }
   ],
   "source": [
    "type(f500)"
   ]
  },
  {
   "cell_type": "code",
   "execution_count": 9,
   "metadata": {},
   "outputs": [
    {
     "output_type": "execute_result",
     "data": {
      "text/plain": [
       "                    company  rank  revenues  revenue_change  profits  assets  \\\n",
       "0                   Walmart     1    485873             0.8  13643.0  198825   \n",
       "1                State Grid     2    315199            -4.4   9571.3  489838   \n",
       "2             Sinopec Group     3    267518            -9.1   1257.9  310726   \n",
       "3  China National Petroleum     4    262573           -12.3   1867.5  585619   \n",
       "4              Toyota Motor     5    254694             7.7  16899.3  437575   \n",
       "\n",
       "   profit_change                  ceo                  industry  \\\n",
       "0           -7.2  C. Douglas McMillon     General Merchandisers   \n",
       "1           -6.2              Kou Wei                 Utilities   \n",
       "2          -65.0            Wang Yupu        Petroleum Refining   \n",
       "3          -73.7        Zhang Jianhua        Petroleum Refining   \n",
       "4          -12.3          Akio Toyoda  Motor Vehicles and Parts   \n",
       "\n",
       "                   sector  previous_rank country      hq_location  \\\n",
       "0               Retailing              1     USA  Bentonville, AR   \n",
       "1                  Energy              2   China   Beijing, China   \n",
       "2                  Energy              4   China   Beijing, China   \n",
       "3                  Energy              3   China   Beijing, China   \n",
       "4  Motor Vehicles & Parts              8   Japan    Toyota, Japan   \n",
       "\n",
       "                        website  years_on_global_500_list  employees  \\\n",
       "0        http://www.walmart.com                        23    2300000   \n",
       "1        http://www.sgcc.com.cn                        17     926067   \n",
       "2        http://www.sinopec.com                        19     713288   \n",
       "3        http://www.cnpc.com.cn                        17    1512048   \n",
       "4  http://www.toyota-global.com                        23     364445   \n",
       "\n",
       "   total_stockholder_equity  \n",
       "0                     77798  \n",
       "1                    209456  \n",
       "2                    106523  \n",
       "3                    301893  \n",
       "4                    157210  "
      ],
      "text/html": "<div>\n<style scoped>\n    .dataframe tbody tr th:only-of-type {\n        vertical-align: middle;\n    }\n\n    .dataframe tbody tr th {\n        vertical-align: top;\n    }\n\n    .dataframe thead th {\n        text-align: right;\n    }\n</style>\n<table border=\"1\" class=\"dataframe\">\n  <thead>\n    <tr style=\"text-align: right;\">\n      <th></th>\n      <th>company</th>\n      <th>rank</th>\n      <th>revenues</th>\n      <th>revenue_change</th>\n      <th>profits</th>\n      <th>assets</th>\n      <th>profit_change</th>\n      <th>ceo</th>\n      <th>industry</th>\n      <th>sector</th>\n      <th>previous_rank</th>\n      <th>country</th>\n      <th>hq_location</th>\n      <th>website</th>\n      <th>years_on_global_500_list</th>\n      <th>employees</th>\n      <th>total_stockholder_equity</th>\n    </tr>\n  </thead>\n  <tbody>\n    <tr>\n      <th>0</th>\n      <td>Walmart</td>\n      <td>1</td>\n      <td>485873</td>\n      <td>0.8</td>\n      <td>13643.0</td>\n      <td>198825</td>\n      <td>-7.2</td>\n      <td>C. Douglas McMillon</td>\n      <td>General Merchandisers</td>\n      <td>Retailing</td>\n      <td>1</td>\n      <td>USA</td>\n      <td>Bentonville, AR</td>\n      <td>http://www.walmart.com</td>\n      <td>23</td>\n      <td>2300000</td>\n      <td>77798</td>\n    </tr>\n    <tr>\n      <th>1</th>\n      <td>State Grid</td>\n      <td>2</td>\n      <td>315199</td>\n      <td>-4.4</td>\n      <td>9571.3</td>\n      <td>489838</td>\n      <td>-6.2</td>\n      <td>Kou Wei</td>\n      <td>Utilities</td>\n      <td>Energy</td>\n      <td>2</td>\n      <td>China</td>\n      <td>Beijing, China</td>\n      <td>http://www.sgcc.com.cn</td>\n      <td>17</td>\n      <td>926067</td>\n      <td>209456</td>\n    </tr>\n    <tr>\n      <th>2</th>\n      <td>Sinopec Group</td>\n      <td>3</td>\n      <td>267518</td>\n      <td>-9.1</td>\n      <td>1257.9</td>\n      <td>310726</td>\n      <td>-65.0</td>\n      <td>Wang Yupu</td>\n      <td>Petroleum Refining</td>\n      <td>Energy</td>\n      <td>4</td>\n      <td>China</td>\n      <td>Beijing, China</td>\n      <td>http://www.sinopec.com</td>\n      <td>19</td>\n      <td>713288</td>\n      <td>106523</td>\n    </tr>\n    <tr>\n      <th>3</th>\n      <td>China National Petroleum</td>\n      <td>4</td>\n      <td>262573</td>\n      <td>-12.3</td>\n      <td>1867.5</td>\n      <td>585619</td>\n      <td>-73.7</td>\n      <td>Zhang Jianhua</td>\n      <td>Petroleum Refining</td>\n      <td>Energy</td>\n      <td>3</td>\n      <td>China</td>\n      <td>Beijing, China</td>\n      <td>http://www.cnpc.com.cn</td>\n      <td>17</td>\n      <td>1512048</td>\n      <td>301893</td>\n    </tr>\n    <tr>\n      <th>4</th>\n      <td>Toyota Motor</td>\n      <td>5</td>\n      <td>254694</td>\n      <td>7.7</td>\n      <td>16899.3</td>\n      <td>437575</td>\n      <td>-12.3</td>\n      <td>Akio Toyoda</td>\n      <td>Motor Vehicles and Parts</td>\n      <td>Motor Vehicles &amp; Parts</td>\n      <td>8</td>\n      <td>Japan</td>\n      <td>Toyota, Japan</td>\n      <td>http://www.toyota-global.com</td>\n      <td>23</td>\n      <td>364445</td>\n      <td>157210</td>\n    </tr>\n  </tbody>\n</table>\n</div>"
     },
     "metadata": {},
     "execution_count": 9
    }
   ],
   "source": [
    "f500.head()"
   ]
  },
  {
   "cell_type": "code",
   "execution_count": 10,
   "metadata": {},
   "outputs": [
    {
     "output_type": "stream",
     "name": "stdout",
     "text": [
      "<class 'pandas.core.frame.DataFrame'>\nRangeIndex: 500 entries, 0 to 499\nData columns (total 17 columns):\n #   Column                    Non-Null Count  Dtype  \n---  ------                    --------------  -----  \n 0   company                   500 non-null    object \n 1   rank                      500 non-null    int64  \n 2   revenues                  500 non-null    int64  \n 3   revenue_change            498 non-null    float64\n 4   profits                   499 non-null    float64\n 5   assets                    500 non-null    int64  \n 6   profit_change             436 non-null    float64\n 7   ceo                       500 non-null    object \n 8   industry                  500 non-null    object \n 9   sector                    500 non-null    object \n 10  previous_rank             500 non-null    int64  \n 11  country                   500 non-null    object \n 12  hq_location               500 non-null    object \n 13  website                   500 non-null    object \n 14  years_on_global_500_list  500 non-null    int64  \n 15  employees                 500 non-null    int64  \n 16  total_stockholder_equity  500 non-null    int64  \ndtypes: float64(3), int64(7), object(7)\nmemory usage: 66.5+ KB\n"
     ]
    }
   ],
   "source": [
    "f500.info()"
   ]
  },
  {
   "cell_type": "code",
   "execution_count": 11,
   "metadata": {},
   "outputs": [
    {
     "output_type": "execute_result",
     "data": {
      "text/plain": [
       "             rank       revenues  revenue_change       profits        assets  \\\n",
       "count  500.000000     500.000000      498.000000    499.000000  5.000000e+02   \n",
       "mean   250.500000   55416.358000        4.538353   3055.203206  2.436323e+05   \n",
       "std    144.481833   45725.478963       28.549067   5171.981071  4.851937e+05   \n",
       "min      1.000000   21609.000000      -67.300000 -13038.000000  3.717000e+03   \n",
       "25%    125.750000   29003.000000       -5.900000    556.950000  3.658850e+04   \n",
       "50%    250.500000   40236.000000        0.550000   1761.600000  7.326150e+04   \n",
       "75%    375.250000   63926.750000        6.975000   3954.000000  1.805640e+05   \n",
       "max    500.000000  485873.000000      442.300000  45687.000000  3.473238e+06   \n",
       "\n",
       "       profit_change  previous_rank  years_on_global_500_list     employees  \\\n",
       "count     436.000000     500.000000                500.000000  5.000000e+02   \n",
       "mean       24.152752     222.134000                 15.036000  1.339983e+05   \n",
       "std       437.509566     146.941961                  7.932752  1.700878e+05   \n",
       "min      -793.700000       0.000000                  1.000000  3.280000e+02   \n",
       "25%       -22.775000      92.750000                  7.000000  4.293250e+04   \n",
       "50%        -0.350000     219.500000                 17.000000  9.291050e+04   \n",
       "75%        17.700000     347.250000                 23.000000  1.689172e+05   \n",
       "max      8909.500000     500.000000                 23.000000  2.300000e+06   \n",
       "\n",
       "       total_stockholder_equity  \n",
       "count                500.000000  \n",
       "mean               30628.076000  \n",
       "std                43642.576833  \n",
       "min               -59909.000000  \n",
       "25%                 7553.750000  \n",
       "50%                15809.500000  \n",
       "75%                37828.500000  \n",
       "max               301893.000000  "
      ],
      "text/html": "<div>\n<style scoped>\n    .dataframe tbody tr th:only-of-type {\n        vertical-align: middle;\n    }\n\n    .dataframe tbody tr th {\n        vertical-align: top;\n    }\n\n    .dataframe thead th {\n        text-align: right;\n    }\n</style>\n<table border=\"1\" class=\"dataframe\">\n  <thead>\n    <tr style=\"text-align: right;\">\n      <th></th>\n      <th>rank</th>\n      <th>revenues</th>\n      <th>revenue_change</th>\n      <th>profits</th>\n      <th>assets</th>\n      <th>profit_change</th>\n      <th>previous_rank</th>\n      <th>years_on_global_500_list</th>\n      <th>employees</th>\n      <th>total_stockholder_equity</th>\n    </tr>\n  </thead>\n  <tbody>\n    <tr>\n      <th>count</th>\n      <td>500.000000</td>\n      <td>500.000000</td>\n      <td>498.000000</td>\n      <td>499.000000</td>\n      <td>5.000000e+02</td>\n      <td>436.000000</td>\n      <td>500.000000</td>\n      <td>500.000000</td>\n      <td>5.000000e+02</td>\n      <td>500.000000</td>\n    </tr>\n    <tr>\n      <th>mean</th>\n      <td>250.500000</td>\n      <td>55416.358000</td>\n      <td>4.538353</td>\n      <td>3055.203206</td>\n      <td>2.436323e+05</td>\n      <td>24.152752</td>\n      <td>222.134000</td>\n      <td>15.036000</td>\n      <td>1.339983e+05</td>\n      <td>30628.076000</td>\n    </tr>\n    <tr>\n      <th>std</th>\n      <td>144.481833</td>\n      <td>45725.478963</td>\n      <td>28.549067</td>\n      <td>5171.981071</td>\n      <td>4.851937e+05</td>\n      <td>437.509566</td>\n      <td>146.941961</td>\n      <td>7.932752</td>\n      <td>1.700878e+05</td>\n      <td>43642.576833</td>\n    </tr>\n    <tr>\n      <th>min</th>\n      <td>1.000000</td>\n      <td>21609.000000</td>\n      <td>-67.300000</td>\n      <td>-13038.000000</td>\n      <td>3.717000e+03</td>\n      <td>-793.700000</td>\n      <td>0.000000</td>\n      <td>1.000000</td>\n      <td>3.280000e+02</td>\n      <td>-59909.000000</td>\n    </tr>\n    <tr>\n      <th>25%</th>\n      <td>125.750000</td>\n      <td>29003.000000</td>\n      <td>-5.900000</td>\n      <td>556.950000</td>\n      <td>3.658850e+04</td>\n      <td>-22.775000</td>\n      <td>92.750000</td>\n      <td>7.000000</td>\n      <td>4.293250e+04</td>\n      <td>7553.750000</td>\n    </tr>\n    <tr>\n      <th>50%</th>\n      <td>250.500000</td>\n      <td>40236.000000</td>\n      <td>0.550000</td>\n      <td>1761.600000</td>\n      <td>7.326150e+04</td>\n      <td>-0.350000</td>\n      <td>219.500000</td>\n      <td>17.000000</td>\n      <td>9.291050e+04</td>\n      <td>15809.500000</td>\n    </tr>\n    <tr>\n      <th>75%</th>\n      <td>375.250000</td>\n      <td>63926.750000</td>\n      <td>6.975000</td>\n      <td>3954.000000</td>\n      <td>1.805640e+05</td>\n      <td>17.700000</td>\n      <td>347.250000</td>\n      <td>23.000000</td>\n      <td>1.689172e+05</td>\n      <td>37828.500000</td>\n    </tr>\n    <tr>\n      <th>max</th>\n      <td>500.000000</td>\n      <td>485873.000000</td>\n      <td>442.300000</td>\n      <td>45687.000000</td>\n      <td>3.473238e+06</td>\n      <td>8909.500000</td>\n      <td>500.000000</td>\n      <td>23.000000</td>\n      <td>2.300000e+06</td>\n      <td>301893.000000</td>\n    </tr>\n  </tbody>\n</table>\n</div>"
     },
     "metadata": {},
     "execution_count": 11
    }
   ],
   "source": [
    "f500.describe()"
   ]
  },
  {
   "source": [
    "<table class=\"colwidths-given table\">\n",
    "<colgroup>\n",
    "<col style=\"width: 12%\">\n",
    "<col style=\"width: 40%\">\n",
    "<col style=\"width: 24%\">\n",
    "<col style=\"width: 24%\">\n",
    "</colgroup>\n",
    "<thead>\n",
    "<tr class=\"row-odd\"><th class=\"head\"><p>Format Type</p></th>\n",
    "<th class=\"head\"><p>Data Description</p></th>\n",
    "<th class=\"head\"><p>Reader</p></th>\n",
    "<th class=\"head\"><p>Writer</p></th>\n",
    "</tr>\n",
    "</thead>\n",
    "<tbody>\n",
    "<tr class=\"row-even\"><td><p>text</p></td>\n",
    "<td><p><a class=\"reference external\" href=\"https://en.wikipedia.org/wiki/Comma-separated_values\">CSV</a></p></td>\n",
    "<td><p><a class=\"reference internal\" href=\"#io-read-csv-table\"><span class=\"std std-ref\">read_csv</span></a></p></td>\n",
    "<td><p><a class=\"reference internal\" href=\"#io-store-in-csv\"><span class=\"std std-ref\">to_csv</span></a></p></td>\n",
    "</tr>\n",
    "<tr class=\"row-odd\"><td><p>text</p></td>\n",
    "<td><p>Fixed-Width Text File</p></td>\n",
    "<td><p><a class=\"reference internal\" href=\"#io-fwf-reader\"><span class=\"std std-ref\">read_fwf</span></a></p></td>\n",
    "<td></td>\n",
    "</tr>\n",
    "<tr class=\"row-even\"><td><p>text</p></td>\n",
    "<td><p><a class=\"reference external\" href=\"https://www.json.org/\">JSON</a></p></td>\n",
    "<td><p><a class=\"reference internal\" href=\"#io-json-reader\"><span class=\"std std-ref\">read_json</span></a></p></td>\n",
    "<td><p><a class=\"reference internal\" href=\"#io-json-writer\"><span class=\"std std-ref\">to_json</span></a></p></td>\n",
    "</tr>\n",
    "<tr class=\"row-odd\"><td><p>text</p></td>\n",
    "<td><p><a class=\"reference external\" href=\"https://en.wikipedia.org/wiki/HTML\">HTML</a></p></td>\n",
    "<td><p><a class=\"reference internal\" href=\"#io-read-html\"><span class=\"std std-ref\">read_html</span></a></p></td>\n",
    "<td><p><a class=\"reference internal\" href=\"#io-html\"><span class=\"std std-ref\">to_html</span></a></p></td>\n",
    "</tr>\n",
    "<tr class=\"row-even\"><td><p>text</p></td>\n",
    "<td><p>Local clipboard</p></td>\n",
    "<td><p><a class=\"reference internal\" href=\"#io-clipboard\"><span class=\"std std-ref\">read_clipboard</span></a></p></td>\n",
    "<td><p><a class=\"reference internal\" href=\"#io-clipboard\"><span class=\"std std-ref\">to_clipboard</span></a></p></td>\n",
    "</tr>\n",
    "<tr class=\"row-odd\"><td></td>\n",
    "<td><p><a class=\"reference external\" href=\"https://en.wikipedia.org/wiki/Microsoft_Excel\">MS Excel</a></p></td>\n",
    "<td><p><a class=\"reference internal\" href=\"#io-excel-reader\"><span class=\"std std-ref\">read_excel</span></a></p></td>\n",
    "<td><p><a class=\"reference internal\" href=\"#io-excel-writer\"><span class=\"std std-ref\">to_excel</span></a></p></td>\n",
    "</tr>\n",
    "<tr class=\"row-even\"><td><p>binary</p></td>\n",
    "<td><p><a class=\"reference external\" href=\"http://www.opendocumentformat.org\">OpenDocument</a></p></td>\n",
    "<td><p><a class=\"reference internal\" href=\"#io-ods\"><span class=\"std std-ref\">read_excel</span></a></p></td>\n",
    "<td></td>\n",
    "</tr>\n",
    "<tr class=\"row-odd\"><td><p>binary</p></td>\n",
    "<td><p><a class=\"reference external\" href=\"https://support.hdfgroup.org/HDF5/whatishdf5.html\">HDF5 Format</a></p></td>\n",
    "<td><p><a class=\"reference internal\" href=\"#io-hdf5\"><span class=\"std std-ref\">read_hdf</span></a></p></td>\n",
    "<td><p><a class=\"reference internal\" href=\"#io-hdf5\"><span class=\"std std-ref\">to_hdf</span></a></p></td>\n",
    "</tr>\n",
    "<tr class=\"row-even\"><td><p>binary</p></td>\n",
    "<td><p><a class=\"reference external\" href=\"https://github.com/wesm/feather\">Feather Format</a></p></td>\n",
    "<td><p><a class=\"reference internal\" href=\"#io-feather\"><span class=\"std std-ref\">read_feather</span></a></p></td>\n",
    "<td><p><a class=\"reference internal\" href=\"#io-feather\"><span class=\"std std-ref\">to_feather</span></a></p></td>\n",
    "</tr>\n",
    "<tr class=\"row-odd\"><td><p>binary</p></td>\n",
    "<td><p><a class=\"reference external\" href=\"https://parquet.apache.org/\">Parquet Format</a></p></td>\n",
    "<td><p><a class=\"reference internal\" href=\"#io-parquet\"><span class=\"std std-ref\">read_parquet</span></a></p></td>\n",
    "<td><p><a class=\"reference internal\" href=\"#io-parquet\"><span class=\"std std-ref\">to_parquet</span></a></p></td>\n",
    "</tr>\n",
    "<tr class=\"row-even\"><td><p>binary</p></td>\n",
    "<td><p><a class=\"reference external\" href=\"//https://orc.apache.org/\">ORC Format</a></p></td>\n",
    "<td><p><a class=\"reference internal\" href=\"#io-orc\"><span class=\"std std-ref\">read_orc</span></a></p></td>\n",
    "<td></td>\n",
    "</tr>\n",
    "<tr class=\"row-odd\"><td><p>binary</p></td>\n",
    "<td><p><a class=\"reference external\" href=\"https://msgpack.org/index.html\">Msgpack</a></p></td>\n",
    "<td><p><a class=\"reference internal\" href=\"#io-msgpack\"><span class=\"std std-ref\">read_msgpack</span></a></p></td>\n",
    "<td><p><a class=\"reference internal\" href=\"#io-msgpack\"><span class=\"std std-ref\">to_msgpack</span></a></p></td>\n",
    "</tr>\n",
    "<tr class=\"row-even\"><td><p>binary</p></td>\n",
    "<td><p><a class=\"reference external\" href=\"https://en.wikipedia.org/wiki/Stata\">Stata</a></p></td>\n",
    "<td><p><a class=\"reference internal\" href=\"#io-stata-reader\"><span class=\"std std-ref\">read_stata</span></a></p></td>\n",
    "<td><p><a class=\"reference internal\" href=\"#io-stata-writer\"><span class=\"std std-ref\">to_stata</span></a></p></td>\n",
    "</tr>\n",
    "<tr class=\"row-odd\"><td><p>binary</p></td>\n",
    "<td><p><a class=\"reference external\" href=\"https://en.wikipedia.org/wiki/SAS_(software)\">SAS</a></p></td>\n",
    "<td><p><a class=\"reference internal\" href=\"#io-sas-reader\"><span class=\"std std-ref\">read_sas</span></a></p></td>\n",
    "<td></td>\n",
    "</tr>\n",
    "<tr class=\"row-even\"><td><p>binary</p></td>\n",
    "<td><p><a class=\"reference external\" href=\"https://en.wikipedia.org/wiki/SPSS\">SPSS</a></p></td>\n",
    "<td><p><a class=\"reference internal\" href=\"#io-spss-reader\"><span class=\"std std-ref\">read_spss</span></a></p></td>\n",
    "<td></td>\n",
    "</tr>\n",
    "<tr class=\"row-odd\"><td><p>binary</p></td>\n",
    "<td><p><a class=\"reference external\" href=\"https://docs.python.org/3/library/pickle.html\">Python Pickle Format</a></p></td>\n",
    "<td><p><a class=\"reference internal\" href=\"#io-pickle\"><span class=\"std std-ref\">read_pickle</span></a></p></td>\n",
    "<td><p><a class=\"reference internal\" href=\"#io-pickle\"><span class=\"std std-ref\">to_pickle</span></a></p></td>\n",
    "</tr>\n",
    "<tr class=\"row-even\"><td><p>SQL</p></td>\n",
    "<td><p><a class=\"reference external\" href=\"https://en.wikipedia.org/wiki/SQL\">SQL</a></p></td>\n",
    "<td><p><a class=\"reference internal\" href=\"#io-sql\"><span class=\"std std-ref\">read_sql</span></a></p></td>\n",
    "<td><p><a class=\"reference internal\" href=\"#io-sql\"><span class=\"std std-ref\">to_sql</span></a></p></td>\n",
    "</tr>\n",
    "<tr class=\"row-odd\"><td><p>SQL</p></td>\n",
    "<td><p><a class=\"reference external\" href=\"https://en.wikipedia.org/wiki/BigQuery\">Google BigQuery</a></p></td>\n",
    "<td><p><a class=\"reference internal\" href=\"#io-bigquery\"><span class=\"std std-ref\">read_gbq</span></a></p></td>\n",
    "<td><p><a class=\"reference internal\" href=\"#io-bigquery\"><span class=\"std std-ref\">to_gbq</span></a></p></td>\n",
    "</tr>\n",
    "</tbody>\n",
    "</table>"
   ],
   "cell_type": "markdown",
   "metadata": {}
  },
  {
   "source": [
    "## JSON"
   ],
   "cell_type": "markdown",
   "metadata": {}
  },
  {
   "cell_type": "code",
   "execution_count": 12,
   "metadata": {},
   "outputs": [],
   "source": [
    "import json"
   ]
  },
  {
   "cell_type": "code",
   "execution_count": 17,
   "metadata": {},
   "outputs": [],
   "source": [
    "data = {\n",
    "    'president': {\n",
    "        \"name\": \"Zaphod Beeblebrox\",\n",
    "        \"species\": \"Betelgeusian\",\n",
    "        \"number_of_heads\": 3,\n",
    "        \"elected\": True\n",
    "    }\n",
    "}"
   ]
  },
  {
   "cell_type": "code",
   "execution_count": 18,
   "metadata": {},
   "outputs": [],
   "source": [
    "with open(\"data/data_file.json\", \"w\") as write_file:\n",
    "    json.dump(data, write_file)"
   ]
  },
  {
   "cell_type": "code",
   "execution_count": 24,
   "metadata": {},
   "outputs": [
    {
     "output_type": "execute_result",
     "data": {
      "text/plain": [
       "'{\"president\": {\"name\": \"Zaphod Beeblebrox\", \"species\": \"Betelgeusian\", \"number_of_heads\": 3, \"elected\": true}}'"
      ]
     },
     "metadata": {},
     "execution_count": 24
    }
   ],
   "source": [
    "a = json.dumps(data)\n",
    "a"
   ]
  },
  {
   "cell_type": "code",
   "execution_count": 23,
   "metadata": {},
   "outputs": [
    {
     "output_type": "execute_result",
     "data": {
      "text/plain": [
       "{'president': {'name': 'Zaphod Beeblebrox',\n",
       "  'species': 'Betelgeusian',\n",
       "  'number_of_heads': 3,\n",
       "  'elected': True}}"
      ]
     },
     "metadata": {},
     "execution_count": 23
    }
   ],
   "source": [
    "json.loads(a)"
   ]
  },
  {
   "cell_type": "code",
   "execution_count": 26,
   "metadata": {},
   "outputs": [],
   "source": [
    "with open(\"data/data_file.json\", \"r\") as file:\n",
    "    ab= json.load(file)"
   ]
  },
  {
   "cell_type": "code",
   "execution_count": 27,
   "metadata": {},
   "outputs": [
    {
     "output_type": "execute_result",
     "data": {
      "text/plain": [
       "{'president': {'name': 'Zaphod Beeblebrox',\n",
       "  'species': 'Betelgeusian',\n",
       "  'number_of_heads': 3,\n",
       "  'elected': True}}"
      ]
     },
     "metadata": {},
     "execution_count": 27
    }
   ],
   "source": [
    "ab"
   ]
  },
  {
   "source": [
    "#### Primer: ocenas.json"
   ],
   "cell_type": "markdown",
   "metadata": {}
  },
  {
   "cell_type": "code",
   "execution_count": 48,
   "metadata": {},
   "outputs": [
    {
     "output_type": "execute_result",
     "data": {
      "text/plain": [
       "      temp_anomaly_celsius\n",
       "year                      \n",
       "1880                 -0.12\n",
       "1881                 -0.09\n",
       "1882                 -0.10\n",
       "1883                 -0.18\n",
       "1884                 -0.27"
      ],
      "text/html": "<div>\n<style scoped>\n    .dataframe tbody tr th:only-of-type {\n        vertical-align: middle;\n    }\n\n    .dataframe tbody tr th {\n        vertical-align: top;\n    }\n\n    .dataframe thead th {\n        text-align: right;\n    }\n</style>\n<table border=\"1\" class=\"dataframe\">\n  <thead>\n    <tr style=\"text-align: right;\">\n      <th></th>\n      <th>temp_anomaly_celsius</th>\n    </tr>\n    <tr>\n      <th>year</th>\n      <th></th>\n    </tr>\n  </thead>\n  <tbody>\n    <tr>\n      <th>1880</th>\n      <td>-0.12</td>\n    </tr>\n    <tr>\n      <th>1881</th>\n      <td>-0.09</td>\n    </tr>\n    <tr>\n      <th>1882</th>\n      <td>-0.10</td>\n    </tr>\n    <tr>\n      <th>1883</th>\n      <td>-0.18</td>\n    </tr>\n    <tr>\n      <th>1884</th>\n      <td>-0.27</td>\n    </tr>\n  </tbody>\n</table>\n</div>"
     },
     "metadata": {},
     "execution_count": 48
    }
   ],
   "source": [
    "oceans = pd.read_json('data/ocenas.json')\n",
    "oceans.drop(columns='description', inplace=True)\n",
    "oceans.drop(['title', 'units', 'base_period', 'missing'], inplace=True)\n",
    "oceans.index.name = 'year'\n",
    "oceans.rename(columns={'data': 'temp_anomaly_celsius'}, inplace=True)\n",
    "oceans.index = pd.to_datetime(oceans.index).year\n",
    "oceans.head()"
   ]
  },
  {
   "cell_type": "code",
   "execution_count": 50,
   "metadata": {},
   "outputs": [
    {
     "output_type": "execute_result",
     "data": {
      "text/plain": [
       "0.04817518248175181"
      ]
     },
     "metadata": {},
     "execution_count": 50
    }
   ],
   "source": [
    "oceans['temp_anomaly_celsius'].mean()"
   ]
  },
  {
   "cell_type": "code",
   "execution_count": 51,
   "metadata": {},
   "outputs": [
    {
     "output_type": "execute_result",
     "data": {
      "text/plain": [
       "<AxesSubplot:xlabel='year'>"
      ]
     },
     "metadata": {},
     "execution_count": 51
    },
    {
     "output_type": "display_data",
     "data": {
      "text/plain": "<Figure size 432x288 with 1 Axes>",
      "image/svg+xml": "<?xml version=\"1.0\" encoding=\"utf-8\" standalone=\"no\"?>\n<!DOCTYPE svg PUBLIC \"-//W3C//DTD SVG 1.1//EN\"\n  \"http://www.w3.org/Graphics/SVG/1.1/DTD/svg11.dtd\">\n<!-- Created with matplotlib (https://matplotlib.org/) -->\n<svg height=\"262.19625pt\" version=\"1.1\" viewBox=\"0 0 386.941502 262.19625\" width=\"386.941502pt\" xmlns=\"http://www.w3.org/2000/svg\" xmlns:xlink=\"http://www.w3.org/1999/xlink\">\n <metadata>\n  <rdf:RDF xmlns:cc=\"http://creativecommons.org/ns#\" xmlns:dc=\"http://purl.org/dc/elements/1.1/\" xmlns:rdf=\"http://www.w3.org/1999/02/22-rdf-syntax-ns#\">\n   <cc:Work>\n    <dc:type rdf:resource=\"http://purl.org/dc/dcmitype/StillImage\"/>\n    <dc:date>2020-11-11T12:32:17.903558</dc:date>\n    <dc:format>image/svg+xml</dc:format>\n    <dc:creator>\n     <cc:Agent>\n      <dc:title>Matplotlib v3.3.2, https://matplotlib.org/</dc:title>\n     </cc:Agent>\n    </dc:creator>\n   </cc:Work>\n  </rdf:RDF>\n </metadata>\n <defs>\n  <style type=\"text/css\">*{stroke-linecap:butt;stroke-linejoin:round;}</style>\n </defs>\n <g id=\"figure_1\">\n  <g id=\"patch_1\">\n   <path d=\"M -0 262.19625 \nL 386.941502 262.19625 \nL 386.941502 0 \nL -0 0 \nz\n\" style=\"fill:none;\"/>\n  </g>\n  <g id=\"axes_1\">\n   <g id=\"patch_2\">\n    <path d=\"M 38.482813 224.64 \nL 373.282813 224.64 \nL 373.282813 7.2 \nL 38.482813 7.2 \nz\n\" style=\"fill:#ffffff;\"/>\n   </g>\n   <g id=\"matplotlib.axis_1\">\n    <g id=\"xtick_1\">\n     <g id=\"line2d_1\">\n      <defs>\n       <path d=\"M 0 0 \nL 0 3.5 \n\" id=\"md113f509d1\" style=\"stroke:#000000;stroke-width:0.8;\"/>\n      </defs>\n      <g>\n       <use style=\"stroke:#000000;stroke-width:0.8;\" x=\"53.700994\" xlink:href=\"#md113f509d1\" y=\"224.64\"/>\n      </g>\n     </g>\n     <g id=\"text_1\">\n      <!-- 1880 -->\n      <g transform=\"translate(40.975994 239.238437)scale(0.1 -0.1)\">\n       <defs>\n        <path d=\"M 12.40625 8.296875 \nL 28.515625 8.296875 \nL 28.515625 63.921875 \nL 10.984375 60.40625 \nL 10.984375 69.390625 \nL 28.421875 72.90625 \nL 38.28125 72.90625 \nL 38.28125 8.296875 \nL 54.390625 8.296875 \nL 54.390625 0 \nL 12.40625 0 \nz\n\" id=\"DejaVuSans-49\"/>\n        <path d=\"M 31.78125 34.625 \nQ 24.75 34.625 20.71875 30.859375 \nQ 16.703125 27.09375 16.703125 20.515625 \nQ 16.703125 13.921875 20.71875 10.15625 \nQ 24.75 6.390625 31.78125 6.390625 \nQ 38.8125 6.390625 42.859375 10.171875 \nQ 46.921875 13.96875 46.921875 20.515625 \nQ 46.921875 27.09375 42.890625 30.859375 \nQ 38.875 34.625 31.78125 34.625 \nz\nM 21.921875 38.8125 \nQ 15.578125 40.375 12.03125 44.71875 \nQ 8.5 49.078125 8.5 55.328125 \nQ 8.5 64.0625 14.71875 69.140625 \nQ 20.953125 74.21875 31.78125 74.21875 \nQ 42.671875 74.21875 48.875 69.140625 \nQ 55.078125 64.0625 55.078125 55.328125 \nQ 55.078125 49.078125 51.53125 44.71875 \nQ 48 40.375 41.703125 38.8125 \nQ 48.828125 37.15625 52.796875 32.3125 \nQ 56.78125 27.484375 56.78125 20.515625 \nQ 56.78125 9.90625 50.3125 4.234375 \nQ 43.84375 -1.421875 31.78125 -1.421875 \nQ 19.734375 -1.421875 13.25 4.234375 \nQ 6.78125 9.90625 6.78125 20.515625 \nQ 6.78125 27.484375 10.78125 32.3125 \nQ 14.796875 37.15625 21.921875 38.8125 \nz\nM 18.3125 54.390625 \nQ 18.3125 48.734375 21.84375 45.5625 \nQ 25.390625 42.390625 31.78125 42.390625 \nQ 38.140625 42.390625 41.71875 45.5625 \nQ 45.3125 48.734375 45.3125 54.390625 \nQ 45.3125 60.0625 41.71875 63.234375 \nQ 38.140625 66.40625 31.78125 66.40625 \nQ 25.390625 66.40625 21.84375 63.234375 \nQ 18.3125 60.0625 18.3125 54.390625 \nz\n\" id=\"DejaVuSans-56\"/>\n        <path d=\"M 31.78125 66.40625 \nQ 24.171875 66.40625 20.328125 58.90625 \nQ 16.5 51.421875 16.5 36.375 \nQ 16.5 21.390625 20.328125 13.890625 \nQ 24.171875 6.390625 31.78125 6.390625 \nQ 39.453125 6.390625 43.28125 13.890625 \nQ 47.125 21.390625 47.125 36.375 \nQ 47.125 51.421875 43.28125 58.90625 \nQ 39.453125 66.40625 31.78125 66.40625 \nz\nM 31.78125 74.21875 \nQ 44.046875 74.21875 50.515625 64.515625 \nQ 56.984375 54.828125 56.984375 36.375 \nQ 56.984375 17.96875 50.515625 8.265625 \nQ 44.046875 -1.421875 31.78125 -1.421875 \nQ 19.53125 -1.421875 13.0625 8.265625 \nQ 6.59375 17.96875 6.59375 36.375 \nQ 6.59375 54.828125 13.0625 64.515625 \nQ 19.53125 74.21875 31.78125 74.21875 \nz\n\" id=\"DejaVuSans-48\"/>\n       </defs>\n       <use xlink:href=\"#DejaVuSans-49\"/>\n       <use x=\"63.623047\" xlink:href=\"#DejaVuSans-56\"/>\n       <use x=\"127.246094\" xlink:href=\"#DejaVuSans-56\"/>\n       <use x=\"190.869141\" xlink:href=\"#DejaVuSans-48\"/>\n      </g>\n     </g>\n    </g>\n    <g id=\"xtick_2\">\n     <g id=\"line2d_2\">\n      <g>\n       <use style=\"stroke:#000000;stroke-width:0.8;\" x=\"98.460353\" xlink:href=\"#md113f509d1\" y=\"224.64\"/>\n      </g>\n     </g>\n     <g id=\"text_2\">\n      <!-- 1900 -->\n      <g transform=\"translate(85.735353 239.238437)scale(0.1 -0.1)\">\n       <defs>\n        <path d=\"M 10.984375 1.515625 \nL 10.984375 10.5 \nQ 14.703125 8.734375 18.5 7.8125 \nQ 22.3125 6.890625 25.984375 6.890625 \nQ 35.75 6.890625 40.890625 13.453125 \nQ 46.046875 20.015625 46.78125 33.40625 \nQ 43.953125 29.203125 39.59375 26.953125 \nQ 35.25 24.703125 29.984375 24.703125 \nQ 19.046875 24.703125 12.671875 31.3125 \nQ 6.296875 37.9375 6.296875 49.421875 \nQ 6.296875 60.640625 12.9375 67.421875 \nQ 19.578125 74.21875 30.609375 74.21875 \nQ 43.265625 74.21875 49.921875 64.515625 \nQ 56.59375 54.828125 56.59375 36.375 \nQ 56.59375 19.140625 48.40625 8.859375 \nQ 40.234375 -1.421875 26.421875 -1.421875 \nQ 22.703125 -1.421875 18.890625 -0.6875 \nQ 15.09375 0.046875 10.984375 1.515625 \nz\nM 30.609375 32.421875 \nQ 37.25 32.421875 41.125 36.953125 \nQ 45.015625 41.5 45.015625 49.421875 \nQ 45.015625 57.28125 41.125 61.84375 \nQ 37.25 66.40625 30.609375 66.40625 \nQ 23.96875 66.40625 20.09375 61.84375 \nQ 16.21875 57.28125 16.21875 49.421875 \nQ 16.21875 41.5 20.09375 36.953125 \nQ 23.96875 32.421875 30.609375 32.421875 \nz\n\" id=\"DejaVuSans-57\"/>\n       </defs>\n       <use xlink:href=\"#DejaVuSans-49\"/>\n       <use x=\"63.623047\" xlink:href=\"#DejaVuSans-57\"/>\n       <use x=\"127.246094\" xlink:href=\"#DejaVuSans-48\"/>\n       <use x=\"190.869141\" xlink:href=\"#DejaVuSans-48\"/>\n      </g>\n     </g>\n    </g>\n    <g id=\"xtick_3\">\n     <g id=\"line2d_3\">\n      <g>\n       <use style=\"stroke:#000000;stroke-width:0.8;\" x=\"143.219711\" xlink:href=\"#md113f509d1\" y=\"224.64\"/>\n      </g>\n     </g>\n     <g id=\"text_3\">\n      <!-- 1920 -->\n      <g transform=\"translate(130.494711 239.238437)scale(0.1 -0.1)\">\n       <defs>\n        <path d=\"M 19.1875 8.296875 \nL 53.609375 8.296875 \nL 53.609375 0 \nL 7.328125 0 \nL 7.328125 8.296875 \nQ 12.9375 14.109375 22.625 23.890625 \nQ 32.328125 33.6875 34.8125 36.53125 \nQ 39.546875 41.84375 41.421875 45.53125 \nQ 43.3125 49.21875 43.3125 52.78125 \nQ 43.3125 58.59375 39.234375 62.25 \nQ 35.15625 65.921875 28.609375 65.921875 \nQ 23.96875 65.921875 18.8125 64.3125 \nQ 13.671875 62.703125 7.8125 59.421875 \nL 7.8125 69.390625 \nQ 13.765625 71.78125 18.9375 73 \nQ 24.125 74.21875 28.421875 74.21875 \nQ 39.75 74.21875 46.484375 68.546875 \nQ 53.21875 62.890625 53.21875 53.421875 \nQ 53.21875 48.921875 51.53125 44.890625 \nQ 49.859375 40.875 45.40625 35.40625 \nQ 44.1875 33.984375 37.640625 27.21875 \nQ 31.109375 20.453125 19.1875 8.296875 \nz\n\" id=\"DejaVuSans-50\"/>\n       </defs>\n       <use xlink:href=\"#DejaVuSans-49\"/>\n       <use x=\"63.623047\" xlink:href=\"#DejaVuSans-57\"/>\n       <use x=\"127.246094\" xlink:href=\"#DejaVuSans-50\"/>\n       <use x=\"190.869141\" xlink:href=\"#DejaVuSans-48\"/>\n      </g>\n     </g>\n    </g>\n    <g id=\"xtick_4\">\n     <g id=\"line2d_4\">\n      <g>\n       <use style=\"stroke:#000000;stroke-width:0.8;\" x=\"187.979069\" xlink:href=\"#md113f509d1\" y=\"224.64\"/>\n      </g>\n     </g>\n     <g id=\"text_4\">\n      <!-- 1940 -->\n      <g transform=\"translate(175.254069 239.238437)scale(0.1 -0.1)\">\n       <defs>\n        <path d=\"M 37.796875 64.3125 \nL 12.890625 25.390625 \nL 37.796875 25.390625 \nz\nM 35.203125 72.90625 \nL 47.609375 72.90625 \nL 47.609375 25.390625 \nL 58.015625 25.390625 \nL 58.015625 17.1875 \nL 47.609375 17.1875 \nL 47.609375 0 \nL 37.796875 0 \nL 37.796875 17.1875 \nL 4.890625 17.1875 \nL 4.890625 26.703125 \nz\n\" id=\"DejaVuSans-52\"/>\n       </defs>\n       <use xlink:href=\"#DejaVuSans-49\"/>\n       <use x=\"63.623047\" xlink:href=\"#DejaVuSans-57\"/>\n       <use x=\"127.246094\" xlink:href=\"#DejaVuSans-52\"/>\n       <use x=\"190.869141\" xlink:href=\"#DejaVuSans-48\"/>\n      </g>\n     </g>\n    </g>\n    <g id=\"xtick_5\">\n     <g id=\"line2d_5\">\n      <g>\n       <use style=\"stroke:#000000;stroke-width:0.8;\" x=\"232.738427\" xlink:href=\"#md113f509d1\" y=\"224.64\"/>\n      </g>\n     </g>\n     <g id=\"text_5\">\n      <!-- 1960 -->\n      <g transform=\"translate(220.013427 239.238437)scale(0.1 -0.1)\">\n       <defs>\n        <path d=\"M 33.015625 40.375 \nQ 26.375 40.375 22.484375 35.828125 \nQ 18.609375 31.296875 18.609375 23.390625 \nQ 18.609375 15.53125 22.484375 10.953125 \nQ 26.375 6.390625 33.015625 6.390625 \nQ 39.65625 6.390625 43.53125 10.953125 \nQ 47.40625 15.53125 47.40625 23.390625 \nQ 47.40625 31.296875 43.53125 35.828125 \nQ 39.65625 40.375 33.015625 40.375 \nz\nM 52.59375 71.296875 \nL 52.59375 62.3125 \nQ 48.875 64.0625 45.09375 64.984375 \nQ 41.3125 65.921875 37.59375 65.921875 \nQ 27.828125 65.921875 22.671875 59.328125 \nQ 17.53125 52.734375 16.796875 39.40625 \nQ 19.671875 43.65625 24.015625 45.921875 \nQ 28.375 48.1875 33.59375 48.1875 \nQ 44.578125 48.1875 50.953125 41.515625 \nQ 57.328125 34.859375 57.328125 23.390625 \nQ 57.328125 12.15625 50.6875 5.359375 \nQ 44.046875 -1.421875 33.015625 -1.421875 \nQ 20.359375 -1.421875 13.671875 8.265625 \nQ 6.984375 17.96875 6.984375 36.375 \nQ 6.984375 53.65625 15.1875 63.9375 \nQ 23.390625 74.21875 37.203125 74.21875 \nQ 40.921875 74.21875 44.703125 73.484375 \nQ 48.484375 72.75 52.59375 71.296875 \nz\n\" id=\"DejaVuSans-54\"/>\n       </defs>\n       <use xlink:href=\"#DejaVuSans-49\"/>\n       <use x=\"63.623047\" xlink:href=\"#DejaVuSans-57\"/>\n       <use x=\"127.246094\" xlink:href=\"#DejaVuSans-54\"/>\n       <use x=\"190.869141\" xlink:href=\"#DejaVuSans-48\"/>\n      </g>\n     </g>\n    </g>\n    <g id=\"xtick_6\">\n     <g id=\"line2d_6\">\n      <g>\n       <use style=\"stroke:#000000;stroke-width:0.8;\" x=\"277.497786\" xlink:href=\"#md113f509d1\" y=\"224.64\"/>\n      </g>\n     </g>\n     <g id=\"text_6\">\n      <!-- 1980 -->\n      <g transform=\"translate(264.772786 239.238437)scale(0.1 -0.1)\">\n       <use xlink:href=\"#DejaVuSans-49\"/>\n       <use x=\"63.623047\" xlink:href=\"#DejaVuSans-57\"/>\n       <use x=\"127.246094\" xlink:href=\"#DejaVuSans-56\"/>\n       <use x=\"190.869141\" xlink:href=\"#DejaVuSans-48\"/>\n      </g>\n     </g>\n    </g>\n    <g id=\"xtick_7\">\n     <g id=\"line2d_7\">\n      <g>\n       <use style=\"stroke:#000000;stroke-width:0.8;\" x=\"322.257144\" xlink:href=\"#md113f509d1\" y=\"224.64\"/>\n      </g>\n     </g>\n     <g id=\"text_7\">\n      <!-- 2000 -->\n      <g transform=\"translate(309.532144 239.238437)scale(0.1 -0.1)\">\n       <use xlink:href=\"#DejaVuSans-50\"/>\n       <use x=\"63.623047\" xlink:href=\"#DejaVuSans-48\"/>\n       <use x=\"127.246094\" xlink:href=\"#DejaVuSans-48\"/>\n       <use x=\"190.869141\" xlink:href=\"#DejaVuSans-48\"/>\n      </g>\n     </g>\n    </g>\n    <g id=\"xtick_8\">\n     <g id=\"line2d_8\">\n      <g>\n       <use style=\"stroke:#000000;stroke-width:0.8;\" x=\"367.016502\" xlink:href=\"#md113f509d1\" y=\"224.64\"/>\n      </g>\n     </g>\n     <g id=\"text_8\">\n      <!-- 2020 -->\n      <g transform=\"translate(354.291502 239.238437)scale(0.1 -0.1)\">\n       <use xlink:href=\"#DejaVuSans-50\"/>\n       <use x=\"63.623047\" xlink:href=\"#DejaVuSans-48\"/>\n       <use x=\"127.246094\" xlink:href=\"#DejaVuSans-50\"/>\n       <use x=\"190.869141\" xlink:href=\"#DejaVuSans-48\"/>\n      </g>\n     </g>\n    </g>\n    <g id=\"text_9\">\n     <!-- year -->\n     <g transform=\"translate(194.727344 252.916562)scale(0.1 -0.1)\">\n      <defs>\n       <path d=\"M 32.171875 -5.078125 \nQ 28.375 -14.84375 24.75 -17.8125 \nQ 21.140625 -20.796875 15.09375 -20.796875 \nL 7.90625 -20.796875 \nL 7.90625 -13.28125 \nL 13.1875 -13.28125 \nQ 16.890625 -13.28125 18.9375 -11.515625 \nQ 21 -9.765625 23.484375 -3.21875 \nL 25.09375 0.875 \nL 2.984375 54.6875 \nL 12.5 54.6875 \nL 29.59375 11.921875 \nL 46.6875 54.6875 \nL 56.203125 54.6875 \nz\n\" id=\"DejaVuSans-121\"/>\n       <path d=\"M 56.203125 29.59375 \nL 56.203125 25.203125 \nL 14.890625 25.203125 \nQ 15.484375 15.921875 20.484375 11.0625 \nQ 25.484375 6.203125 34.421875 6.203125 \nQ 39.59375 6.203125 44.453125 7.46875 \nQ 49.3125 8.734375 54.109375 11.28125 \nL 54.109375 2.78125 \nQ 49.265625 0.734375 44.1875 -0.34375 \nQ 39.109375 -1.421875 33.890625 -1.421875 \nQ 20.796875 -1.421875 13.15625 6.1875 \nQ 5.515625 13.8125 5.515625 26.8125 \nQ 5.515625 40.234375 12.765625 48.109375 \nQ 20.015625 56 32.328125 56 \nQ 43.359375 56 49.78125 48.890625 \nQ 56.203125 41.796875 56.203125 29.59375 \nz\nM 47.21875 32.234375 \nQ 47.125 39.59375 43.09375 43.984375 \nQ 39.0625 48.390625 32.421875 48.390625 \nQ 24.90625 48.390625 20.390625 44.140625 \nQ 15.875 39.890625 15.1875 32.171875 \nz\n\" id=\"DejaVuSans-101\"/>\n       <path d=\"M 34.28125 27.484375 \nQ 23.390625 27.484375 19.1875 25 \nQ 14.984375 22.515625 14.984375 16.5 \nQ 14.984375 11.71875 18.140625 8.90625 \nQ 21.296875 6.109375 26.703125 6.109375 \nQ 34.1875 6.109375 38.703125 11.40625 \nQ 43.21875 16.703125 43.21875 25.484375 \nL 43.21875 27.484375 \nz\nM 52.203125 31.203125 \nL 52.203125 0 \nL 43.21875 0 \nL 43.21875 8.296875 \nQ 40.140625 3.328125 35.546875 0.953125 \nQ 30.953125 -1.421875 24.3125 -1.421875 \nQ 15.921875 -1.421875 10.953125 3.296875 \nQ 6 8.015625 6 15.921875 \nQ 6 25.140625 12.171875 29.828125 \nQ 18.359375 34.515625 30.609375 34.515625 \nL 43.21875 34.515625 \nL 43.21875 35.40625 \nQ 43.21875 41.609375 39.140625 45 \nQ 35.0625 48.390625 27.6875 48.390625 \nQ 23 48.390625 18.546875 47.265625 \nQ 14.109375 46.140625 10.015625 43.890625 \nL 10.015625 52.203125 \nQ 14.9375 54.109375 19.578125 55.046875 \nQ 24.21875 56 28.609375 56 \nQ 40.484375 56 46.34375 49.84375 \nQ 52.203125 43.703125 52.203125 31.203125 \nz\n\" id=\"DejaVuSans-97\"/>\n       <path d=\"M 41.109375 46.296875 \nQ 39.59375 47.171875 37.8125 47.578125 \nQ 36.03125 48 33.890625 48 \nQ 26.265625 48 22.1875 43.046875 \nQ 18.109375 38.09375 18.109375 28.8125 \nL 18.109375 0 \nL 9.078125 0 \nL 9.078125 54.6875 \nL 18.109375 54.6875 \nL 18.109375 46.1875 \nQ 20.953125 51.171875 25.484375 53.578125 \nQ 30.03125 56 36.53125 56 \nQ 37.453125 56 38.578125 55.875 \nQ 39.703125 55.765625 41.0625 55.515625 \nz\n\" id=\"DejaVuSans-114\"/>\n      </defs>\n      <use xlink:href=\"#DejaVuSans-121\"/>\n      <use x=\"59.179688\" xlink:href=\"#DejaVuSans-101\"/>\n      <use x=\"120.703125\" xlink:href=\"#DejaVuSans-97\"/>\n      <use x=\"181.982422\" xlink:href=\"#DejaVuSans-114\"/>\n     </g>\n    </g>\n   </g>\n   <g id=\"matplotlib.axis_2\">\n    <g id=\"ytick_1\">\n     <g id=\"line2d_9\">\n      <defs>\n       <path d=\"M 0 0 \nL -3.5 0 \n\" id=\"m9ceac6efc5\" style=\"stroke:#000000;stroke-width:0.8;\"/>\n      </defs>\n      <g>\n       <use style=\"stroke:#000000;stroke-width:0.8;\" x=\"38.482813\" xlink:href=\"#m9ceac6efc5\" y=\"207.892727\"/>\n      </g>\n     </g>\n     <g id=\"text_10\">\n      <!-- −0.4 -->\n      <g transform=\"translate(7.2 211.691946)scale(0.1 -0.1)\">\n       <defs>\n        <path d=\"M 10.59375 35.5 \nL 73.1875 35.5 \nL 73.1875 27.203125 \nL 10.59375 27.203125 \nz\n\" id=\"DejaVuSans-8722\"/>\n        <path d=\"M 10.6875 12.40625 \nL 21 12.40625 \nL 21 0 \nL 10.6875 0 \nz\n\" id=\"DejaVuSans-46\"/>\n       </defs>\n       <use xlink:href=\"#DejaVuSans-8722\"/>\n       <use x=\"83.789062\" xlink:href=\"#DejaVuSans-48\"/>\n       <use x=\"147.412109\" xlink:href=\"#DejaVuSans-46\"/>\n       <use x=\"179.199219\" xlink:href=\"#DejaVuSans-52\"/>\n      </g>\n     </g>\n    </g>\n    <g id=\"ytick_2\">\n     <g id=\"line2d_10\">\n      <g>\n       <use style=\"stroke:#000000;stroke-width:0.8;\" x=\"38.482813\" xlink:href=\"#m9ceac6efc5\" y=\"180.438182\"/>\n      </g>\n     </g>\n     <g id=\"text_11\">\n      <!-- −0.2 -->\n      <g transform=\"translate(7.2 184.237401)scale(0.1 -0.1)\">\n       <use xlink:href=\"#DejaVuSans-8722\"/>\n       <use x=\"83.789062\" xlink:href=\"#DejaVuSans-48\"/>\n       <use x=\"147.412109\" xlink:href=\"#DejaVuSans-46\"/>\n       <use x=\"179.199219\" xlink:href=\"#DejaVuSans-50\"/>\n      </g>\n     </g>\n    </g>\n    <g id=\"ytick_3\">\n     <g id=\"line2d_11\">\n      <g>\n       <use style=\"stroke:#000000;stroke-width:0.8;\" x=\"38.482813\" xlink:href=\"#m9ceac6efc5\" y=\"152.983636\"/>\n      </g>\n     </g>\n     <g id=\"text_12\">\n      <!-- 0.0 -->\n      <g transform=\"translate(15.579688 156.782855)scale(0.1 -0.1)\">\n       <use xlink:href=\"#DejaVuSans-48\"/>\n       <use x=\"63.623047\" xlink:href=\"#DejaVuSans-46\"/>\n       <use x=\"95.410156\" xlink:href=\"#DejaVuSans-48\"/>\n      </g>\n     </g>\n    </g>\n    <g id=\"ytick_4\">\n     <g id=\"line2d_12\">\n      <g>\n       <use style=\"stroke:#000000;stroke-width:0.8;\" x=\"38.482813\" xlink:href=\"#m9ceac6efc5\" y=\"125.529091\"/>\n      </g>\n     </g>\n     <g id=\"text_13\">\n      <!-- 0.2 -->\n      <g transform=\"translate(15.579688 129.32831)scale(0.1 -0.1)\">\n       <use xlink:href=\"#DejaVuSans-48\"/>\n       <use x=\"63.623047\" xlink:href=\"#DejaVuSans-46\"/>\n       <use x=\"95.410156\" xlink:href=\"#DejaVuSans-50\"/>\n      </g>\n     </g>\n    </g>\n    <g id=\"ytick_5\">\n     <g id=\"line2d_13\">\n      <g>\n       <use style=\"stroke:#000000;stroke-width:0.8;\" x=\"38.482813\" xlink:href=\"#m9ceac6efc5\" y=\"98.074545\"/>\n      </g>\n     </g>\n     <g id=\"text_14\">\n      <!-- 0.4 -->\n      <g transform=\"translate(15.579688 101.873764)scale(0.1 -0.1)\">\n       <use xlink:href=\"#DejaVuSans-48\"/>\n       <use x=\"63.623047\" xlink:href=\"#DejaVuSans-46\"/>\n       <use x=\"95.410156\" xlink:href=\"#DejaVuSans-52\"/>\n      </g>\n     </g>\n    </g>\n    <g id=\"ytick_6\">\n     <g id=\"line2d_14\">\n      <g>\n       <use style=\"stroke:#000000;stroke-width:0.8;\" x=\"38.482813\" xlink:href=\"#m9ceac6efc5\" y=\"70.62\"/>\n      </g>\n     </g>\n     <g id=\"text_15\">\n      <!-- 0.6 -->\n      <g transform=\"translate(15.579688 74.419219)scale(0.1 -0.1)\">\n       <use xlink:href=\"#DejaVuSans-48\"/>\n       <use x=\"63.623047\" xlink:href=\"#DejaVuSans-46\"/>\n       <use x=\"95.410156\" xlink:href=\"#DejaVuSans-54\"/>\n      </g>\n     </g>\n    </g>\n    <g id=\"ytick_7\">\n     <g id=\"line2d_15\">\n      <g>\n       <use style=\"stroke:#000000;stroke-width:0.8;\" x=\"38.482813\" xlink:href=\"#m9ceac6efc5\" y=\"43.165455\"/>\n      </g>\n     </g>\n     <g id=\"text_16\">\n      <!-- 0.8 -->\n      <g transform=\"translate(15.579688 46.964673)scale(0.1 -0.1)\">\n       <use xlink:href=\"#DejaVuSans-48\"/>\n       <use x=\"63.623047\" xlink:href=\"#DejaVuSans-46\"/>\n       <use x=\"95.410156\" xlink:href=\"#DejaVuSans-56\"/>\n      </g>\n     </g>\n    </g>\n    <g id=\"ytick_8\">\n     <g id=\"line2d_16\">\n      <g>\n       <use style=\"stroke:#000000;stroke-width:0.8;\" x=\"38.482813\" xlink:href=\"#m9ceac6efc5\" y=\"15.710909\"/>\n      </g>\n     </g>\n     <g id=\"text_17\">\n      <!-- 1.0 -->\n      <g transform=\"translate(15.579688 19.510128)scale(0.1 -0.1)\">\n       <use xlink:href=\"#DejaVuSans-49\"/>\n       <use x=\"63.623047\" xlink:href=\"#DejaVuSans-46\"/>\n       <use x=\"95.410156\" xlink:href=\"#DejaVuSans-48\"/>\n      </g>\n     </g>\n    </g>\n   </g>\n   <g id=\"line2d_17\">\n    <path clip-path=\"url(#p46169b0da7)\" d=\"M 53.700994 169.456364 \nL 55.938962 165.338182 \nL 58.17693 166.710909 \nL 60.414898 177.692727 \nL 62.652866 190.047273 \nL 64.890834 187.301818 \nL 67.128802 187.301818 \nL 69.36677 192.792727 \nL 71.604738 170.829091 \nL 73.842706 165.338182 \nL 76.080673 201.029091 \nL 78.318641 188.674545 \nL 80.556609 195.538182 \nL 82.794577 198.283636 \nL 85.032545 195.538182 \nL 87.270513 185.929091 \nL 89.508481 165.338182 \nL 91.746449 166.710909 \nL 93.984417 190.047273 \nL 96.222385 173.574545 \nL 98.460353 162.592727 \nL 100.698321 173.574545 \nL 102.936288 187.301818 \nL 105.174256 203.774545 \nL 107.412224 214.756364 \nL 109.650192 190.047273 \nL 111.88816 180.438182 \nL 114.126128 205.147273 \nL 116.364096 212.010909 \nL 118.602064 213.383636 \nL 120.840032 207.892727 \nL 123.078 213.383636 \nL 125.315968 198.283636 \nL 127.553935 196.910909 \nL 129.791903 172.201818 \nL 132.029871 165.338182 \nL 134.267839 196.910909 \nL 136.505807 207.892727 \nL 138.743775 194.165455 \nL 140.981743 187.301818 \nL 143.219711 184.556364 \nL 145.457679 174.947273 \nL 147.695647 185.929091 \nL 149.933615 187.301818 \nL 152.171583 185.929091 \nL 154.40955 177.692727 \nL 156.647518 163.965455 \nL 158.885486 176.32 \nL 161.123454 177.692727 \nL 163.361422 198.283636 \nL 165.59939 168.083636 \nL 167.837358 161.22 \nL 170.075326 170.829091 \nL 172.313294 188.674545 \nL 174.551262 168.083636 \nL 176.78923 174.947273 \nL 179.027198 169.456364 \nL 181.265165 154.356364 \nL 183.503133 155.729091 \nL 185.741101 151.610909 \nL 187.979069 131.02 \nL 190.217037 115.92 \nL 192.455005 137.883636 \nL 194.692973 139.256364 \nL 196.930941 114.547273 \nL 199.168909 129.647273 \nL 201.406877 154.356364 \nL 203.644845 158.474545 \nL 205.882812 159.847273 \nL 208.12078 162.592727 \nL 210.358748 173.574545 \nL 212.596716 152.983636 \nL 214.834684 147.492727 \nL 217.072652 135.138182 \nL 219.31062 166.710909 \nL 221.548588 170.829091 \nL 223.786556 177.692727 \nL 226.024524 143.374545 \nL 228.262492 135.138182 \nL 230.50046 142.001818 \nL 232.738427 146.12 \nL 234.976395 139.256364 \nL 239.452331 136.510909 \nL 241.690299 172.201818 \nL 243.928267 162.592727 \nL 246.166235 154.356364 \nL 248.404203 152.983636 \nL 250.642171 157.101818 \nL 252.880139 137.883636 \nL 255.118107 144.747273 \nL 257.356075 162.592727 \nL 259.594042 147.492727 \nL 261.83201 126.901818 \nL 264.069978 161.22 \nL 266.307946 151.610909 \nL 268.545914 162.592727 \nL 270.783882 124.156364 \nL 273.02185 136.510909 \nL 275.259818 121.410909 \nL 277.497786 114.547273 \nL 279.735754 109.056364 \nL 281.973722 126.901818 \nL 284.21169 103.565455 \nL 286.449657 129.647273 \nL 288.687625 131.02 \nL 290.925593 120.038182 \nL 293.163561 100.82 \nL 295.401529 99.447273 \nL 297.639497 113.174545 \nL 299.877465 91.210909 \nL 302.115433 99.447273 \nL 304.353401 120.038182 \nL 306.591369 114.547273 \nL 308.829337 106.310909 \nL 311.067304 88.465455 \nL 313.305272 109.056364 \nL 315.54324 82.974545 \nL 317.781208 63.756364 \nL 320.019176 92.583636 \nL 322.257144 93.956364 \nL 324.495112 74.738182 \nL 326.73308 67.874545 \nL 328.971048 65.129091 \nL 331.209016 73.365455 \nL 333.446984 61.010909 \nL 335.684952 65.129091 \nL 337.922919 67.874545 \nL 340.160887 78.856364 \nL 342.398855 63.756364 \nL 344.636823 54.147273 \nL 346.874791 73.365455 \nL 349.112759 65.129091 \nL 351.350727 61.010909 \nL 353.588695 51.401818 \nL 355.826663 25.32 \nL 358.064631 17.083636 \nL 358.064631 17.083636 \n\" style=\"fill:none;stroke:#1f77b4;stroke-linecap:square;stroke-width:1.5;\"/>\n   </g>\n   <g id=\"patch_3\">\n    <path d=\"M 38.482813 224.64 \nL 38.482813 7.2 \n\" style=\"fill:none;stroke:#000000;stroke-linecap:square;stroke-linejoin:miter;stroke-width:0.8;\"/>\n   </g>\n   <g id=\"patch_4\">\n    <path d=\"M 373.282813 224.64 \nL 373.282813 7.2 \n\" style=\"fill:none;stroke:#000000;stroke-linecap:square;stroke-linejoin:miter;stroke-width:0.8;\"/>\n   </g>\n   <g id=\"patch_5\">\n    <path d=\"M 38.482813 224.64 \nL 373.282812 224.64 \n\" style=\"fill:none;stroke:#000000;stroke-linecap:square;stroke-linejoin:miter;stroke-width:0.8;\"/>\n   </g>\n   <g id=\"patch_6\">\n    <path d=\"M 38.482813 7.2 \nL 373.282812 7.2 \n\" style=\"fill:none;stroke:#000000;stroke-linecap:square;stroke-linejoin:miter;stroke-width:0.8;\"/>\n   </g>\n   <g id=\"legend_1\">\n    <g id=\"patch_7\">\n     <path d=\"M 45.482813 30.15625 \nL 190.759375 30.15625 \nQ 192.759375 30.15625 192.759375 28.15625 \nL 192.759375 14.2 \nQ 192.759375 12.2 190.759375 12.2 \nL 45.482813 12.2 \nQ 43.482813 12.2 43.482813 14.2 \nL 43.482813 28.15625 \nQ 43.482813 30.15625 45.482813 30.15625 \nz\n\" style=\"fill:#ffffff;opacity:0.8;stroke:#cccccc;stroke-linejoin:miter;\"/>\n    </g>\n    <g id=\"line2d_18\">\n     <path d=\"M 47.482813 20.298437 \nL 67.482812 20.298437 \n\" style=\"fill:none;stroke:#1f77b4;stroke-linecap:square;stroke-width:1.5;\"/>\n    </g>\n    <g id=\"line2d_19\"/>\n    <g id=\"text_18\">\n     <!-- temp_anomaly_celsius -->\n     <g transform=\"translate(75.482812 23.798437)scale(0.1 -0.1)\">\n      <defs>\n       <path d=\"M 18.3125 70.21875 \nL 18.3125 54.6875 \nL 36.8125 54.6875 \nL 36.8125 47.703125 \nL 18.3125 47.703125 \nL 18.3125 18.015625 \nQ 18.3125 11.328125 20.140625 9.421875 \nQ 21.96875 7.515625 27.59375 7.515625 \nL 36.8125 7.515625 \nL 36.8125 0 \nL 27.59375 0 \nQ 17.1875 0 13.234375 3.875 \nQ 9.28125 7.765625 9.28125 18.015625 \nL 9.28125 47.703125 \nL 2.6875 47.703125 \nL 2.6875 54.6875 \nL 9.28125 54.6875 \nL 9.28125 70.21875 \nz\n\" id=\"DejaVuSans-116\"/>\n       <path d=\"M 52 44.1875 \nQ 55.375 50.25 60.0625 53.125 \nQ 64.75 56 71.09375 56 \nQ 79.640625 56 84.28125 50.015625 \nQ 88.921875 44.046875 88.921875 33.015625 \nL 88.921875 0 \nL 79.890625 0 \nL 79.890625 32.71875 \nQ 79.890625 40.578125 77.09375 44.375 \nQ 74.3125 48.1875 68.609375 48.1875 \nQ 61.625 48.1875 57.5625 43.546875 \nQ 53.515625 38.921875 53.515625 30.90625 \nL 53.515625 0 \nL 44.484375 0 \nL 44.484375 32.71875 \nQ 44.484375 40.625 41.703125 44.40625 \nQ 38.921875 48.1875 33.109375 48.1875 \nQ 26.21875 48.1875 22.15625 43.53125 \nQ 18.109375 38.875 18.109375 30.90625 \nL 18.109375 0 \nL 9.078125 0 \nL 9.078125 54.6875 \nL 18.109375 54.6875 \nL 18.109375 46.1875 \nQ 21.1875 51.21875 25.484375 53.609375 \nQ 29.78125 56 35.6875 56 \nQ 41.65625 56 45.828125 52.96875 \nQ 50 49.953125 52 44.1875 \nz\n\" id=\"DejaVuSans-109\"/>\n       <path d=\"M 18.109375 8.203125 \nL 18.109375 -20.796875 \nL 9.078125 -20.796875 \nL 9.078125 54.6875 \nL 18.109375 54.6875 \nL 18.109375 46.390625 \nQ 20.953125 51.265625 25.265625 53.625 \nQ 29.59375 56 35.59375 56 \nQ 45.5625 56 51.78125 48.09375 \nQ 58.015625 40.1875 58.015625 27.296875 \nQ 58.015625 14.40625 51.78125 6.484375 \nQ 45.5625 -1.421875 35.59375 -1.421875 \nQ 29.59375 -1.421875 25.265625 0.953125 \nQ 20.953125 3.328125 18.109375 8.203125 \nz\nM 48.6875 27.296875 \nQ 48.6875 37.203125 44.609375 42.84375 \nQ 40.53125 48.484375 33.40625 48.484375 \nQ 26.265625 48.484375 22.1875 42.84375 \nQ 18.109375 37.203125 18.109375 27.296875 \nQ 18.109375 17.390625 22.1875 11.75 \nQ 26.265625 6.109375 33.40625 6.109375 \nQ 40.53125 6.109375 44.609375 11.75 \nQ 48.6875 17.390625 48.6875 27.296875 \nz\n\" id=\"DejaVuSans-112\"/>\n       <path d=\"M 50.984375 -16.609375 \nL 50.984375 -23.578125 \nL -0.984375 -23.578125 \nL -0.984375 -16.609375 \nz\n\" id=\"DejaVuSans-95\"/>\n       <path d=\"M 54.890625 33.015625 \nL 54.890625 0 \nL 45.90625 0 \nL 45.90625 32.71875 \nQ 45.90625 40.484375 42.875 44.328125 \nQ 39.84375 48.1875 33.796875 48.1875 \nQ 26.515625 48.1875 22.3125 43.546875 \nQ 18.109375 38.921875 18.109375 30.90625 \nL 18.109375 0 \nL 9.078125 0 \nL 9.078125 54.6875 \nL 18.109375 54.6875 \nL 18.109375 46.1875 \nQ 21.34375 51.125 25.703125 53.5625 \nQ 30.078125 56 35.796875 56 \nQ 45.21875 56 50.046875 50.171875 \nQ 54.890625 44.34375 54.890625 33.015625 \nz\n\" id=\"DejaVuSans-110\"/>\n       <path d=\"M 30.609375 48.390625 \nQ 23.390625 48.390625 19.1875 42.75 \nQ 14.984375 37.109375 14.984375 27.296875 \nQ 14.984375 17.484375 19.15625 11.84375 \nQ 23.34375 6.203125 30.609375 6.203125 \nQ 37.796875 6.203125 41.984375 11.859375 \nQ 46.1875 17.53125 46.1875 27.296875 \nQ 46.1875 37.015625 41.984375 42.703125 \nQ 37.796875 48.390625 30.609375 48.390625 \nz\nM 30.609375 56 \nQ 42.328125 56 49.015625 48.375 \nQ 55.71875 40.765625 55.71875 27.296875 \nQ 55.71875 13.875 49.015625 6.21875 \nQ 42.328125 -1.421875 30.609375 -1.421875 \nQ 18.84375 -1.421875 12.171875 6.21875 \nQ 5.515625 13.875 5.515625 27.296875 \nQ 5.515625 40.765625 12.171875 48.375 \nQ 18.84375 56 30.609375 56 \nz\n\" id=\"DejaVuSans-111\"/>\n       <path d=\"M 9.421875 75.984375 \nL 18.40625 75.984375 \nL 18.40625 0 \nL 9.421875 0 \nz\n\" id=\"DejaVuSans-108\"/>\n       <path d=\"M 48.78125 52.59375 \nL 48.78125 44.1875 \nQ 44.96875 46.296875 41.140625 47.34375 \nQ 37.3125 48.390625 33.40625 48.390625 \nQ 24.65625 48.390625 19.8125 42.84375 \nQ 14.984375 37.3125 14.984375 27.296875 \nQ 14.984375 17.28125 19.8125 11.734375 \nQ 24.65625 6.203125 33.40625 6.203125 \nQ 37.3125 6.203125 41.140625 7.25 \nQ 44.96875 8.296875 48.78125 10.40625 \nL 48.78125 2.09375 \nQ 45.015625 0.34375 40.984375 -0.53125 \nQ 36.96875 -1.421875 32.421875 -1.421875 \nQ 20.0625 -1.421875 12.78125 6.34375 \nQ 5.515625 14.109375 5.515625 27.296875 \nQ 5.515625 40.671875 12.859375 48.328125 \nQ 20.21875 56 33.015625 56 \nQ 37.15625 56 41.109375 55.140625 \nQ 45.0625 54.296875 48.78125 52.59375 \nz\n\" id=\"DejaVuSans-99\"/>\n       <path d=\"M 44.28125 53.078125 \nL 44.28125 44.578125 \nQ 40.484375 46.53125 36.375 47.5 \nQ 32.28125 48.484375 27.875 48.484375 \nQ 21.1875 48.484375 17.84375 46.4375 \nQ 14.5 44.390625 14.5 40.28125 \nQ 14.5 37.15625 16.890625 35.375 \nQ 19.28125 33.59375 26.515625 31.984375 \nL 29.59375 31.296875 \nQ 39.15625 29.25 43.1875 25.515625 \nQ 47.21875 21.78125 47.21875 15.09375 \nQ 47.21875 7.46875 41.1875 3.015625 \nQ 35.15625 -1.421875 24.609375 -1.421875 \nQ 20.21875 -1.421875 15.453125 -0.5625 \nQ 10.6875 0.296875 5.421875 2 \nL 5.421875 11.28125 \nQ 10.40625 8.6875 15.234375 7.390625 \nQ 20.0625 6.109375 24.8125 6.109375 \nQ 31.15625 6.109375 34.5625 8.28125 \nQ 37.984375 10.453125 37.984375 14.40625 \nQ 37.984375 18.0625 35.515625 20.015625 \nQ 33.0625 21.96875 24.703125 23.78125 \nL 21.578125 24.515625 \nQ 13.234375 26.265625 9.515625 29.90625 \nQ 5.8125 33.546875 5.8125 39.890625 \nQ 5.8125 47.609375 11.28125 51.796875 \nQ 16.75 56 26.8125 56 \nQ 31.78125 56 36.171875 55.265625 \nQ 40.578125 54.546875 44.28125 53.078125 \nz\n\" id=\"DejaVuSans-115\"/>\n       <path d=\"M 9.421875 54.6875 \nL 18.40625 54.6875 \nL 18.40625 0 \nL 9.421875 0 \nz\nM 9.421875 75.984375 \nL 18.40625 75.984375 \nL 18.40625 64.59375 \nL 9.421875 64.59375 \nz\n\" id=\"DejaVuSans-105\"/>\n       <path d=\"M 8.5 21.578125 \nL 8.5 54.6875 \nL 17.484375 54.6875 \nL 17.484375 21.921875 \nQ 17.484375 14.15625 20.5 10.265625 \nQ 23.53125 6.390625 29.59375 6.390625 \nQ 36.859375 6.390625 41.078125 11.03125 \nQ 45.3125 15.671875 45.3125 23.6875 \nL 45.3125 54.6875 \nL 54.296875 54.6875 \nL 54.296875 0 \nL 45.3125 0 \nL 45.3125 8.40625 \nQ 42.046875 3.421875 37.71875 1 \nQ 33.40625 -1.421875 27.6875 -1.421875 \nQ 18.265625 -1.421875 13.375 4.4375 \nQ 8.5 10.296875 8.5 21.578125 \nz\nM 31.109375 56 \nz\n\" id=\"DejaVuSans-117\"/>\n      </defs>\n      <use xlink:href=\"#DejaVuSans-116\"/>\n      <use x=\"39.208984\" xlink:href=\"#DejaVuSans-101\"/>\n      <use x=\"100.732422\" xlink:href=\"#DejaVuSans-109\"/>\n      <use x=\"198.144531\" xlink:href=\"#DejaVuSans-112\"/>\n      <use x=\"261.621094\" xlink:href=\"#DejaVuSans-95\"/>\n      <use x=\"311.621094\" xlink:href=\"#DejaVuSans-97\"/>\n      <use x=\"372.900391\" xlink:href=\"#DejaVuSans-110\"/>\n      <use x=\"436.279297\" xlink:href=\"#DejaVuSans-111\"/>\n      <use x=\"497.460938\" xlink:href=\"#DejaVuSans-109\"/>\n      <use x=\"594.873047\" xlink:href=\"#DejaVuSans-97\"/>\n      <use x=\"656.152344\" xlink:href=\"#DejaVuSans-108\"/>\n      <use x=\"683.935547\" xlink:href=\"#DejaVuSans-121\"/>\n      <use x=\"743.115234\" xlink:href=\"#DejaVuSans-95\"/>\n      <use x=\"793.115234\" xlink:href=\"#DejaVuSans-99\"/>\n      <use x=\"848.095703\" xlink:href=\"#DejaVuSans-101\"/>\n      <use x=\"909.619141\" xlink:href=\"#DejaVuSans-108\"/>\n      <use x=\"937.402344\" xlink:href=\"#DejaVuSans-115\"/>\n      <use x=\"989.501953\" xlink:href=\"#DejaVuSans-105\"/>\n      <use x=\"1017.285156\" xlink:href=\"#DejaVuSans-117\"/>\n      <use x=\"1080.664062\" xlink:href=\"#DejaVuSans-115\"/>\n     </g>\n    </g>\n   </g>\n  </g>\n </g>\n <defs>\n  <clipPath id=\"p46169b0da7\">\n   <rect height=\"217.44\" width=\"334.8\" x=\"38.482813\" y=\"7.2\"/>\n  </clipPath>\n </defs>\n</svg>\n",
      "image/png": "[encoded data removed]"
     },
     "metadata": {
      "needs_background": "light"
     }
    }
   ],
   "source": [
    "oceans.plot()"
   ]
  },
  {
   "cell_type": "code",
   "execution_count": 53,
   "metadata": {},
   "outputs": [
    {
     "output_type": "execute_result",
     "data": {
      "text/plain": [
       "442.3"
      ]
     },
     "metadata": {},
     "execution_count": 53
    }
   ],
   "source": [
    "f500['revenue_change'].max()\n",
    "\n"
   ]
  },
  {
   "cell_type": "code",
   "execution_count": 54,
   "metadata": {},
   "outputs": [
    {
     "output_type": "execute_result",
     "data": {
      "text/plain": [
       "                            company  rank  revenues  revenue_change  profits  \\\n",
       "0                           Walmart     1    485873             0.8  13643.0   \n",
       "1                        State Grid     2    315199            -4.4   9571.3   \n",
       "2                     Sinopec Group     3    267518            -9.1   1257.9   \n",
       "3          China National Petroleum     4    262573           -12.3   1867.5   \n",
       "4                      Toyota Motor     5    254694             7.7  16899.3   \n",
       "..                              ...   ...       ...             ...      ...   \n",
       "495  Teva Pharmaceutical Industries   496     21903            11.5    329.0   \n",
       "496        New China Life Insurance   497     21796           -13.3    743.9   \n",
       "497       Wm. Morrison Supermarkets   498     21741           -11.3    406.4   \n",
       "498                             TUI   499     21655            -5.5   1151.7   \n",
       "499                      AutoNation   500     21609             3.6    430.5   \n",
       "\n",
       "     assets  profit_change                  ceo  \\\n",
       "0    198825           -7.2  C. Douglas McMillon   \n",
       "1    489838           -6.2              Kou Wei   \n",
       "2    310726          -65.0            Wang Yupu   \n",
       "3    585619          -73.7        Zhang Jianhua   \n",
       "4    437575          -12.3          Akio Toyoda   \n",
       "..      ...            ...                  ...   \n",
       "495   92890          -79.3    Yitzhak Peterburg   \n",
       "496  100609          -45.6             Wan Feng   \n",
       "497   11630           20.4       David T. Potts   \n",
       "498   16247          195.5    Friedrich Joussen   \n",
       "499   10060           -2.7   Michael J. Jackson   \n",
       "\n",
       "                            industry                  sector  previous_rank  \\\n",
       "0              General Merchandisers               Retailing              1   \n",
       "1                          Utilities                  Energy              2   \n",
       "2                 Petroleum Refining                  Energy              4   \n",
       "3                 Petroleum Refining                  Energy              3   \n",
       "4           Motor Vehicles and Parts  Motor Vehicles & Parts              8   \n",
       "..                               ...                     ...            ...   \n",
       "495                  Pharmaceuticals             Health Care              0   \n",
       "496  Insurance: Life, Health (stock)              Financials            427   \n",
       "497             Food and Drug Stores      Food & Drug Stores            437   \n",
       "498                  Travel Services       Business Services            467   \n",
       "499              Specialty Retailers               Retailing              0   \n",
       "\n",
       "     country           hq_location                       website  \\\n",
       "0        USA       Bentonville, AR        http://www.walmart.com   \n",
       "1      China        Beijing, China        http://www.sgcc.com.cn   \n",
       "2      China        Beijing, China        http://www.sinopec.com   \n",
       "3      China        Beijing, China        http://www.cnpc.com.cn   \n",
       "4      Japan         Toyota, Japan  http://www.toyota-global.com   \n",
       "..       ...                   ...                           ...   \n",
       "495   Israel  Petach Tikva, Israel      http://www.tevapharm.com   \n",
       "496    China        Beijing, China   http://www.newchinalife.com   \n",
       "497  Britain     Bradford, Britain      http://www.morrisons.com   \n",
       "498  Germany      Hanover, Germany       http://www.tuigroup.com   \n",
       "499      USA   Fort Lauderdale, FL     http://www.autonation.com   \n",
       "\n",
       "     years_on_global_500_list  employees  total_stockholder_equity  \n",
       "0                          23    2300000                     77798  \n",
       "1                          17     926067                    209456  \n",
       "2                          19     713288                    106523  \n",
       "3                          17    1512048                    301893  \n",
       "4                          23     364445                    157210  \n",
       "..                        ...        ...                       ...  \n",
       "495                         1      56960                     33337  \n",
       "496                         2      54378                      8507  \n",
       "497                        13      77210                      5111  \n",
       "498                        23      66779                      3006  \n",
       "499                        12      26000                      2310  \n",
       "\n",
       "[500 rows x 17 columns]"
      ],
      "text/html": "<div>\n<style scoped>\n    .dataframe tbody tr th:only-of-type {\n        vertical-align: middle;\n    }\n\n    .dataframe tbody tr th {\n        vertical-align: top;\n    }\n\n    .dataframe thead th {\n        text-align: right;\n    }\n</style>\n<table border=\"1\" class=\"dataframe\">\n  <thead>\n    <tr style=\"text-align: right;\">\n      <th></th>\n      <th>company</th>\n      <th>rank</th>\n      <th>revenues</th>\n      <th>revenue_change</th>\n      <th>profits</th>\n      <th>assets</th>\n      <th>profit_change</th>\n      <th>ceo</th>\n      <th>industry</th>\n      <th>sector</th>\n      <th>previous_rank</th>\n      <th>country</th>\n      <th>hq_location</th>\n      <th>website</th>\n      <th>years_on_global_500_list</th>\n      <th>employees</th>\n      <th>total_stockholder_equity</th>\n    </tr>\n  </thead>\n  <tbody>\n    <tr>\n      <th>0</th>\n      <td>Walmart</td>\n      <td>1</td>\n      <td>485873</td>\n      <td>0.8</td>\n      <td>13643.0</td>\n      <td>198825</td>\n      <td>-7.2</td>\n      <td>C. Douglas McMillon</td>\n      <td>General Merchandisers</td>\n      <td>Retailing</td>\n      <td>1</td>\n      <td>USA</td>\n      <td>Bentonville, AR</td>\n      <td>http://www.walmart.com</td>\n      <td>23</td>\n      <td>2300000</td>\n      <td>77798</td>\n    </tr>\n    <tr>\n      <th>1</th>\n      <td>State Grid</td>\n      <td>2</td>\n      <td>315199</td>\n      <td>-4.4</td>\n      <td>9571.3</td>\n      <td>489838</td>\n      <td>-6.2</td>\n      <td>Kou Wei</td>\n      <td>Utilities</td>\n      <td>Energy</td>\n      <td>2</td>\n      <td>China</td>\n      <td>Beijing, China</td>\n      <td>http://www.sgcc.com.cn</td>\n      <td>17</td>\n      <td>926067</td>\n      <td>209456</td>\n    </tr>\n    <tr>\n      <th>2</th>\n      <td>Sinopec Group</td>\n      <td>3</td>\n      <td>267518</td>\n      <td>-9.1</td>\n      <td>1257.9</td>\n      <td>310726</td>\n      <td>-65.0</td>\n      <td>Wang Yupu</td>\n      <td>Petroleum Refining</td>\n      <td>Energy</td>\n      <td>4</td>\n      <td>China</td>\n      <td>Beijing, China</td>\n      <td>http://www.sinopec.com</td>\n      <td>19</td>\n      <td>713288</td>\n      <td>106523</td>\n    </tr>\n    <tr>\n      <th>3</th>\n      <td>China National Petroleum</td>\n      <td>4</td>\n      <td>262573</td>\n      <td>-12.3</td>\n      <td>1867.5</td>\n      <td>585619</td>\n      <td>-73.7</td>\n      <td>Zhang Jianhua</td>\n      <td>Petroleum Refining</td>\n      <td>Energy</td>\n      <td>3</td>\n      <td>China</td>\n      <td>Beijing, China</td>\n      <td>http://www.cnpc.com.cn</td>\n      <td>17</td>\n      <td>1512048</td>\n      <td>301893</td>\n    </tr>\n    <tr>\n      <th>4</th>\n      <td>Toyota Motor</td>\n      <td>5</td>\n      <td>254694</td>\n      <td>7.7</td>\n      <td>16899.3</td>\n      <td>437575</td>\n      <td>-12.3</td>\n      <td>Akio Toyoda</td>\n      <td>Motor Vehicles and Parts</td>\n      <td>Motor Vehicles &amp; Parts</td>\n      <td>8</td>\n      <td>Japan</td>\n      <td>Toyota, Japan</td>\n      <td>http://www.toyota-global.com</td>\n      <td>23</td>\n      <td>364445</td>\n      <td>157210</td>\n    </tr>\n    <tr>\n      <th>...</th>\n      <td>...</td>\n      <td>...</td>\n      <td>...</td>\n      <td>...</td>\n      <td>...</td>\n      <td>...</td>\n      <td>...</td>\n      <td>...</td>\n      <td>...</td>\n      <td>...</td>\n      <td>...</td>\n      <td>...</td>\n      <td>...</td>\n      <td>...</td>\n      <td>...</td>\n      <td>...</td>\n      <td>...</td>\n    </tr>\n    <tr>\n      <th>495</th>\n      <td>Teva Pharmaceutical Industries</td>\n      <td>496</td>\n      <td>21903</td>\n      <td>11.5</td>\n      <td>329.0</td>\n      <td>92890</td>\n      <td>-79.3</td>\n      <td>Yitzhak Peterburg</td>\n      <td>Pharmaceuticals</td>\n      <td>Health Care</td>\n      <td>0</td>\n      <td>Israel</td>\n      <td>Petach Tikva, Israel</td>\n      <td>http://www.tevapharm.com</td>\n      <td>1</td>\n      <td>56960</td>\n      <td>33337</td>\n    </tr>\n    <tr>\n      <th>496</th>\n      <td>New China Life Insurance</td>\n      <td>497</td>\n      <td>21796</td>\n      <td>-13.3</td>\n      <td>743.9</td>\n      <td>100609</td>\n      <td>-45.6</td>\n      <td>Wan Feng</td>\n      <td>Insurance: Life, Health (stock)</td>\n      <td>Financials</td>\n      <td>427</td>\n      <td>China</td>\n      <td>Beijing, China</td>\n      <td>http://www.newchinalife.com</td>\n      <td>2</td>\n      <td>54378</td>\n      <td>8507</td>\n    </tr>\n    <tr>\n      <th>497</th>\n      <td>Wm. Morrison Supermarkets</td>\n      <td>498</td>\n      <td>21741</td>\n      <td>-11.3</td>\n      <td>406.4</td>\n      <td>11630</td>\n      <td>20.4</td>\n      <td>David T. Potts</td>\n      <td>Food and Drug Stores</td>\n      <td>Food &amp; Drug Stores</td>\n      <td>437</td>\n      <td>Britain</td>\n      <td>Bradford, Britain</td>\n      <td>http://www.morrisons.com</td>\n      <td>13</td>\n      <td>77210</td>\n      <td>5111</td>\n    </tr>\n    <tr>\n      <th>498</th>\n      <td>TUI</td>\n      <td>499</td>\n      <td>21655</td>\n      <td>-5.5</td>\n      <td>1151.7</td>\n      <td>16247</td>\n      <td>195.5</td>\n      <td>Friedrich Joussen</td>\n      <td>Travel Services</td>\n      <td>Business Services</td>\n      <td>467</td>\n      <td>Germany</td>\n      <td>Hanover, Germany</td>\n      <td>http://www.tuigroup.com</td>\n      <td>23</td>\n      <td>66779</td>\n      <td>3006</td>\n    </tr>\n    <tr>\n      <th>499</th>\n      <td>AutoNation</td>\n      <td>500</td>\n      <td>21609</td>\n      <td>3.6</td>\n      <td>430.5</td>\n      <td>10060</td>\n      <td>-2.7</td>\n      <td>Michael J. Jackson</td>\n      <td>Specialty Retailers</td>\n      <td>Retailing</td>\n      <td>0</td>\n      <td>USA</td>\n      <td>Fort Lauderdale, FL</td>\n      <td>http://www.autonation.com</td>\n      <td>12</td>\n      <td>26000</td>\n      <td>2310</td>\n    </tr>\n  </tbody>\n</table>\n<p>500 rows × 17 columns</p>\n</div>"
     },
     "metadata": {},
     "execution_count": 54
    }
   ],
   "source": [
    "f500"
   ]
  },
  {
   "source": [
    "## CSV"
   ],
   "cell_type": "markdown",
   "metadata": {}
  },
  {
   "cell_type": "code",
   "execution_count": 55,
   "metadata": {},
   "outputs": [
    {
     "output_type": "stream",
     "name": "stdout",
     "text": [
      "Column names are name, department, birthday month\n\tJohn Smith works in the Accounting department, and was born in November.\n\tErica Meyers works in the IT department, and was born in March.\nProcessed 3 lines.\n"
     ]
    }
   ],
   "source": [
    "import csv\n",
    "\n",
    "with open('data/employee_birthday.txt') as csv_file:\n",
    "    csv_reader = csv.reader(csv_file, delimiter=',')\n",
    "    line_count = 0\n",
    "    for row in csv_reader:\n",
    "        if line_count == 0:\n",
    "            print(f'Column names are {\", \".join(row)}')\n",
    "            line_count += 1\n",
    "        else:\n",
    "            print(f'\\t{row[0]} works in the {row[1]} department, and was born in {row[2]}.')\n",
    "            line_count += 1\n",
    "    print(f'Processed {line_count} lines.')"
   ]
  },
  {
   "cell_type": "code",
   "execution_count": 64,
   "metadata": {},
   "outputs": [
    {
     "output_type": "stream",
     "name": "stdout",
     "text": [
      "{'Name': 'Graham Chapman', 'Hire Date': '03/15/14'}\n{'Name': 'John Cleese', 'Hire Date': '06/01/15'}\n{'Name': 'Eric Idle', 'Hire Date': '05/12/14'}\n{'Name': 'Terry Jones', 'Hire Date': '11/01/13'}\n{'Name': 'Terry Gilliam', 'Hire Date': '08/12/14'}\n{'Name': 'Michael Palin', 'Hire Date': '05/23/13'}\n"
     ]
    }
   ],
   "source": [
    "with open('data/hrdata.csv') as f:\n",
    "    csv_reader = csv.reader(f, delimiter=',')\n",
    "    headers = next(f).split(',')\n",
    "    for person in csv_reader:\n",
    "        person_data = {headers[0]: person[0], headers[1]: person[1]}\n",
    "        print(person_data)"
   ]
  },
  {
   "cell_type": "code",
   "execution_count": 66,
   "metadata": {},
   "outputs": [],
   "source": [
    "df = pd.read_csv('data/hrdata.csv')\n",
    "df.to_json('data/hrdata.json', orient='index')"
   ]
  },
  {
   "cell_type": "code",
   "execution_count": null,
   "metadata": {},
   "outputs": [],
   "source": []
  },
  {
   "cell_type": "code",
   "execution_count": null,
   "metadata": {},
   "outputs": [],
   "source": []
  },
  {
   "cell_type": "code",
   "execution_count": 68,
   "metadata": {},
   "outputs": [],
   "source": [
    "from datetime import datetime"
   ]
  },
  {
   "cell_type": "code",
   "execution_count": 67,
   "metadata": {},
   "outputs": [],
   "source": [
    "data_string = 'Wed Aug 15 19:35:11 CEST 2018'"
   ]
  },
  {
   "cell_type": "code",
   "execution_count": 69,
   "metadata": {},
   "outputs": [
    {
     "output_type": "execute_result",
     "data": {
      "text/plain": [
       "datetime.datetime(2018, 8, 15, 19, 35, 11)"
      ]
     },
     "metadata": {},
     "execution_count": 69
    }
   ],
   "source": [
    "datetime.strptime(data_string, '%a %b %d %H:%M:%S CEST %Y')"
   ]
  },
  {
   "cell_type": "code",
   "execution_count": 71,
   "metadata": {},
   "outputs": [
    {
     "output_type": "execute_result",
     "data": {
      "text/plain": [
       "datetime.datetime"
      ]
     },
     "metadata": {},
     "execution_count": 71
    }
   ],
   "source": [
    "datetime"
   ]
  },
  {
   "cell_type": "code",
   "execution_count": null,
   "metadata": {},
   "outputs": [],
   "source": []
  }
 ]
}