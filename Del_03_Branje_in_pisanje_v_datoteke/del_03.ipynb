{
 "metadata": {
  "language_info": {
   "codemirror_mode": {
    "name": "ipython",
    "version": 3
   },
   "file_extension": ".py",
   "mimetype": "text/x-python",
   "name": "python",
   "nbconvert_exporter": "python",
   "pygments_lexer": "ipython3",
   "version": "3.9.0-final"
  },
  "orig_nbformat": 2,
  "kernelspec": {
   "name": "python3",
   "display_name": "Python 3"
  }
 },
 "nbformat": 4,
 "nbformat_minor": 2,
 "cells": [
  {
   "source": [
    "# Branje in pisanje v datoteke"
   ],
   "cell_type": "markdown",
   "metadata": {}
  },
  {
   "source": [
    "## Opening and Closing a File in Python"
   ],
   "cell_type": "markdown",
   "metadata": {}
  },
  {
   "cell_type": "code",
   "execution_count": 9,
   "metadata": {},
   "outputs": [],
   "source": [
    "f = open('data/test.txt')"
   ]
  },
  {
   "cell_type": "code",
   "execution_count": 10,
   "metadata": {},
   "outputs": [
    {
     "output_type": "execute_result",
     "data": {
      "text/plain": [
       "<_io.TextIOWrapper name='data/test.txt' mode='r' encoding='UTF-8'>"
      ]
     },
     "metadata": {},
     "execution_count": 10
    }
   ],
   "source": [
    "f"
   ]
  },
  {
   "cell_type": "code",
   "execution_count": 11,
   "metadata": {},
   "outputs": [
    {
     "output_type": "execute_result",
     "data": {
      "text/plain": [
       "False"
      ]
     },
     "metadata": {},
     "execution_count": 11
    }
   ],
   "source": [
    "f.closed"
   ]
  },
  {
   "cell_type": "code",
   "execution_count": 14,
   "metadata": {},
   "outputs": [],
   "source": [
    "f.close()"
   ]
  },
  {
   "cell_type": "code",
   "execution_count": 15,
   "metadata": {},
   "outputs": [
    {
     "output_type": "execute_result",
     "data": {
      "text/plain": [
       "True"
      ]
     },
     "metadata": {},
     "execution_count": 15
    }
   ],
   "source": [
    "f.closed"
   ]
  },
  {
   "source": [
    "## Opcija 2"
   ],
   "cell_type": "markdown",
   "metadata": {}
  },
  {
   "cell_type": "code",
   "execution_count": 16,
   "metadata": {},
   "outputs": [],
   "source": [
    "\n",
    "try:\n",
    "    f = open('data/test.txt')\n",
    "    # procesirali\n",
    "finally:\n",
    "    f.close()\n"
   ]
  },
  {
   "source": [
    "## Opcija 3 - optimalno"
   ],
   "cell_type": "markdown",
   "metadata": {}
  },
  {
   "cell_type": "code",
   "execution_count": 20,
   "metadata": {},
   "outputs": [
    {
     "output_type": "stream",
     "name": "stdout",
     "text": [
      "znotraj False\nzunaj True\n"
     ]
    }
   ],
   "source": [
    "with open('data/test.txt', 'r', encoding='utf-8') as f:\n",
    "    # prosesiram\n",
    "    print('znotraj', f.closed)\n",
    "\n",
    "print('zunaj', f.closed)\n"
   ]
  },
  {
   "source": [
    "<table class=\"docutils align-default\" id=\"index-5\">\n",
    "<colgroup>\n",
    "<col style=\"width: 13%\">\n",
    "<col style=\"width: 88%\">\n",
    "</colgroup>\n",
    "<thead>\n",
    "<tr class=\"row-odd\"><th class=\"head\"><p>Character</p></th>\n",
    "<th class=\"head\"><p>Meaning</p></th>\n",
    "</tr>\n",
    "</thead>\n",
    "<tbody>\n",
    "<tr class=\"row-even\"><td><p><code class=\"docutils literal notranslate\"><span class=\"pre\">'r'</span></code></p></td>\n",
    "<td><p>open for reading (default)</p></td>\n",
    "</tr>\n",
    "<tr class=\"row-odd\"><td><p><code class=\"docutils literal notranslate\"><span class=\"pre\">'w'</span></code></p></td>\n",
    "<td><p>open for writing, truncating the file first</p></td>\n",
    "</tr>\n",
    "<tr class=\"row-even\"><td><p><code class=\"docutils literal notranslate\"><span class=\"pre\">'x'</span></code></p></td>\n",
    "<td><p>open for exclusive creation, failing if the file already exists</p></td>\n",
    "</tr>\n",
    "<tr class=\"row-odd\"><td><p><code class=\"docutils literal notranslate\"><span class=\"pre\">'a'</span></code></p></td>\n",
    "<td><p>open for writing, appending to the end of the file if it exists</p></td>\n",
    "</tr>\n",
    "<tr class=\"row-even\"><td><p><code class=\"docutils literal notranslate\"><span class=\"pre\">'b'</span></code></p></td>\n",
    "<td><p>binary mode</p></td>\n",
    "</tr>\n",
    "<tr class=\"row-odd\"><td><p><code class=\"docutils literal notranslate\"><span class=\"pre\">'t'</span></code></p></td>\n",
    "<td><p>text mode (default)</p></td>\n",
    "</tr>\n",
    "<tr class=\"row-even\"><td><p><code class=\"docutils literal notranslate\"><span class=\"pre\">'+'</span></code></p></td>\n",
    "<td><p>open for updating (reading and writing)</p></td>\n",
    "</tr>\n",
    "</tbody>\n",
    "</table>"
   ],
   "cell_type": "markdown",
   "metadata": {}
  },
  {
   "source": [
    "## Reading and Writing Opened Files"
   ],
   "cell_type": "markdown",
   "metadata": {}
  },
  {
   "source": [
    "<div class=\"table-responsive\">\n",
    "<table class=\"table table-hover\">\n",
    "<thead>\n",
    "<tr>\n",
    "<th>Method</th>\n",
    "<th>What It Does</th>\n",
    "</tr>\n",
    "</thead>\n",
    "<tbody>\n",
    "<tr>\n",
    "<td><a href=\"https://docs.python.org/3.7/library/io.html#io.RawIOBase.read\"><code>.read(size=-1)</code></a></td>\n",
    "<td>This reads from the file based on the number of <code>size</code> bytes. If no argument is passed or <code>None</code> or <code>-1</code> is passed, then the entire file is read.</td>\n",
    "</tr>\n",
    "<tr>\n",
    "<td><a href=\"https://docs.python.org/3.7/library/io.html#io.IOBase.readline\"><code>.readline(size=-1)</code></a></td>\n",
    "<td>This reads at most <code>size</code> number of characters from the line. This continues to the end of the line and then wraps back around. If no argument is passed or <code>None</code> or <code>-1</code> is passed, then the entire line (or rest of the line) is read.</td>\n",
    "</tr>\n",
    "<tr>\n",
    "<td><a href=\"https://docs.python.org/3.7/library/io.html#io.IOBase.readlines\"><code>.readlines()</code></a></td>\n",
    "<td>This reads the remaining lines from the file object and returns them as a list.</td>\n",
    "</tr>\n",
    "</tbody>\n",
    "</table>\n",
    "</div>"
   ],
   "cell_type": "markdown",
   "metadata": {}
  },
  {
   "cell_type": "code",
   "execution_count": 22,
   "metadata": {},
   "outputs": [
    {
     "output_type": "stream",
     "name": "stdout",
     "text": [
      "03/22 08:51:06 INFO   :.....mailslot_create: creating mailslot for RSVP\n03/22 08:51:06 INFO   :....mailbox_register: mailbox allocated for rsvp\n03/22 08:51:06 INFO   :.....mailslot_create: creating mailslot for RSVP via UDP\n03/22 08:51:06 INFO   :....mailbox_register: mailbox allocated for rsvp-udp\n03/22 08:51:06 TRACE  :..entity_initialize: interface 127.0.0.1, entity for rsvp allocated and initialized\n03/22 08:51:06 INFO   :......mailslot_create: creating socket for querying route\n03/22 08:51:06 INFO   :.....mailbox_register: no mailbox necessary for forward\n03/22 08:51:06 INFO   :......mailslot_create: creating mailslot for route engine - informational socket\n03/22 08:51:06 TRACE  :......mailslot_create: ready to accept informational socket connection\n03/22 08:51:11 INFO   :.....mailbox_register: mailbox allocated for route\n03/22 08:51:11 INFO   :.....mailslot_create: creating socket for traffic control module\n03/22 08:51:11 INFO   :....mailbox_register: no mailbox necessary for traffic-control\n03/22 08:51:11 INFO   :....mailslot_create: creating mailslot for RSVP client API\n03/22 08:51:11 INFO   :...mailbox_register: mailbox allocated for rsvp-api\n03/22 08:51:11 INFO   :...mailslot_create: creating mailslot for terminate\n03/22 08:51:11 INFO   :..mailbox_register: mailbox allocated for terminate\n03/22 08:51:11 INFO   :...mailslot_create: creating mailslot for dump\n03/22 08:51:11 INFO   :..mailbox_register: mailbox allocated for dump\n03/22 08:51:11 INFO   :...mailslot_create: creating mailslot for (broken) pipe\n03/22 08:51:11 INFO   :..mailbox_register: mailbox allocated for pipe\n"
     ]
    }
   ],
   "source": [
    "with open('data/test.txt', 'r') as reader:\n",
    "    print(reader.read())"
   ]
  },
  {
   "cell_type": "code",
   "execution_count": 28,
   "metadata": {},
   "outputs": [
    {
     "output_type": "stream",
     "name": "stdout",
     "text": [
      "03/22 08:51:06 INFO   :.....mailslot_create: creating mailslot for RSVP\n\n03/22 08:51:06 INFO   :....mailbox_register: mailbox allocated for rsvp\n\n03/22 08:51:06 INFO   :.....mailslot_create: creating mailslot for RSVP via UDP\n03/22 08:51:06 INFO   :....mailbox_register: mailbox allocated for rsvp-udp\n03/22 08:51:06 TRACE  :..entity_initialize: interface 127.0.0.1, entity for rsvp allocated and initialized\n03/22 08:51:06 INFO   :......mailslot_create: creating socket for querying route\n03/22 08:51:06 INFO   :.....mailbox_register: no mailbox necessary for forward\n03/22 08:51:06 INFO   :......mailslot_create: creating mailslot for route engine - informational socket\n03/22 08:51:06 TRACE  :......mailslot_create: ready to accept informational socket connection\n03/22 08:51:11 INFO   :.....mailbox_register: mailbox allocated for route\n03/22 08:51:11 INFO   :.....mailslot_create: creating socket for traffic control module\n03/22 08:51:11 INFO   :....mailbox_register: no mailbox necessary for traffic-control\n03/22 08:51:11 INFO   :....mailslot_create: creating mailslot for RSVP client API\n03/22 08:51:11 INFO   :...mailbox_register: mailbox allocated for rsvp-api\n03/22 08:51:11 INFO   :...mailslot_create: creating mailslot for terminate\n03/22 08:51:11 INFO   :..mailbox_register: mailbox allocated for terminate\n03/22 08:51:11 INFO   :...mailslot_create: creating mailslot for dump\n03/22 08:51:11 INFO   :..mailbox_register: mailbox allocated for dump\n03/22 08:51:11 INFO   :...mailslot_create: creating mailslot for (broken) pipe\n03/22 08:51:11 INFO   :..mailbox_register: mailbox allocated for pipe\n----------\n03/22 08:51:06 INFO   :.....mailslot_create: creating mailslot for RSVP\n03/22 08:51:06 INFO   :....mailbox_register: mailbox allocated for rsvp\n03/22 08:51:06 INFO   :.....mailslot_create: creating mailslot for RSVP via UDP\n03/22 08:51:06 INFO   :....mailbox_register: mailbox allocated for rsvp-udp\n03/22 08:51:06 TRACE  :..entity_initialize: interface 127.0.0.1, entity for rsvp allocated and initialized\n03/22 08:51:06 INFO   :......mailslot_create: creating socket for querying route\n03/22 08:51:06 INFO   :.....mailbox_register: no mailbox necessary for forward\n03/22 08:51:06 INFO   :......mailslot_create: creating mailslot for route engine - informational socket\n03/22 08:51:06 TRACE  :......mailslot_create: ready to accept informational socket connection\n03/22 08:51:11 INFO   :.....mailbox_register: mailbox allocated for route\n03/22 08:51:11 INFO   :.....mailslot_create: creating socket for traffic control module\n03/22 08:51:11 INFO   :....mailbox_register: no mailbox necessary for traffic-control\n03/22 08:51:11 INFO   :....mailslot_create: creating mailslot for RSVP client API\n03/22 08:51:11 INFO   :...mailbox_register: mailbox allocated for rsvp-api\n03/22 08:51:11 INFO   :...mailslot_create: creating mailslot for terminate\n03/22 08:51:11 INFO   :..mailbox_register: mailbox allocated for terminate\n03/22 08:51:11 INFO   :...mailslot_create: creating mailslot for dump\n03/22 08:51:11 INFO   :..mailbox_register: mailbox allocated for dump\n03/22 08:51:11 INFO   :...mailslot_create: creating mailslot for (broken) pipe\n03/22 08:51:11 INFO   :..mailbox_register: mailbox allocated for pipe\n"
     ]
    }
   ],
   "source": [
    "with open('data/test.txt', 'r') as reader:\n",
    "    print(reader.readline())\n",
    "    print(reader.readline())\n",
    "    print(reader.read())\n",
    "\n",
    "    print('-'*10)\n",
    "    reader.seek(0)\n",
    "    print(reader.read())"
   ]
  },
  {
   "cell_type": "code",
   "execution_count": 30,
   "metadata": {},
   "outputs": [],
   "source": [
    "with open('data/test.txt', 'r') as reader:\n",
    "    data = reader.readlines()"
   ]
  },
  {
   "cell_type": "code",
   "execution_count": 33,
   "metadata": {},
   "outputs": [
    {
     "output_type": "execute_result",
     "data": {
      "text/plain": [
       "'INFO'"
      ]
     },
     "metadata": {},
     "execution_count": 33
    }
   ],
   "source": [
    "data[0].split()[2]"
   ]
  },
  {
   "source": [
    "### Iterating Over Each Line in the File"
   ],
   "cell_type": "markdown",
   "metadata": {}
  },
  {
   "cell_type": "code",
   "execution_count": 35,
   "metadata": {},
   "outputs": [
    {
     "output_type": "stream",
     "name": "stdout",
     "text": [
      "03/22 08:51:06 INFO   :.....MAILSLOT_CREATE: CREATING MAILSLOT FOR RSVP\n\n03/22 08:51:06 INFO   :....MAILBOX_REGISTER: MAILBOX ALLOCATED FOR RSVP\n\n03/22 08:51:06 INFO   :.....MAILSLOT_CREATE: CREATING MAILSLOT FOR RSVP VIA UDP\n\n03/22 08:51:06 INFO   :....MAILBOX_REGISTER: MAILBOX ALLOCATED FOR RSVP-UDP\n\n03/22 08:51:06 TRACE  :..ENTITY_INITIALIZE: INTERFACE 127.0.0.1, ENTITY FOR RSVP ALLOCATED AND INITIALIZED\n\n03/22 08:51:06 INFO   :......MAILSLOT_CREATE: CREATING SOCKET FOR QUERYING ROUTE\n\n03/22 08:51:06 INFO   :.....MAILBOX_REGISTER: NO MAILBOX NECESSARY FOR FORWARD\n\n03/22 08:51:06 INFO   :......MAILSLOT_CREATE: CREATING MAILSLOT FOR ROUTE ENGINE - INFORMATIONAL SOCKET\n\n03/22 08:51:06 TRACE  :......MAILSLOT_CREATE: READY TO ACCEPT INFORMATIONAL SOCKET CONNECTION\n\n03/22 08:51:11 INFO   :.....MAILBOX_REGISTER: MAILBOX ALLOCATED FOR ROUTE\n\n03/22 08:51:11 INFO   :.....MAILSLOT_CREATE: CREATING SOCKET FOR TRAFFIC CONTROL MODULE\n\n03/22 08:51:11 INFO   :....MAILBOX_REGISTER: NO MAILBOX NECESSARY FOR TRAFFIC-CONTROL\n\n03/22 08:51:11 INFO   :....MAILSLOT_CREATE: CREATING MAILSLOT FOR RSVP CLIENT API\n\n03/22 08:51:11 INFO   :...MAILBOX_REGISTER: MAILBOX ALLOCATED FOR RSVP-API\n\n03/22 08:51:11 INFO   :...MAILSLOT_CREATE: CREATING MAILSLOT FOR TERMINATE\n\n03/22 08:51:11 INFO   :..MAILBOX_REGISTER: MAILBOX ALLOCATED FOR TERMINATE\n\n03/22 08:51:11 INFO   :...MAILSLOT_CREATE: CREATING MAILSLOT FOR DUMP\n\n03/22 08:51:11 INFO   :..MAILBOX_REGISTER: MAILBOX ALLOCATED FOR DUMP\n\n03/22 08:51:11 INFO   :...MAILSLOT_CREATE: CREATING MAILSLOT FOR (BROKEN) PIPE\n\n03/22 08:51:11 INFO   :..MAILBOX_REGISTER: MAILBOX ALLOCATED FOR PIPE\n"
     ]
    }
   ],
   "source": [
    "with open('data/test.txt', 'r') as reader:\n",
    "    for line in reader:\n",
    "        print(line.upper())"
   ]
  },
  {
   "source": [
    "### Writing lines"
   ],
   "cell_type": "markdown",
   "metadata": {}
  },
  {
   "source": [
    "<div class=\"table-responsive\">\n",
    "<table class=\"table table-hover\">\n",
    "<thead>\n",
    "<tr>\n",
    "<th>Method</th>\n",
    "<th>What It Does</th>\n",
    "</tr>\n",
    "</thead>\n",
    "<tbody>\n",
    "<tr>\n",
    "<td><code>.write(string)</code></td>\n",
    "<td>This writes the string to the file.</td>\n",
    "</tr>\n",
    "<tr>\n",
    "<td><code>.writelines(seq)</code></td>\n",
    "<td>This writes the sequence to the file. No line endings are appended to each sequence item. It’s up to you to add the appropriate line ending(s).</td>\n",
    "</tr>\n",
    "</tbody>\n",
    "</table>\n",
    "</div>"
   ],
   "cell_type": "markdown",
   "metadata": {}
  },
  {
   "cell_type": "code",
   "execution_count": 40,
   "metadata": {},
   "outputs": [],
   "source": [
    "with open('data/test.txt', 'r') as reader:\n",
    "    lines = reader.readlines()\n",
    "\n",
    "with open('data/test_reversed.txt', 'w') as writer:\n",
    "    for line in reversed(lines):\n",
    "        writer.write(line)"
   ]
  },
  {
   "cell_type": "code",
   "execution_count": 43,
   "metadata": {},
   "outputs": [],
   "source": [
    "def upper_converter(file_path: str):\n",
    "    src_path, suffix = file_path.split(\".\")\n",
    "    dest_path = f\"{src_path}_upper.{suffix}\"\n",
    "\n",
    "    with open(file_path, \"r\") as reader:\n",
    "        content = reader.read()\n",
    "\n",
    "    with open(dest_path, \"w\") as witer:\n",
    "        witer.write(content.upper())\n",
    "\n",
    "\n",
    "if __name__ == \"__main__\":\n",
    "    upper_converter(\"data/test.txt\")\n",
    "    #f = open(\"data/test.txt\")"
   ]
  },
  {
   "source": [
    "## Triki in nasveti pri branju in pisanju datotek"
   ],
   "cell_type": "markdown",
   "metadata": {}
  },
  {
   "source": [
    "### Writing to a File That Doesn’t Already Exist"
   ],
   "cell_type": "markdown",
   "metadata": {}
  },
  {
   "cell_type": "code",
   "execution_count": 44,
   "metadata": {},
   "outputs": [],
   "source": [
    "with open('data/exists.txt', \"w\") as f:\n",
    "    f.write('Hello\\n')"
   ]
  },
  {
   "cell_type": "code",
   "execution_count": 45,
   "metadata": {},
   "outputs": [
    {
     "output_type": "error",
     "ename": "FileExistsError",
     "evalue": "[Errno 17] File exists: 'data/exists.txt'",
     "traceback": [
      "\u001b[0;31m---------------------------------------------------------------------------\u001b[0m",
      "\u001b[0;31mFileExistsError\u001b[0m                           Traceback (most recent call last)",
      "\u001b[0;32m<ipython-input-45-7474dddbb772>\u001b[0m in \u001b[0;36m<module>\u001b[0;34m\u001b[0m\n\u001b[0;32m----> 1\u001b[0;31m \u001b[0;32mwith\u001b[0m \u001b[0mopen\u001b[0m\u001b[0;34m(\u001b[0m\u001b[0;34m'data/exists.txt'\u001b[0m\u001b[0;34m,\u001b[0m \u001b[0;34m\"x\"\u001b[0m\u001b[0;34m)\u001b[0m \u001b[0;32mas\u001b[0m \u001b[0mf\u001b[0m\u001b[0;34m:\u001b[0m\u001b[0;34m\u001b[0m\u001b[0;34m\u001b[0m\u001b[0m\n\u001b[0m\u001b[1;32m      2\u001b[0m     \u001b[0mf\u001b[0m\u001b[0;34m.\u001b[0m\u001b[0mwrite\u001b[0m\u001b[0;34m(\u001b[0m\u001b[0;34m'1111\\n'\u001b[0m\u001b[0;34m)\u001b[0m\u001b[0;34m\u001b[0m\u001b[0;34m\u001b[0m\u001b[0m\n",
      "\u001b[0;31mFileExistsError\u001b[0m: [Errno 17] File exists: 'data/exists.txt'"
     ]
    }
   ],
   "source": [
    "with open('data/exists.txt', \"x\") as f:\n",
    "    f.write('1111\\n')"
   ]
  },
  {
   "cell_type": "code",
   "execution_count": 47,
   "metadata": {},
   "outputs": [
    {
     "output_type": "stream",
     "name": "stdout",
     "text": [
      "File exists!\n"
     ]
    }
   ],
   "source": [
    "try:\n",
    "    with open('data/exists.txt', \"x\") as f:\n",
    "        f.write('1111\\n')\n",
    "except FileExistsError:\n",
    "    print('File exists!')"
   ]
  },
  {
   "source": [
    "### Appending to a File"
   ],
   "cell_type": "markdown",
   "metadata": {}
  },
  {
   "cell_type": "code",
   "execution_count": 49,
   "metadata": {},
   "outputs": [],
   "source": [
    "with open('data/exists.txt', \"a\") as f:\n",
    "    f.write('Hello\\n')"
   ]
  },
  {
   "source": [
    "### Working With Two Files at the Same Time"
   ],
   "cell_type": "markdown",
   "metadata": {}
  },
  {
   "cell_type": "code",
   "execution_count": 50,
   "metadata": {},
   "outputs": [],
   "source": [
    "def upper_converter(file_path: str):\n",
    "    src_path, suffix = file_path.split(\".\")\n",
    "    dest_path = f\"{src_path}_upper.{suffix}\"\n",
    "\n",
    "    with open(file_path, \"r\") as reader, open(dest_path, \"w\") as witer:\n",
    "        content = reader.read()\n",
    "        witer.write(content.upper())\n",
    "\n",
    "\n",
    "if __name__ == \"__main__\":\n",
    "    upper_converter(\"data/test.txt\")"
   ]
  },
  {
   "source": [
    "### Search for a string in text files"
   ],
   "cell_type": "markdown",
   "metadata": {}
  },
  {
   "cell_type": "code",
   "execution_count": 53,
   "metadata": {},
   "outputs": [
    {
     "output_type": "stream",
     "name": "stdout",
     "text": [
      "true\n"
     ]
    }
   ],
   "source": [
    "with open('data/search_file.txt') as f:\n",
    "    if 'Python' in f.read():\n",
    "        print('true')\n",
    " "
   ]
  },
  {
   "source": [
    "### Counts words in a text file"
   ],
   "cell_type": "markdown",
   "metadata": {}
  },
  {
   "cell_type": "code",
   "execution_count": 54,
   "metadata": {},
   "outputs": [],
   "source": [
    "with open('data/search_file.txt') as f:\n",
    "    text = f.read()"
   ]
  },
  {
   "cell_type": "code",
   "execution_count": 55,
   "metadata": {},
   "outputs": [
    {
     "output_type": "execute_result",
     "data": {
      "text/plain": [
       "'Python is an easy to learn, powerful programming language. It has efficient high-level data structures and a simple but effective approach to object-oriented programming. Python’s elegant syntax and dynamic typing, together with its interpreted nature, make it an ideal language for scripting and rapid application development in many areas on most platforms.\\n\\nThe Python interpreter and the extensive standard library are freely available in source or binary form for all major platforms from the Python Web site, https://www.python.org/, and may be freely distributed. The same site also contains distributions of and pointers to many free third party Python modules, programs and tools, and additional documentation.\\n\\nThe Python interpreter is easily extended with new functions and data types implemented in C or C++ (or other languages callable from C). Python is also suitable as an extension language for customizable applications.\\n\\nThis tutorial introduces the reader informally to the basic concepts and features of the Python language and system. It helps to have a Python interpreter handy for hands-on experience, but all examples are self-contained, so the tutorial can be read off-line as well.'"
      ]
     },
     "metadata": {},
     "execution_count": 55
    }
   ],
   "source": [
    "text"
   ]
  },
  {
   "cell_type": "code",
   "execution_count": 67,
   "metadata": {},
   "outputs": [
    {
     "output_type": "execute_result",
     "data": {
      "text/plain": [
       "[('and', 11), ('the', 9), ('python', 8), ('to', 5), ('language', 4)]"
      ]
     },
     "metadata": {},
     "execution_count": 67
    }
   ],
   "source": [
    "from collections import Counter\n",
    "\n",
    "\n",
    "#text_splited = [word.lower() for word in text_splited]\n",
    "text_splited = Counter([''.join(c for c in word.lower() if c.isalnum()) for word in text.split()]).most_common(5)\n",
    "text_splited"
   ]
  },
  {
   "cell_type": "code",
   "execution_count": null,
   "metadata": {},
   "outputs": [],
   "source": []
  }
 ]
}