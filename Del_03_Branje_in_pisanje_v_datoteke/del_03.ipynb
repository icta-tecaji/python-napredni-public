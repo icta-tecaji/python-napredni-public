{
 "metadata": {
  "language_info": {
   "codemirror_mode": {
    "name": "ipython",
    "version": 3
   },
   "file_extension": ".py",
   "mimetype": "text/x-python",
   "name": "python",
   "nbconvert_exporter": "python",
   "pygments_lexer": "ipython3",
   "version": "3.9.0-final"
  },
  "orig_nbformat": 2,
  "kernelspec": {
   "name": "python3",
   "display_name": "Python 3"
  }
 },
 "nbformat": 4,
 "nbformat_minor": 2,
 "cells": [
  {
   "source": [
    "# Branje in pisanje v datoteke"
   ],
   "cell_type": "markdown",
   "metadata": {}
  },
  {
   "source": [
    "## Opening and Closing a File in Python"
   ],
   "cell_type": "markdown",
   "metadata": {}
  },
  {
   "cell_type": "code",
   "execution_count": 9,
   "metadata": {},
   "outputs": [],
   "source": [
    "f = open('data/test.txt')"
   ]
  },
  {
   "cell_type": "code",
   "execution_count": 10,
   "metadata": {},
   "outputs": [
    {
     "output_type": "execute_result",
     "data": {
      "text/plain": [
       "<_io.TextIOWrapper name='data/test.txt' mode='r' encoding='UTF-8'>"
      ]
     },
     "metadata": {},
     "execution_count": 10
    }
   ],
   "source": [
    "f"
   ]
  },
  {
   "cell_type": "code",
   "execution_count": 11,
   "metadata": {},
   "outputs": [
    {
     "output_type": "execute_result",
     "data": {
      "text/plain": [
       "False"
      ]
     },
     "metadata": {},
     "execution_count": 11
    }
   ],
   "source": [
    "f.closed"
   ]
  },
  {
   "cell_type": "code",
   "execution_count": 14,
   "metadata": {},
   "outputs": [],
   "source": [
    "f.close()"
   ]
  },
  {
   "cell_type": "code",
   "execution_count": 15,
   "metadata": {},
   "outputs": [
    {
     "output_type": "execute_result",
     "data": {
      "text/plain": [
       "True"
      ]
     },
     "metadata": {},
     "execution_count": 15
    }
   ],
   "source": [
    "f.closed"
   ]
  },
  {
   "source": [
    "## Opcija 2"
   ],
   "cell_type": "markdown",
   "metadata": {}
  },
  {
   "cell_type": "code",
   "execution_count": 16,
   "metadata": {},
   "outputs": [],
   "source": [
    "\n",
    "try:\n",
    "    f = open('data/test.txt')\n",
    "    # procesirali\n",
    "finally:\n",
    "    f.close()\n"
   ]
  },
  {
   "source": [
    "## Opcija 3 - optimalno"
   ],
   "cell_type": "markdown",
   "metadata": {}
  },
  {
   "cell_type": "code",
   "execution_count": 20,
   "metadata": {},
   "outputs": [
    {
     "output_type": "stream",
     "name": "stdout",
     "text": [
      "znotraj False\nzunaj True\n"
     ]
    }
   ],
   "source": [
    "with open('data/test.txt', 'r', encoding='utf-8') as f:\n",
    "    # prosesiram\n",
    "    print('znotraj', f.closed)\n",
    "\n",
    "print('zunaj', f.closed)\n"
   ]
  },
  {
   "source": [
    "<table class=\"docutils align-default\" id=\"index-5\">\n",
    "<colgroup>\n",
    "<col style=\"width: 13%\">\n",
    "<col style=\"width: 88%\">\n",
    "</colgroup>\n",
    "<thead>\n",
    "<tr class=\"row-odd\"><th class=\"head\"><p>Character</p></th>\n",
    "<th class=\"head\"><p>Meaning</p></th>\n",
    "</tr>\n",
    "</thead>\n",
    "<tbody>\n",
    "<tr class=\"row-even\"><td><p><code class=\"docutils literal notranslate\"><span class=\"pre\">'r'</span></code></p></td>\n",
    "<td><p>open for reading (default)</p></td>\n",
    "</tr>\n",
    "<tr class=\"row-odd\"><td><p><code class=\"docutils literal notranslate\"><span class=\"pre\">'w'</span></code></p></td>\n",
    "<td><p>open for writing, truncating the file first</p></td>\n",
    "</tr>\n",
    "<tr class=\"row-even\"><td><p><code class=\"docutils literal notranslate\"><span class=\"pre\">'x'</span></code></p></td>\n",
    "<td><p>open for exclusive creation, failing if the file already exists</p></td>\n",
    "</tr>\n",
    "<tr class=\"row-odd\"><td><p><code class=\"docutils literal notranslate\"><span class=\"pre\">'a'</span></code></p></td>\n",
    "<td><p>open for writing, appending to the end of the file if it exists</p></td>\n",
    "</tr>\n",
    "<tr class=\"row-even\"><td><p><code class=\"docutils literal notranslate\"><span class=\"pre\">'b'</span></code></p></td>\n",
    "<td><p>binary mode</p></td>\n",
    "</tr>\n",
    "<tr class=\"row-odd\"><td><p><code class=\"docutils literal notranslate\"><span class=\"pre\">'t'</span></code></p></td>\n",
    "<td><p>text mode (default)</p></td>\n",
    "</tr>\n",
    "<tr class=\"row-even\"><td><p><code class=\"docutils literal notranslate\"><span class=\"pre\">'+'</span></code></p></td>\n",
    "<td><p>open for updating (reading and writing)</p></td>\n",
    "</tr>\n",
    "</tbody>\n",
    "</table>"
   ],
   "cell_type": "markdown",
   "metadata": {}
  },
  {
   "source": [
    "## Reading and Writing Opened Files"
   ],
   "cell_type": "markdown",
   "metadata": {}
  },
  {
   "source": [
    "<div class=\"table-responsive\">\n",
    "<table class=\"table table-hover\">\n",
    "<thead>\n",
    "<tr>\n",
    "<th>Method</th>\n",
    "<th>What It Does</th>\n",
    "</tr>\n",
    "</thead>\n",
    "<tbody>\n",
    "<tr>\n",
    "<td><a href=\"https://docs.python.org/3.7/library/io.html#io.RawIOBase.read\"><code>.read(size=-1)</code></a></td>\n",
    "<td>This reads from the file based on the number of <code>size</code> bytes. If no argument is passed or <code>None</code> or <code>-1</code> is passed, then the entire file is read.</td>\n",
    "</tr>\n",
    "<tr>\n",
    "<td><a href=\"https://docs.python.org/3.7/library/io.html#io.IOBase.readline\"><code>.readline(size=-1)</code></a></td>\n",
    "<td>This reads at most <code>size</code> number of characters from the line. This continues to the end of the line and then wraps back around. If no argument is passed or <code>None</code> or <code>-1</code> is passed, then the entire line (or rest of the line) is read.</td>\n",
    "</tr>\n",
    "<tr>\n",
    "<td><a href=\"https://docs.python.org/3.7/library/io.html#io.IOBase.readlines\"><code>.readlines()</code></a></td>\n",
    "<td>This reads the remaining lines from the file object and returns them as a list.</td>\n",
    "</tr>\n",
    "</tbody>\n",
    "</table>\n",
    "</div>"
   ],
   "cell_type": "markdown",
   "metadata": {}
  },
  {
   "cell_type": "code",
   "execution_count": 22,
   "metadata": {},
   "outputs": [
    {
     "output_type": "stream",
     "name": "stdout",
     "text": [
      "03/22 08:51:06 INFO   :.....mailslot_create: creating mailslot for RSVP\n03/22 08:51:06 INFO   :....mailbox_register: mailbox allocated for rsvp\n03/22 08:51:06 INFO   :.....mailslot_create: creating mailslot for RSVP via UDP\n03/22 08:51:06 INFO   :....mailbox_register: mailbox allocated for rsvp-udp\n03/22 08:51:06 TRACE  :..entity_initialize: interface 127.0.0.1, entity for rsvp allocated and initialized\n03/22 08:51:06 INFO   :......mailslot_create: creating socket for querying route\n03/22 08:51:06 INFO   :.....mailbox_register: no mailbox necessary for forward\n03/22 08:51:06 INFO   :......mailslot_create: creating mailslot for route engine - informational socket\n03/22 08:51:06 TRACE  :......mailslot_create: ready to accept informational socket connection\n03/22 08:51:11 INFO   :.....mailbox_register: mailbox allocated for route\n03/22 08:51:11 INFO   :.....mailslot_create: creating socket for traffic control module\n03/22 08:51:11 INFO   :....mailbox_register: no mailbox necessary for traffic-control\n03/22 08:51:11 INFO   :....mailslot_create: creating mailslot for RSVP client API\n03/22 08:51:11 INFO   :...mailbox_register: mailbox allocated for rsvp-api\n03/22 08:51:11 INFO   :...mailslot_create: creating mailslot for terminate\n03/22 08:51:11 INFO   :..mailbox_register: mailbox allocated for terminate\n03/22 08:51:11 INFO   :...mailslot_create: creating mailslot for dump\n03/22 08:51:11 INFO   :..mailbox_register: mailbox allocated for dump\n03/22 08:51:11 INFO   :...mailslot_create: creating mailslot for (broken) pipe\n03/22 08:51:11 INFO   :..mailbox_register: mailbox allocated for pipe\n"
     ]
    }
   ],
   "source": [
    "with open('data/test.txt', 'r') as reader:\n",
    "    print(reader.read())"
   ]
  },
  {
   "cell_type": "code",
   "execution_count": 28,
   "metadata": {},
   "outputs": [
    {
     "output_type": "stream",
     "name": "stdout",
     "text": [
      "03/22 08:51:06 INFO   :.....mailslot_create: creating mailslot for RSVP\n\n03/22 08:51:06 INFO   :....mailbox_register: mailbox allocated for rsvp\n\n03/22 08:51:06 INFO   :.....mailslot_create: creating mailslot for RSVP via UDP\n03/22 08:51:06 INFO   :....mailbox_register: mailbox allocated for rsvp-udp\n03/22 08:51:06 TRACE  :..entity_initialize: interface 127.0.0.1, entity for rsvp allocated and initialized\n03/22 08:51:06 INFO   :......mailslot_create: creating socket for querying route\n03/22 08:51:06 INFO   :.....mailbox_register: no mailbox necessary for forward\n03/22 08:51:06 INFO   :......mailslot_create: creating mailslot for route engine - informational socket\n03/22 08:51:06 TRACE  :......mailslot_create: ready to accept informational socket connection\n03/22 08:51:11 INFO   :.....mailbox_register: mailbox allocated for route\n03/22 08:51:11 INFO   :.....mailslot_create: creating socket for traffic control module\n03/22 08:51:11 INFO   :....mailbox_register: no mailbox necessary for traffic-control\n03/22 08:51:11 INFO   :....mailslot_create: creating mailslot for RSVP client API\n03/22 08:51:11 INFO   :...mailbox_register: mailbox allocated for rsvp-api\n03/22 08:51:11 INFO   :...mailslot_create: creating mailslot for terminate\n03/22 08:51:11 INFO   :..mailbox_register: mailbox allocated for terminate\n03/22 08:51:11 INFO   :...mailslot_create: creating mailslot for dump\n03/22 08:51:11 INFO   :..mailbox_register: mailbox allocated for dump\n03/22 08:51:11 INFO   :...mailslot_create: creating mailslot for (broken) pipe\n03/22 08:51:11 INFO   :..mailbox_register: mailbox allocated for pipe\n----------\n03/22 08:51:06 INFO   :.....mailslot_create: creating mailslot for RSVP\n03/22 08:51:06 INFO   :....mailbox_register: mailbox allocated for rsvp\n03/22 08:51:06 INFO   :.....mailslot_create: creating mailslot for RSVP via UDP\n03/22 08:51:06 INFO   :....mailbox_register: mailbox allocated for rsvp-udp\n03/22 08:51:06 TRACE  :..entity_initialize: interface 127.0.0.1, entity for rsvp allocated and initialized\n03/22 08:51:06 INFO   :......mailslot_create: creating socket for querying route\n03/22 08:51:06 INFO   :.....mailbox_register: no mailbox necessary for forward\n03/22 08:51:06 INFO   :......mailslot_create: creating mailslot for route engine - informational socket\n03/22 08:51:06 TRACE  :......mailslot_create: ready to accept informational socket connection\n03/22 08:51:11 INFO   :.....mailbox_register: mailbox allocated for route\n03/22 08:51:11 INFO   :.....mailslot_create: creating socket for traffic control module\n03/22 08:51:11 INFO   :....mailbox_register: no mailbox necessary for traffic-control\n03/22 08:51:11 INFO   :....mailslot_create: creating mailslot for RSVP client API\n03/22 08:51:11 INFO   :...mailbox_register: mailbox allocated for rsvp-api\n03/22 08:51:11 INFO   :...mailslot_create: creating mailslot for terminate\n03/22 08:51:11 INFO   :..mailbox_register: mailbox allocated for terminate\n03/22 08:51:11 INFO   :...mailslot_create: creating mailslot for dump\n03/22 08:51:11 INFO   :..mailbox_register: mailbox allocated for dump\n03/22 08:51:11 INFO   :...mailslot_create: creating mailslot for (broken) pipe\n03/22 08:51:11 INFO   :..mailbox_register: mailbox allocated for pipe\n"
     ]
    }
   ],
   "source": [
    "with open('data/test.txt', 'r') as reader:\n",
    "    print(reader.readline())\n",
    "    print(reader.readline())\n",
    "    print(reader.read())\n",
    "\n",
    "    print('-'*10)\n",
    "    reader.seek(0)\n",
    "    print(reader.read())"
   ]
  },
  {
   "cell_type": "code",
   "execution_count": 30,
   "metadata": {},
   "outputs": [],
   "source": [
    "with open('data/test.txt', 'r') as reader:\n",
    "    data = reader.readlines()"
   ]
  },
  {
   "cell_type": "code",
   "execution_count": 33,
   "metadata": {},
   "outputs": [
    {
     "output_type": "execute_result",
     "data": {
      "text/plain": [
       "'INFO'"
      ]
     },
     "metadata": {},
     "execution_count": 33
    }
   ],
   "source": [
    "data[0].split()[2]"
   ]
  },
  {
   "source": [
    "### Iterating Over Each Line in the File"
   ],
   "cell_type": "markdown",
   "metadata": {}
  },
  {
   "cell_type": "code",
   "execution_count": 35,
   "metadata": {},
   "outputs": [
    {
     "output_type": "stream",
     "name": "stdout",
     "text": [
      "03/22 08:51:06 INFO   :.....MAILSLOT_CREATE: CREATING MAILSLOT FOR RSVP\n\n03/22 08:51:06 INFO   :....MAILBOX_REGISTER: MAILBOX ALLOCATED FOR RSVP\n\n03/22 08:51:06 INFO   :.....MAILSLOT_CREATE: CREATING MAILSLOT FOR RSVP VIA UDP\n\n03/22 08:51:06 INFO   :....MAILBOX_REGISTER: MAILBOX ALLOCATED FOR RSVP-UDP\n\n03/22 08:51:06 TRACE  :..ENTITY_INITIALIZE: INTERFACE 127.0.0.1, ENTITY FOR RSVP ALLOCATED AND INITIALIZED\n\n03/22 08:51:06 INFO   :......MAILSLOT_CREATE: CREATING SOCKET FOR QUERYING ROUTE\n\n03/22 08:51:06 INFO   :.....MAILBOX_REGISTER: NO MAILBOX NECESSARY FOR FORWARD\n\n03/22 08:51:06 INFO   :......MAILSLOT_CREATE: CREATING MAILSLOT FOR ROUTE ENGINE - INFORMATIONAL SOCKET\n\n03/22 08:51:06 TRACE  :......MAILSLOT_CREATE: READY TO ACCEPT INFORMATIONAL SOCKET CONNECTION\n\n03/22 08:51:11 INFO   :.....MAILBOX_REGISTER: MAILBOX ALLOCATED FOR ROUTE\n\n03/22 08:51:11 INFO   :.....MAILSLOT_CREATE: CREATING SOCKET FOR TRAFFIC CONTROL MODULE\n\n03/22 08:51:11 INFO   :....MAILBOX_REGISTER: NO MAILBOX NECESSARY FOR TRAFFIC-CONTROL\n\n03/22 08:51:11 INFO   :....MAILSLOT_CREATE: CREATING MAILSLOT FOR RSVP CLIENT API\n\n03/22 08:51:11 INFO   :...MAILBOX_REGISTER: MAILBOX ALLOCATED FOR RSVP-API\n\n03/22 08:51:11 INFO   :...MAILSLOT_CREATE: CREATING MAILSLOT FOR TERMINATE\n\n03/22 08:51:11 INFO   :..MAILBOX_REGISTER: MAILBOX ALLOCATED FOR TERMINATE\n\n03/22 08:51:11 INFO   :...MAILSLOT_CREATE: CREATING MAILSLOT FOR DUMP\n\n03/22 08:51:11 INFO   :..MAILBOX_REGISTER: MAILBOX ALLOCATED FOR DUMP\n\n03/22 08:51:11 INFO   :...MAILSLOT_CREATE: CREATING MAILSLOT FOR (BROKEN) PIPE\n\n03/22 08:51:11 INFO   :..MAILBOX_REGISTER: MAILBOX ALLOCATED FOR PIPE\n"
     ]
    }
   ],
   "source": [
    "with open('data/test.txt', 'r') as reader:\n",
    "    for line in reader:\n",
    "        print(line.upper())"
   ]
  },
  {
   "source": [
    "### Writing lines"
   ],
   "cell_type": "markdown",
   "metadata": {}
  },
  {
   "source": [
    "<div class=\"table-responsive\">\n",
    "<table class=\"table table-hover\">\n",
    "<thead>\n",
    "<tr>\n",
    "<th>Method</th>\n",
    "<th>What It Does</th>\n",
    "</tr>\n",
    "</thead>\n",
    "<tbody>\n",
    "<tr>\n",
    "<td><code>.write(string)</code></td>\n",
    "<td>This writes the string to the file.</td>\n",
    "</tr>\n",
    "<tr>\n",
    "<td><code>.writelines(seq)</code></td>\n",
    "<td>This writes the sequence to the file. No line endings are appended to each sequence item. It’s up to you to add the appropriate line ending(s).</td>\n",
    "</tr>\n",
    "</tbody>\n",
    "</table>\n",
    "</div>"
   ],
   "cell_type": "markdown",
   "metadata": {}
  },
  {
   "cell_type": "code",
   "execution_count": 40,
   "metadata": {},
   "outputs": [],
   "source": [
    "with open('data/test.txt', 'r') as reader:\n",
    "    lines = reader.readlines()\n",
    "\n",
    "with open('data/test_reversed.txt', 'w') as writer:\n",
    "    for line in reversed(lines):\n",
    "        writer.write(line)"
   ]
  },
  {
   "cell_type": "code",
   "execution_count": 43,
   "metadata": {},
   "outputs": [],
   "source": [
    "def upper_converter(file_path: str):\n",
    "    src_path, suffix = file_path.split(\".\")\n",
    "    dest_path = f\"{src_path}_upper.{suffix}\"\n",
    "\n",
    "    with open(file_path, \"r\") as reader:\n",
    "        content = reader.read()\n",
    "\n",
    "    with open(dest_path, \"w\") as witer:\n",
    "        witer.write(content.upper())\n",
    "\n",
    "\n",
    "if __name__ == \"__main__\":\n",
    "    upper_converter(\"data/test.txt\")\n",
    "    #f = open(\"data/test.txt\")"
   ]
  },
  {
   "source": [
    "## Triki in nasveti pri branju in pisanju datotek"
   ],
   "cell_type": "markdown",
   "metadata": {}
  },
  {
   "source": [
    "### Writing to a File That Doesn’t Already Exist"
   ],
   "cell_type": "markdown",
   "metadata": {}
  },
  {
   "cell_type": "code",
   "execution_count": 44,
   "metadata": {},
   "outputs": [],
   "source": [
    "with open('data/exists.txt', \"w\") as f:\n",
    "    f.write('Hello\\n')"
   ]
  },
  {
   "cell_type": "code",
   "execution_count": 45,
   "metadata": {},
   "outputs": [
    {
     "output_type": "error",
     "ename": "FileExistsError",
     "evalue": "[Errno 17] File exists: 'data/exists.txt'",
     "traceback": [
      "\u001b[0;31m---------------------------------------------------------------------------\u001b[0m",
      "\u001b[0;31mFileExistsError\u001b[0m                           Traceback (most recent call last)",
      "\u001b[0;32m<ipython-input-45-7474dddbb772>\u001b[0m in \u001b[0;36m<module>\u001b[0;34m\u001b[0m\n\u001b[0;32m----> 1\u001b[0;31m \u001b[0;32mwith\u001b[0m \u001b[0mopen\u001b[0m\u001b[0;34m(\u001b[0m\u001b[0;34m'data/exists.txt'\u001b[0m\u001b[0;34m,\u001b[0m \u001b[0;34m\"x\"\u001b[0m\u001b[0;34m)\u001b[0m \u001b[0;32mas\u001b[0m \u001b[0mf\u001b[0m\u001b[0;34m:\u001b[0m\u001b[0;34m\u001b[0m\u001b[0;34m\u001b[0m\u001b[0m\n\u001b[0m\u001b[1;32m      2\u001b[0m     \u001b[0mf\u001b[0m\u001b[0;34m.\u001b[0m\u001b[0mwrite\u001b[0m\u001b[0;34m(\u001b[0m\u001b[0;34m'1111\\n'\u001b[0m\u001b[0;34m)\u001b[0m\u001b[0;34m\u001b[0m\u001b[0;34m\u001b[0m\u001b[0m\n",
      "\u001b[0;31mFileExistsError\u001b[0m: [Errno 17] File exists: 'data/exists.txt'"
     ]
    }
   ],
   "source": [
    "with open('data/exists.txt', \"x\") as f:\n",
    "    f.write('1111\\n')"
   ]
  },
  {
   "cell_type": "code",
   "execution_count": 47,
   "metadata": {},
   "outputs": [
    {
     "output_type": "stream",
     "name": "stdout",
     "text": [
      "File exists!\n"
     ]
    }
   ],
   "source": [
    "try:\n",
    "    with open('data/exists.txt', \"x\") as f:\n",
    "        f.write('1111\\n')\n",
    "except FileExistsError:\n",
    "    print('File exists!')"
   ]
  },
  {
   "source": [
    "### Appending to a File"
   ],
   "cell_type": "markdown",
   "metadata": {}
  },
  {
   "cell_type": "code",
   "execution_count": 49,
   "metadata": {},
   "outputs": [],
   "source": [
    "with open('data/exists.txt', \"a\") as f:\n",
    "    f.write('Hello\\n')"
   ]
  },
  {
   "source": [
    "### Working With Two Files at the Same Time"
   ],
   "cell_type": "markdown",
   "metadata": {}
  },
  {
   "cell_type": "code",
   "execution_count": 50,
   "metadata": {},
   "outputs": [],
   "source": [
    "def upper_converter(file_path: str):\n",
    "    src_path, suffix = file_path.split(\".\")\n",
    "    dest_path = f\"{src_path}_upper.{suffix}\"\n",
    "\n",
    "    with open(file_path, \"r\") as reader, open(dest_path, \"w\") as witer:\n",
    "        content = reader.read()\n",
    "        witer.write(content.upper())\n",
    "\n",
    "\n",
    "if __name__ == \"__main__\":\n",
    "    upper_converter(\"data/test.txt\")"
   ]
  },
  {
   "source": [
    "### Search for a string in text files"
   ],
   "cell_type": "markdown",
   "metadata": {}
  },
  {
   "cell_type": "code",
   "execution_count": 53,
   "metadata": {},
   "outputs": [
    {
     "output_type": "stream",
     "name": "stdout",
     "text": [
      "true\n"
     ]
    }
   ],
   "source": [
    "with open('data/search_file.txt') as f:\n",
    "    if 'Python' in f.read():\n",
    "        print('true')\n",
    " "
   ]
  },
  {
   "source": [
    "### Counts words in a text file"
   ],
   "cell_type": "markdown",
   "metadata": {}
  },
  {
   "cell_type": "code",
   "execution_count": 54,
   "metadata": {},
   "outputs": [],
   "source": [
    "with open('data/search_file.txt') as f:\n",
    "    text = f.read()"
   ]
  },
  {
   "cell_type": "code",
   "execution_count": 55,
   "metadata": {},
   "outputs": [
    {
     "output_type": "execute_result",
     "data": {
      "text/plain": [
       "'Python is an easy to learn, powerful programming language. It has efficient high-level data structures and a simple but effective approach to object-oriented programming. Python’s elegant syntax and dynamic typing, together with its interpreted nature, make it an ideal language for scripting and rapid application development in many areas on most platforms.\\n\\nThe Python interpreter and the extensive standard library are freely available in source or binary form for all major platforms from the Python Web site, https://www.python.org/, and may be freely distributed. The same site also contains distributions of and pointers to many free third party Python modules, programs and tools, and additional documentation.\\n\\nThe Python interpreter is easily extended with new functions and data types implemented in C or C++ (or other languages callable from C). Python is also suitable as an extension language for customizable applications.\\n\\nThis tutorial introduces the reader informally to the basic concepts and features of the Python language and system. It helps to have a Python interpreter handy for hands-on experience, but all examples are self-contained, so the tutorial can be read off-line as well.'"
      ]
     },
     "metadata": {},
     "execution_count": 55
    }
   ],
   "source": [
    "text"
   ]
  },
  {
   "cell_type": "code",
   "execution_count": 67,
   "metadata": {},
   "outputs": [
    {
     "output_type": "execute_result",
     "data": {
      "text/plain": [
       "[('and', 11), ('the', 9), ('python', 8), ('to', 5), ('language', 4)]"
      ]
     },
     "metadata": {},
     "execution_count": 67
    }
   ],
   "source": [
    "from collections import Counter\n",
    "\n",
    "\n",
    "#text_splited = [word.lower() for word in text_splited]\n",
    "text_splited = Counter([''.join(c for c in word.lower() if c.isalnum()) for word in text.split()]).most_common(5)\n",
    "text_splited"
   ]
  },
  {
   "source": [
    "# Dan 3"
   ],
   "cell_type": "markdown",
   "metadata": {}
  },
  {
   "source": [
    "#### Replace String in File"
   ],
   "cell_type": "markdown",
   "metadata": {}
  },
  {
   "cell_type": "code",
   "execution_count": 1,
   "metadata": {},
   "outputs": [],
   "source": [
    "with open('data/test.txt', 'r') as reader, open('data/test_edited.txt', 'w') as writer:\n",
    "    for line in reader:\n",
    "        writer.write(line.replace('INFO', 'ERROR'))"
   ]
  },
  {
   "source": [
    "#### Counting lines in a file"
   ],
   "cell_type": "markdown",
   "metadata": {}
  },
  {
   "cell_type": "code",
   "execution_count": 2,
   "metadata": {},
   "outputs": [],
   "source": [
    "def file_len(fname):\n",
    "    with open(fname) as f:\n",
    "        i = 0\n",
    "        for i, l in enumerate(f):\n",
    "            pass\n",
    "    return i + 1 "
   ]
  },
  {
   "cell_type": "code",
   "execution_count": 4,
   "metadata": {},
   "outputs": [
    {
     "output_type": "stream",
     "name": "stdout",
     "text": [
      "20\n"
     ]
    }
   ],
   "source": [
    "print(file_len('data/test.txt'))"
   ]
  },
  {
   "source": [
    "# Branje in pisanje posebnih formatov datotek"
   ],
   "cell_type": "markdown",
   "metadata": {}
  },
  {
   "cell_type": "code",
   "execution_count": 5,
   "metadata": {},
   "outputs": [],
   "source": [
    "import pandas as pd"
   ]
  },
  {
   "cell_type": "code",
   "execution_count": 7,
   "metadata": {},
   "outputs": [],
   "source": [
    "f500 = pd.read_csv('data/f500.csv')"
   ]
  },
  {
   "cell_type": "code",
   "execution_count": 8,
   "metadata": {},
   "outputs": [
    {
     "output_type": "execute_result",
     "data": {
      "text/plain": [
       "pandas.core.frame.DataFrame"
      ]
     },
     "metadata": {},
     "execution_count": 8
    }
   ],
   "source": [
    "type(f500)"
   ]
  },
  {
   "cell_type": "code",
   "execution_count": 9,
   "metadata": {},
   "outputs": [
    {
     "output_type": "execute_result",
     "data": {
      "text/plain": [
       "                    company  rank  revenues  revenue_change  profits  assets  \\\n",
       "0                   Walmart     1    485873             0.8  13643.0  198825   \n",
       "1                State Grid     2    315199            -4.4   9571.3  489838   \n",
       "2             Sinopec Group     3    267518            -9.1   1257.9  310726   \n",
       "3  China National Petroleum     4    262573           -12.3   1867.5  585619   \n",
       "4              Toyota Motor     5    254694             7.7  16899.3  437575   \n",
       "\n",
       "   profit_change                  ceo                  industry  \\\n",
       "0           -7.2  C. Douglas McMillon     General Merchandisers   \n",
       "1           -6.2              Kou Wei                 Utilities   \n",
       "2          -65.0            Wang Yupu        Petroleum Refining   \n",
       "3          -73.7        Zhang Jianhua        Petroleum Refining   \n",
       "4          -12.3          Akio Toyoda  Motor Vehicles and Parts   \n",
       "\n",
       "                   sector  previous_rank country      hq_location  \\\n",
       "0               Retailing              1     USA  Bentonville, AR   \n",
       "1                  Energy              2   China   Beijing, China   \n",
       "2                  Energy              4   China   Beijing, China   \n",
       "3                  Energy              3   China   Beijing, China   \n",
       "4  Motor Vehicles & Parts              8   Japan    Toyota, Japan   \n",
       "\n",
       "                        website  years_on_global_500_list  employees  \\\n",
       "0        http://www.walmart.com                        23    2300000   \n",
       "1        http://www.sgcc.com.cn                        17     926067   \n",
       "2        http://www.sinopec.com                        19     713288   \n",
       "3        http://www.cnpc.com.cn                        17    1512048   \n",
       "4  http://www.toyota-global.com                        23     364445   \n",
       "\n",
       "   total_stockholder_equity  \n",
       "0                     77798  \n",
       "1                    209456  \n",
       "2                    106523  \n",
       "3                    301893  \n",
       "4                    157210  "
      ],
      "text/html": "<div>\n<style scoped>\n    .dataframe tbody tr th:only-of-type {\n        vertical-align: middle;\n    }\n\n    .dataframe tbody tr th {\n        vertical-align: top;\n    }\n\n    .dataframe thead th {\n        text-align: right;\n    }\n</style>\n<table border=\"1\" class=\"dataframe\">\n  <thead>\n    <tr style=\"text-align: right;\">\n      <th></th>\n      <th>company</th>\n      <th>rank</th>\n      <th>revenues</th>\n      <th>revenue_change</th>\n      <th>profits</th>\n      <th>assets</th>\n      <th>profit_change</th>\n      <th>ceo</th>\n      <th>industry</th>\n      <th>sector</th>\n      <th>previous_rank</th>\n      <th>country</th>\n      <th>hq_location</th>\n      <th>website</th>\n      <th>years_on_global_500_list</th>\n      <th>employees</th>\n      <th>total_stockholder_equity</th>\n    </tr>\n  </thead>\n  <tbody>\n    <tr>\n      <th>0</th>\n      <td>Walmart</td>\n      <td>1</td>\n      <td>485873</td>\n      <td>0.8</td>\n      <td>13643.0</td>\n      <td>198825</td>\n      <td>-7.2</td>\n      <td>C. Douglas McMillon</td>\n      <td>General Merchandisers</td>\n      <td>Retailing</td>\n      <td>1</td>\n      <td>USA</td>\n      <td>Bentonville, AR</td>\n      <td>http://www.walmart.com</td>\n      <td>23</td>\n      <td>2300000</td>\n      <td>77798</td>\n    </tr>\n    <tr>\n      <th>1</th>\n      <td>State Grid</td>\n      <td>2</td>\n      <td>315199</td>\n      <td>-4.4</td>\n      <td>9571.3</td>\n      <td>489838</td>\n      <td>-6.2</td>\n      <td>Kou Wei</td>\n      <td>Utilities</td>\n      <td>Energy</td>\n      <td>2</td>\n      <td>China</td>\n      <td>Beijing, China</td>\n      <td>http://www.sgcc.com.cn</td>\n      <td>17</td>\n      <td>926067</td>\n      <td>209456</td>\n    </tr>\n    <tr>\n      <th>2</th>\n      <td>Sinopec Group</td>\n      <td>3</td>\n      <td>267518</td>\n      <td>-9.1</td>\n      <td>1257.9</td>\n      <td>310726</td>\n      <td>-65.0</td>\n      <td>Wang Yupu</td>\n      <td>Petroleum Refining</td>\n      <td>Energy</td>\n      <td>4</td>\n      <td>China</td>\n      <td>Beijing, China</td>\n      <td>http://www.sinopec.com</td>\n      <td>19</td>\n      <td>713288</td>\n      <td>106523</td>\n    </tr>\n    <tr>\n      <th>3</th>\n      <td>China National Petroleum</td>\n      <td>4</td>\n      <td>262573</td>\n      <td>-12.3</td>\n      <td>1867.5</td>\n      <td>585619</td>\n      <td>-73.7</td>\n      <td>Zhang Jianhua</td>\n      <td>Petroleum Refining</td>\n      <td>Energy</td>\n      <td>3</td>\n      <td>China</td>\n      <td>Beijing, China</td>\n      <td>http://www.cnpc.com.cn</td>\n      <td>17</td>\n      <td>1512048</td>\n      <td>301893</td>\n    </tr>\n    <tr>\n      <th>4</th>\n      <td>Toyota Motor</td>\n      <td>5</td>\n      <td>254694</td>\n      <td>7.7</td>\n      <td>16899.3</td>\n      <td>437575</td>\n      <td>-12.3</td>\n      <td>Akio Toyoda</td>\n      <td>Motor Vehicles and Parts</td>\n      <td>Motor Vehicles &amp; Parts</td>\n      <td>8</td>\n      <td>Japan</td>\n      <td>Toyota, Japan</td>\n      <td>http://www.toyota-global.com</td>\n      <td>23</td>\n      <td>364445</td>\n      <td>157210</td>\n    </tr>\n  </tbody>\n</table>\n</div>"
     },
     "metadata": {},
     "execution_count": 9
    }
   ],
   "source": [
    "f500.head()"
   ]
  },
  {
   "cell_type": "code",
   "execution_count": 10,
   "metadata": {},
   "outputs": [
    {
     "output_type": "stream",
     "name": "stdout",
     "text": [
      "<class 'pandas.core.frame.DataFrame'>\nRangeIndex: 500 entries, 0 to 499\nData columns (total 17 columns):\n #   Column                    Non-Null Count  Dtype  \n---  ------                    --------------  -----  \n 0   company                   500 non-null    object \n 1   rank                      500 non-null    int64  \n 2   revenues                  500 non-null    int64  \n 3   revenue_change            498 non-null    float64\n 4   profits                   499 non-null    float64\n 5   assets                    500 non-null    int64  \n 6   profit_change             436 non-null    float64\n 7   ceo                       500 non-null    object \n 8   industry                  500 non-null    object \n 9   sector                    500 non-null    object \n 10  previous_rank             500 non-null    int64  \n 11  country                   500 non-null    object \n 12  hq_location               500 non-null    object \n 13  website                   500 non-null    object \n 14  years_on_global_500_list  500 non-null    int64  \n 15  employees                 500 non-null    int64  \n 16  total_stockholder_equity  500 non-null    int64  \ndtypes: float64(3), int64(7), object(7)\nmemory usage: 66.5+ KB\n"
     ]
    }
   ],
   "source": [
    "f500.info()"
   ]
  },
  {
   "cell_type": "code",
   "execution_count": 11,
   "metadata": {},
   "outputs": [
    {
     "output_type": "execute_result",
     "data": {
      "text/plain": [
       "             rank       revenues  revenue_change       profits        assets  \\\n",
       "count  500.000000     500.000000      498.000000    499.000000  5.000000e+02   \n",
       "mean   250.500000   55416.358000        4.538353   3055.203206  2.436323e+05   \n",
       "std    144.481833   45725.478963       28.549067   5171.981071  4.851937e+05   \n",
       "min      1.000000   21609.000000      -67.300000 -13038.000000  3.717000e+03   \n",
       "25%    125.750000   29003.000000       -5.900000    556.950000  3.658850e+04   \n",
       "50%    250.500000   40236.000000        0.550000   1761.600000  7.326150e+04   \n",
       "75%    375.250000   63926.750000        6.975000   3954.000000  1.805640e+05   \n",
       "max    500.000000  485873.000000      442.300000  45687.000000  3.473238e+06   \n",
       "\n",
       "       profit_change  previous_rank  years_on_global_500_list     employees  \\\n",
       "count     436.000000     500.000000                500.000000  5.000000e+02   \n",
       "mean       24.152752     222.134000                 15.036000  1.339983e+05   \n",
       "std       437.509566     146.941961                  7.932752  1.700878e+05   \n",
       "min      -793.700000       0.000000                  1.000000  3.280000e+02   \n",
       "25%       -22.775000      92.750000                  7.000000  4.293250e+04   \n",
       "50%        -0.350000     219.500000                 17.000000  9.291050e+04   \n",
       "75%        17.700000     347.250000                 23.000000  1.689172e+05   \n",
       "max      8909.500000     500.000000                 23.000000  2.300000e+06   \n",
       "\n",
       "       total_stockholder_equity  \n",
       "count                500.000000  \n",
       "mean               30628.076000  \n",
       "std                43642.576833  \n",
       "min               -59909.000000  \n",
       "25%                 7553.750000  \n",
       "50%                15809.500000  \n",
       "75%                37828.500000  \n",
       "max               301893.000000  "
      ],
      "text/html": "<div>\n<style scoped>\n    .dataframe tbody tr th:only-of-type {\n        vertical-align: middle;\n    }\n\n    .dataframe tbody tr th {\n        vertical-align: top;\n    }\n\n    .dataframe thead th {\n        text-align: right;\n    }\n</style>\n<table border=\"1\" class=\"dataframe\">\n  <thead>\n    <tr style=\"text-align: right;\">\n      <th></th>\n      <th>rank</th>\n      <th>revenues</th>\n      <th>revenue_change</th>\n      <th>profits</th>\n      <th>assets</th>\n      <th>profit_change</th>\n      <th>previous_rank</th>\n      <th>years_on_global_500_list</th>\n      <th>employees</th>\n      <th>total_stockholder_equity</th>\n    </tr>\n  </thead>\n  <tbody>\n    <tr>\n      <th>count</th>\n      <td>500.000000</td>\n      <td>500.000000</td>\n      <td>498.000000</td>\n      <td>499.000000</td>\n      <td>5.000000e+02</td>\n      <td>436.000000</td>\n      <td>500.000000</td>\n      <td>500.000000</td>\n      <td>5.000000e+02</td>\n      <td>500.000000</td>\n    </tr>\n    <tr>\n      <th>mean</th>\n      <td>250.500000</td>\n      <td>55416.358000</td>\n      <td>4.538353</td>\n      <td>3055.203206</td>\n      <td>2.436323e+05</td>\n      <td>24.152752</td>\n      <td>222.134000</td>\n      <td>15.036000</td>\n      <td>1.339983e+05</td>\n      <td>30628.076000</td>\n    </tr>\n    <tr>\n      <th>std</th>\n      <td>144.481833</td>\n      <td>45725.478963</td>\n      <td>28.549067</td>\n      <td>5171.981071</td>\n      <td>4.851937e+05</td>\n      <td>437.509566</td>\n      <td>146.941961</td>\n      <td>7.932752</td>\n      <td>1.700878e+05</td>\n      <td>43642.576833</td>\n    </tr>\n    <tr>\n      <th>min</th>\n      <td>1.000000</td>\n      <td>21609.000000</td>\n      <td>-67.300000</td>\n      <td>-13038.000000</td>\n      <td>3.717000e+03</td>\n      <td>-793.700000</td>\n      <td>0.000000</td>\n      <td>1.000000</td>\n      <td>3.280000e+02</td>\n      <td>-59909.000000</td>\n    </tr>\n    <tr>\n      <th>25%</th>\n      <td>125.750000</td>\n      <td>29003.000000</td>\n      <td>-5.900000</td>\n      <td>556.950000</td>\n      <td>3.658850e+04</td>\n      <td>-22.775000</td>\n      <td>92.750000</td>\n      <td>7.000000</td>\n      <td>4.293250e+04</td>\n      <td>7553.750000</td>\n    </tr>\n    <tr>\n      <th>50%</th>\n      <td>250.500000</td>\n      <td>40236.000000</td>\n      <td>0.550000</td>\n      <td>1761.600000</td>\n      <td>7.326150e+04</td>\n      <td>-0.350000</td>\n      <td>219.500000</td>\n      <td>17.000000</td>\n      <td>9.291050e+04</td>\n      <td>15809.500000</td>\n    </tr>\n    <tr>\n      <th>75%</th>\n      <td>375.250000</td>\n      <td>63926.750000</td>\n      <td>6.975000</td>\n      <td>3954.000000</td>\n      <td>1.805640e+05</td>\n      <td>17.700000</td>\n      <td>347.250000</td>\n      <td>23.000000</td>\n      <td>1.689172e+05</td>\n      <td>37828.500000</td>\n    </tr>\n    <tr>\n      <th>max</th>\n      <td>500.000000</td>\n      <td>485873.000000</td>\n      <td>442.300000</td>\n      <td>45687.000000</td>\n      <td>3.473238e+06</td>\n      <td>8909.500000</td>\n      <td>500.000000</td>\n      <td>23.000000</td>\n      <td>2.300000e+06</td>\n      <td>301893.000000</td>\n    </tr>\n  </tbody>\n</table>\n</div>"
     },
     "metadata": {},
     "execution_count": 11
    }
   ],
   "source": [
    "f500.describe()"
   ]
  },
  {
   "source": [
    "<table class=\"colwidths-given table\">\n",
    "<colgroup>\n",
    "<col style=\"width: 12%\">\n",
    "<col style=\"width: 40%\">\n",
    "<col style=\"width: 24%\">\n",
    "<col style=\"width: 24%\">\n",
    "</colgroup>\n",
    "<thead>\n",
    "<tr class=\"row-odd\"><th class=\"head\"><p>Format Type</p></th>\n",
    "<th class=\"head\"><p>Data Description</p></th>\n",
    "<th class=\"head\"><p>Reader</p></th>\n",
    "<th class=\"head\"><p>Writer</p></th>\n",
    "</tr>\n",
    "</thead>\n",
    "<tbody>\n",
    "<tr class=\"row-even\"><td><p>text</p></td>\n",
    "<td><p><a class=\"reference external\" href=\"https://en.wikipedia.org/wiki/Comma-separated_values\">CSV</a></p></td>\n",
    "<td><p><a class=\"reference internal\" href=\"#io-read-csv-table\"><span class=\"std std-ref\">read_csv</span></a></p></td>\n",
    "<td><p><a class=\"reference internal\" href=\"#io-store-in-csv\"><span class=\"std std-ref\">to_csv</span></a></p></td>\n",
    "</tr>\n",
    "<tr class=\"row-odd\"><td><p>text</p></td>\n",
    "<td><p>Fixed-Width Text File</p></td>\n",
    "<td><p><a class=\"reference internal\" href=\"#io-fwf-reader\"><span class=\"std std-ref\">read_fwf</span></a></p></td>\n",
    "<td></td>\n",
    "</tr>\n",
    "<tr class=\"row-even\"><td><p>text</p></td>\n",
    "<td><p><a class=\"reference external\" href=\"https://www.json.org/\">JSON</a></p></td>\n",
    "<td><p><a class=\"reference internal\" href=\"#io-json-reader\"><span class=\"std std-ref\">read_json</span></a></p></td>\n",
    "<td><p><a class=\"reference internal\" href=\"#io-json-writer\"><span class=\"std std-ref\">to_json</span></a></p></td>\n",
    "</tr>\n",
    "<tr class=\"row-odd\"><td><p>text</p></td>\n",
    "<td><p><a class=\"reference external\" href=\"https://en.wikipedia.org/wiki/HTML\">HTML</a></p></td>\n",
    "<td><p><a class=\"reference internal\" href=\"#io-read-html\"><span class=\"std std-ref\">read_html</span></a></p></td>\n",
    "<td><p><a class=\"reference internal\" href=\"#io-html\"><span class=\"std std-ref\">to_html</span></a></p></td>\n",
    "</tr>\n",
    "<tr class=\"row-even\"><td><p>text</p></td>\n",
    "<td><p>Local clipboard</p></td>\n",
    "<td><p><a class=\"reference internal\" href=\"#io-clipboard\"><span class=\"std std-ref\">read_clipboard</span></a></p></td>\n",
    "<td><p><a class=\"reference internal\" href=\"#io-clipboard\"><span class=\"std std-ref\">to_clipboard</span></a></p></td>\n",
    "</tr>\n",
    "<tr class=\"row-odd\"><td></td>\n",
    "<td><p><a class=\"reference external\" href=\"https://en.wikipedia.org/wiki/Microsoft_Excel\">MS Excel</a></p></td>\n",
    "<td><p><a class=\"reference internal\" href=\"#io-excel-reader\"><span class=\"std std-ref\">read_excel</span></a></p></td>\n",
    "<td><p><a class=\"reference internal\" href=\"#io-excel-writer\"><span class=\"std std-ref\">to_excel</span></a></p></td>\n",
    "</tr>\n",
    "<tr class=\"row-even\"><td><p>binary</p></td>\n",
    "<td><p><a class=\"reference external\" href=\"http://www.opendocumentformat.org\">OpenDocument</a></p></td>\n",
    "<td><p><a class=\"reference internal\" href=\"#io-ods\"><span class=\"std std-ref\">read_excel</span></a></p></td>\n",
    "<td></td>\n",
    "</tr>\n",
    "<tr class=\"row-odd\"><td><p>binary</p></td>\n",
    "<td><p><a class=\"reference external\" href=\"https://support.hdfgroup.org/HDF5/whatishdf5.html\">HDF5 Format</a></p></td>\n",
    "<td><p><a class=\"reference internal\" href=\"#io-hdf5\"><span class=\"std std-ref\">read_hdf</span></a></p></td>\n",
    "<td><p><a class=\"reference internal\" href=\"#io-hdf5\"><span class=\"std std-ref\">to_hdf</span></a></p></td>\n",
    "</tr>\n",
    "<tr class=\"row-even\"><td><p>binary</p></td>\n",
    "<td><p><a class=\"reference external\" href=\"https://github.com/wesm/feather\">Feather Format</a></p></td>\n",
    "<td><p><a class=\"reference internal\" href=\"#io-feather\"><span class=\"std std-ref\">read_feather</span></a></p></td>\n",
    "<td><p><a class=\"reference internal\" href=\"#io-feather\"><span class=\"std std-ref\">to_feather</span></a></p></td>\n",
    "</tr>\n",
    "<tr class=\"row-odd\"><td><p>binary</p></td>\n",
    "<td><p><a class=\"reference external\" href=\"https://parquet.apache.org/\">Parquet Format</a></p></td>\n",
    "<td><p><a class=\"reference internal\" href=\"#io-parquet\"><span class=\"std std-ref\">read_parquet</span></a></p></td>\n",
    "<td><p><a class=\"reference internal\" href=\"#io-parquet\"><span class=\"std std-ref\">to_parquet</span></a></p></td>\n",
    "</tr>\n",
    "<tr class=\"row-even\"><td><p>binary</p></td>\n",
    "<td><p><a class=\"reference external\" href=\"//https://orc.apache.org/\">ORC Format</a></p></td>\n",
    "<td><p><a class=\"reference internal\" href=\"#io-orc\"><span class=\"std std-ref\">read_orc</span></a></p></td>\n",
    "<td></td>\n",
    "</tr>\n",
    "<tr class=\"row-odd\"><td><p>binary</p></td>\n",
    "<td><p><a class=\"reference external\" href=\"https://msgpack.org/index.html\">Msgpack</a></p></td>\n",
    "<td><p><a class=\"reference internal\" href=\"#io-msgpack\"><span class=\"std std-ref\">read_msgpack</span></a></p></td>\n",
    "<td><p><a class=\"reference internal\" href=\"#io-msgpack\"><span class=\"std std-ref\">to_msgpack</span></a></p></td>\n",
    "</tr>\n",
    "<tr class=\"row-even\"><td><p>binary</p></td>\n",
    "<td><p><a class=\"reference external\" href=\"https://en.wikipedia.org/wiki/Stata\">Stata</a></p></td>\n",
    "<td><p><a class=\"reference internal\" href=\"#io-stata-reader\"><span class=\"std std-ref\">read_stata</span></a></p></td>\n",
    "<td><p><a class=\"reference internal\" href=\"#io-stata-writer\"><span class=\"std std-ref\">to_stata</span></a></p></td>\n",
    "</tr>\n",
    "<tr class=\"row-odd\"><td><p>binary</p></td>\n",
    "<td><p><a class=\"reference external\" href=\"https://en.wikipedia.org/wiki/SAS_(software)\">SAS</a></p></td>\n",
    "<td><p><a class=\"reference internal\" href=\"#io-sas-reader\"><span class=\"std std-ref\">read_sas</span></a></p></td>\n",
    "<td></td>\n",
    "</tr>\n",
    "<tr class=\"row-even\"><td><p>binary</p></td>\n",
    "<td><p><a class=\"reference external\" href=\"https://en.wikipedia.org/wiki/SPSS\">SPSS</a></p></td>\n",
    "<td><p><a class=\"reference internal\" href=\"#io-spss-reader\"><span class=\"std std-ref\">read_spss</span></a></p></td>\n",
    "<td></td>\n",
    "</tr>\n",
    "<tr class=\"row-odd\"><td><p>binary</p></td>\n",
    "<td><p><a class=\"reference external\" href=\"https://docs.python.org/3/library/pickle.html\">Python Pickle Format</a></p></td>\n",
    "<td><p><a class=\"reference internal\" href=\"#io-pickle\"><span class=\"std std-ref\">read_pickle</span></a></p></td>\n",
    "<td><p><a class=\"reference internal\" href=\"#io-pickle\"><span class=\"std std-ref\">to_pickle</span></a></p></td>\n",
    "</tr>\n",
    "<tr class=\"row-even\"><td><p>SQL</p></td>\n",
    "<td><p><a class=\"reference external\" href=\"https://en.wikipedia.org/wiki/SQL\">SQL</a></p></td>\n",
    "<td><p><a class=\"reference internal\" href=\"#io-sql\"><span class=\"std std-ref\">read_sql</span></a></p></td>\n",
    "<td><p><a class=\"reference internal\" href=\"#io-sql\"><span class=\"std std-ref\">to_sql</span></a></p></td>\n",
    "</tr>\n",
    "<tr class=\"row-odd\"><td><p>SQL</p></td>\n",
    "<td><p><a class=\"reference external\" href=\"https://en.wikipedia.org/wiki/BigQuery\">Google BigQuery</a></p></td>\n",
    "<td><p><a class=\"reference internal\" href=\"#io-bigquery\"><span class=\"std std-ref\">read_gbq</span></a></p></td>\n",
    "<td><p><a class=\"reference internal\" href=\"#io-bigquery\"><span class=\"std std-ref\">to_gbq</span></a></p></td>\n",
    "</tr>\n",
    "</tbody>\n",
    "</table>"
   ],
   "cell_type": "markdown",
   "metadata": {}
  },
  {
   "cell_type": "code",
   "execution_count": null,
   "metadata": {},
   "outputs": [],
   "source": []
  },
  {
   "cell_type": "code",
   "execution_count": null,
   "metadata": {},
   "outputs": [],
   "source": []
  },
  {
   "cell_type": "code",
   "execution_count": null,
   "metadata": {},
   "outputs": [],
   "source": []
  },
  {
   "cell_type": "code",
   "execution_count": null,
   "metadata": {},
   "outputs": [],
   "source": []
  }
 ]
}