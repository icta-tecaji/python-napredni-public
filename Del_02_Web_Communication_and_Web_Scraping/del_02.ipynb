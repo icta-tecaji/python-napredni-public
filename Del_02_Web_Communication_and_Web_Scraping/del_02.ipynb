{
 "metadata": {
  "language_info": {
   "codemirror_mode": {
    "name": "ipython",
    "version": 3
   },
   "file_extension": ".py",
   "mimetype": "text/x-python",
   "name": "python",
   "nbconvert_exporter": "python",
   "pygments_lexer": "ipython3",
   "version": "3.9.0-final"
  },
  "orig_nbformat": 2,
  "kernelspec": {
   "name": "python3",
   "display_name": "Python 3"
  }
 },
 "nbformat": 4,
 "nbformat_minor": 2,
 "cells": [
  {
   "source": [
    "# HTTP REST APIs (requests library)"
   ],
   "cell_type": "markdown",
   "metadata": {}
  },
  {
   "cell_type": "code",
   "execution_count": 2,
   "metadata": {},
   "outputs": [],
   "source": [
    "# importamo knjižnico\n",
    "import requests"
   ]
  },
  {
   "cell_type": "code",
   "execution_count": 3,
   "metadata": {},
   "outputs": [],
   "source": [
    "url_users = 'https://jsonplaceholder.typicode.com/users'"
   ]
  },
  {
   "cell_type": "code",
   "execution_count": 7,
   "metadata": {},
   "outputs": [
    {
     "output_type": "stream",
     "name": "stdout",
     "text": [
      "<class 'requests.models.Response'>\n"
     ]
    }
   ],
   "source": [
    "# GET klic\n",
    "response = requests.get(url_users)\n",
    "print(type(response))"
   ]
  },
  {
   "cell_type": "code",
   "execution_count": 8,
   "metadata": {},
   "outputs": [
    {
     "output_type": "execute_result",
     "data": {
      "text/plain": [
       "200"
      ]
     },
     "metadata": {},
     "execution_count": 8
    }
   ],
   "source": [
    "# response koda odgovora\n",
    "response.status_code"
   ]
  },
  {
   "cell_type": "code",
   "execution_count": 25,
   "metadata": {},
   "outputs": [
    {
     "output_type": "execute_result",
     "data": {
      "text/plain": [
       "'application/json; charset=utf-8'"
      ]
     },
     "metadata": {},
     "execution_count": 25
    }
   ],
   "source": [
    "response.headers['Content-Type']"
   ]
  },
  {
   "cell_type": "code",
   "execution_count": 19,
   "metadata": {},
   "outputs": [],
   "source": [
    "#response.content\n",
    "#print(response.text)\n",
    "# v primeru da je odgovor json\n",
    "data = response.json()"
   ]
  },
  {
   "cell_type": "code",
   "execution_count": 20,
   "metadata": {},
   "outputs": [
    {
     "output_type": "execute_result",
     "data": {
      "text/plain": [
       "list"
      ]
     },
     "metadata": {},
     "execution_count": 20
    }
   ],
   "source": [
    "type(data)"
   ]
  },
  {
   "cell_type": "code",
   "execution_count": 23,
   "metadata": {},
   "outputs": [
    {
     "output_type": "execute_result",
     "data": {
      "text/plain": [
       "'Leanne Graham'"
      ]
     },
     "metadata": {},
     "execution_count": 23
    }
   ],
   "source": [
    "data[0]['name']"
   ]
  },
  {
   "source": [
    "## Query String Parameters"
   ],
   "cell_type": "markdown",
   "metadata": {}
  },
  {
   "cell_type": "code",
   "execution_count": 31,
   "metadata": {},
   "outputs": [
    {
     "output_type": "stream",
     "name": "stdout",
     "text": [
      "[{'id': 8, 'name': 'Nicholas Runolfsdottir V', 'username': 'Maxime_Nienow', 'email': 'Sherwood@rosamond.me', 'address': {'street': 'Ellsworth Summit', 'suite': 'Suite 729', 'city': 'Aliyaview', 'zipcode': '45169', 'geo': {'lat': '-14.3990', 'lng': '-120.7677'}}, 'phone': '586.493.6943 x140', 'website': 'jacynthe.com', 'company': {'name': 'Abernathy Group', 'catchPhrase': 'Implemented secondary concept', 'bs': 'e-enable extensible e-tailers'}}]\n"
     ]
    },
    {
     "output_type": "execute_result",
     "data": {
      "text/plain": [
       "'Abernathy Group'"
      ]
     },
     "metadata": {},
     "execution_count": 31
    }
   ],
   "source": [
    "url_users = 'https://jsonplaceholder.typicode.com/users'\n",
    "response = requests.get(url_users, params={'id': 8})\n",
    "data = response.json()\n",
    "print(data)\n",
    "data[0]['company']['name']"
   ]
  },
  {
   "source": [
    "### Request Headers"
   ],
   "cell_type": "markdown",
   "metadata": {}
  },
  {
   "cell_type": "code",
   "execution_count": 34,
   "metadata": {},
   "outputs": [
    {
     "output_type": "stream",
     "name": "stdout",
     "text": [
      "[{'id': 8, 'name': 'Nicholas Runolfsdottir V', 'username': 'Maxime_Nienow', 'email': 'Sherwood@rosamond.me', 'address': {'street': 'Ellsworth Summit', 'suite': 'Suite 729', 'city': 'Aliyaview', 'zipcode': '45169', 'geo': {'lat': '-14.3990', 'lng': '-120.7677'}}, 'phone': '586.493.6943 x140', 'website': 'jacynthe.com', 'company': {'name': 'Abernathy Group', 'catchPhrase': 'Implemented secondary concept', 'bs': 'e-enable extensible e-tailers'}}]\n"
     ]
    }
   ],
   "source": [
    "url_users = 'https://jsonplaceholder.typicode.com/users'\n",
    "response = requests.get(url_users, params={'id': 8}, headers={'Accept': 'application/json'})\n",
    "data = response.json()\n",
    "print(data)"
   ]
  },
  {
   "source": [
    "### Ostale metode"
   ],
   "cell_type": "markdown",
   "metadata": {}
  },
  {
   "source": [
    "    requests.post('https://httpbin.org/post', data={'key':'value'})\n",
    "    requests.post('https://httpbin.org/post', data={'key':'value'})\n",
    "    requests.put('https://httpbin.org/put', data={'key':'value'})\n",
    "    requests.delete('https://httpbin.org/delete')\n",
    "    requests.head('https://httpbin.org/get')\n",
    "    requests.patch('https://httpbin.org/patch', data={'key':'value'})\n",
    "    requests.options('https://httpbin.org/get')"
   ],
   "cell_type": "markdown",
   "metadata": {}
  },
  {
   "cell_type": "code",
   "execution_count": 35,
   "metadata": {},
   "outputs": [
    {
     "output_type": "execute_result",
     "data": {
      "text/plain": [
       "{'args': {'id': '8'},\n",
       " 'data': '',\n",
       " 'files': {},\n",
       " 'form': {},\n",
       " 'headers': {'Accept': '*/*',\n",
       "  'Accept-Encoding': 'gzip, deflate',\n",
       "  'Content-Length': '0',\n",
       "  'Host': 'httpbin.org',\n",
       "  'User-Agent': 'python-requests/2.24.0',\n",
       "  'X-Amzn-Trace-Id': 'Root=1-5fa50adc-46d60d2b694e02c868dc27f4'},\n",
       " 'json': None,\n",
       " 'origin': '34.107.48.8',\n",
       " 'url': 'https://httpbin.org/delete?id=8'}"
      ]
     },
     "metadata": {},
     "execution_count": 35
    }
   ],
   "source": [
    "response = requests.delete('https://httpbin.org/delete', params={'id': 8})\n",
    "json_response = response.json()\n",
    "json_response"
   ]
  },
  {
   "cell_type": "code",
   "execution_count": 36,
   "metadata": {},
   "outputs": [
    {
     "output_type": "stream",
     "name": "stdout",
     "text": [
      "[{'id': 8, 'name': 'Nicholas Runolfsdottir V', 'username': 'Maxime_Nienow', 'email': 'Sherwood@rosamond.me', 'address': {'street': 'Ellsworth Summit', 'suite': 'Suite 729', 'city': 'Aliyaview', 'zipcode': '45169', 'geo': {'lat': '-14.3990', 'lng': '-120.7677'}}, 'phone': '586.493.6943 x140', 'website': 'jacynthe.com', 'company': {'name': 'Abernathy Group', 'catchPhrase': 'Implemented secondary concept', 'bs': 'e-enable extensible e-tailers'}}]\n"
     ]
    }
   ],
   "source": [
    "#imeouts\n",
    "url_users = 'https://jsonplaceholder.typicode.com/users'\n",
    "response = requests.get(url_users, params={'id': 8}, timeout=1)\n",
    "data = response.json()\n",
    "print(data)"
   ]
  },
  {
   "source": [
    "## Bicikelj vaja"
   ],
   "cell_type": "markdown",
   "metadata": {}
  },
  {
   "cell_type": "code",
   "execution_count": 37,
   "metadata": {},
   "outputs": [],
   "source": [
    "from make_request import get_api_data\n",
    "bicikelj_url = \"https://opendata.si/promet/bicikelj/list/\"\n",
    "data = get_api_data(bicikelj_url)"
   ]
  },
  {
   "cell_type": "code",
   "execution_count": 42,
   "metadata": {
    "tags": []
   },
   "outputs": [
    {
     "output_type": "execute_result",
     "data": {
      "text/plain": [
       "address': 'GRUDNOVO NABREŽJE-KARLOVŠKA C.', 'lat': '46.045748', 'lng': '14.506196', 'open': '1', 'name': 'GRUDNOVO NABREŽJE-KARLOVŠKA C.', 'station_valid': True, 'station': {'available': '9', 'ticket': '0', 'total': '18', 'free': '9'}}), ('7', {'updated': 1604648578, 'bonus': '0', 'timestamp': '2020-11-06T08:42:58.895000Z', 'fullAddress': 'MIKLOŠIČEV PARK', 'number': 7, 'address': 'MIKLOŠIČEV PARK', 'lat': '46.054168', 'lng': '14.507060', 'open': '1', 'name': 'MIKLOŠIČEV PARK', 'station_valid': True, 'station': {'available': '4', 'ticket': '0', 'total': '18', 'free': '14'}}), ('8', {'updated': 1604648578, 'bonus': '0', 'timestamp': '2020-11-06T08:42:58.824000Z', 'fullAddress': 'BAVARSKI DVOR', 'number': 8, 'address': 'BAVARSKI DVOR', 'lat': '46.056820', 'lng': '14.505510', 'open': '1', 'name': 'BAVARSKI DVOR', 'station_valid': True, 'station': {'available': '8', 'ticket': '0', 'total': '20', 'free': '12'}}), ('9', {'updated': 1604648578, 'bonus': '0', 'timestamp': '2020-11-06T08:42:58.880000Z', 'fullAddress': 'TRG OF-KOLODVORSKA UL.', 'number': 9, 'address': 'TRG OF-KOLODVORSKA UL.', 'lat': '46.057421', 'lng': '14.510265', 'open': '1', 'name': 'TRG OF-KOLODVORSKA UL.', 'station_valid': True, 'station': {'available': '3', 'ticket': '0', 'total': '26', 'free': '23'}}), ('10', {'updated': 1604648578, 'bonus': '0', 'timestamp': '2020-11-06T08:42:58.798000Z', 'fullAddress': 'MASARYKOVA DDC', 'number': 10, 'address': 'MASARYKOVA DDC', 'lat': '46.057630', 'lng': '14.514264', 'open': '1', 'name': 'MASARYKOVA DDC', 'station_valid': True, 'station': {'available': '1', 'ticket': '0', 'total': '18', 'free': '17'}}), ('11', {'updated': 1604648578, 'bonus': '0', 'timestamp': '2020-11-06T08:42:58.797000Z', 'fullAddress': 'VILHARJEVA CESTA', 'number': 11, 'address': 'VILHARJEVA CESTA', 'lat': '46.060050', 'lng': '14.513020', 'open': '1', 'name': 'VILHARJEVA CESTA', 'station_valid': True, 'station': {'available': '8', 'ticket': '0', 'total': '20', 'free': '12'}}), ('12', {'updated': 1604648578, 'bonus': '0', 'timestamp': '2020-11-06T08:42:58.836000Z', 'fullAddress': 'PARK NAVJE-ŽELEZNA CESTA', 'number': 12, 'address': 'PARK NAVJE-ŽELEZNA CESTA', 'lat': '46.063610', 'lng': '14.513150', 'open': '1', 'name': 'PARK NAVJE-ŽELEZNA CESTA', 'station_valid': True, 'station': {'available': '2', 'ticket': '0', 'total': '20', 'free': '18'}}), ('13', {'updated': 1604648578, 'bonus': '0', 'timestamp': '2020-11-06T08:42:58.881000Z', 'fullAddress': 'TRG MDB', 'number': 13, 'address': 'TRG MDB', 'lat': '46.047565', 'lng': '14.495687', 'open': '1', 'name': 'TRG MDB', 'station_valid': True, 'station': {'available': '6', 'ticket': '0', 'total': '16', 'free': '10'}}), ('14', {'updated': 1604648578, 'bonus': '0', 'timestamp': '2020-11-06T08:42:58.841000Z', 'fullAddress': 'PARKIRIŠČE NUK 2-FF', 'number': 14, 'address': 'PARKIRIŠČE NUK 2-FF', 'lat': '46.046377', 'lng': '14.501256', 'open': '1', 'name': 'PARKIRIŠČE NUK 2-FF', 'station_valid': True, 'station': {'available': '2', 'ticket': '0', 'total': '20', 'free': '18'}}), ('15', {'updated': 1604648578, 'bonus': '0', 'timestamp': '2020-11-06T08:42:58.905000Z', 'fullAddress': 'AMBROŽEV TRG', 'number': 15, 'address': 'AMBROŽEV TRG', 'lat': '46.049877', 'lng': '14.516308', 'open': '1', 'name': 'AMBROŽEV TRG', 'station_valid': True, 'station': {'available': '3', 'ticket': '0', 'total': '18', 'free': '15'}}), ('16', {'updated': 1604648578, 'bonus': '0', 'timestamp': '2020-11-06T08:42:58.869000Z', 'fullAddress': 'GH ŠENTPETER-NJEGOŠEVA C.', 'number': 16, 'address': 'GH ŠENTPETER-NJEGOŠEVA C.', 'lat': '46.052570', 'lng': '14.519280', 'open': '1', 'name': 'GH ŠENTPETER-NJEGOŠEVA C.', 'station_valid': True, 'station': {'available': '3', 'ticket': '0', 'total': '24', 'free': '21'}}), ('17', {'updated': 1604648578, 'bonus': '0', 'timestamp': '2020-11-06T08:42:58.827000Z', 'fullAddress': 'ILIRSKA ULICA', 'number': 17, 'address': 'ILIRSKA ULICA', 'lat': '46.053144', 'lng': '14.513479', 'open': '1', 'name': 'ILIRSKA ULICA', 'station_valid': True, 'station': {'available': '4', 'ticket': '0', 'total': '18', 'free': '14'}}), ('18', {'updated': 1604648578, 'bonus': '0', 'timestamp': '2020-11-06T08:42:58.882000Z', 'fullAddress': 'TRŽAŠKA C.-ILIRIJA', 'number': 18, 'address': 'TRŽAŠKA C.-ILIRIJA', 'lat': '46.044629', 'lng': '14.486699', 'open': '1', 'name': 'TRŽAŠKA C.-ILIRIJA', 'station_valid': True, 'station': {'available': '0', 'ticket': '0', 'total': '0', 'free': '0'}}), ('19', {'updated': 1604648578, 'bonus': '0', 'timestamp': '2020-11-06T08:42:58.813000Z', 'fullAddress': 'TIVOLI', 'number': 19, 'address': 'TIVOLI', 'lat': '46.059520', 'lng': '14.498200', 'open': '1', 'name': 'TIVOLI', 'station_valid': True, 'station': {'available': '8', 'ticket': '0', 'total': '20', 'free': '12'}}), ('20', {'updated': 1604648578, 'bonus': '0', 'timestamp': '2020-11-06T08:42:58.825000Z', 'fullAddress': 'STARA CERKEV', 'number': 20, 'address': 'STARA CERKEV', 'lat': '46.063420', 'lng': '14.494588', 'open': '1', 'name': 'STARA CERKEV', 'station_valid': True, 'station': {'available': '0', 'ticket': '0', 'total': '14', 'free': '14'}}), ('21', {'updated': 1604648578, 'bonus': '0', 'timestamp': '2020-11-06T08:42:58.851000Z', 'fullAddress': 'KINO ŠIŠKA', 'number': 21, 'address': 'KINO ŠIŠKA', 'lat': '46.069280', 'lng': '14.489710', 'open': '1', 'name': 'KINO ŠIŠKA', 'station_valid': True, 'station': {'available': '0', 'ticket': '0', 'total': '26', 'free': '26'}}), ('22', {'updated': 1604648578, 'bonus': '0', 'timestamp': '2020-11-06T08:42:58.823000Z', 'fullAddress': 'ŠPICA', 'number': 22, 'address': 'ŠPICA', 'lat': '46.040213', 'lng': '14.512044', 'open': '1', 'name': 'ŠPICA', 'station_valid': True, 'station': {'available': '7', 'ticket': '0', 'total': '18', 'free': '11'}}), ('23', {'updated': 1604648578, 'bonus': '0', 'timestamp': '2020-11-06T08:42:58.904000Z', 'fullAddress': 'BARJANSKA C.-CENTER STAREJŠIH TRNOVO', 'number': 23, 'address': 'BARJANSKA C.-CENTER STAREJŠIH TRNOVO', 'lat': '46.040810', 'lng': '14.499510', 'open': '1', 'name': 'BARJANSKA C.-CENTER STAREJŠIH TRNOVO', 'station_valid': True, 'station': {'available': '12', 'ticket': '0', 'total': '19', 'free': '7'}}), ('24', {'updated': 1604648578, 'bonus': '0', 'timestamp': '2020-11-06T08:42:58.853000Z', 'fullAddress': 'ZALOŠKA C.-GRABLOVIČEVA C.', 'number': 24, 'address': 'ZALOŠKA C.-GRABLOVIČEVA C.', 'lat': '46.054410', 'lng': '14.529780', 'open': '1', 'name': 'ZALOŠKA C.-GRABLOVIČEVA C.', 'station_valid': True, 'station': {'available': '13', 'ticket': '0', 'total': '16', 'free': '3'}}), ('25', {'updated': 1604648578, 'bonus': '0', 'timestamp': '2020-11-06T08:42:58.814000Z', 'fullAddress': 'TRŽNICA MOSTE', 'number': 25, 'address': 'TRŽNICA MOSTE', 'lat': '46.055801', 'lng': '14.534156', 'open': '1', 'name': 'TRŽNICA MOSTE', 'station_valid': True, 'station': {'available': '10', 'ticket': '0', 'total': '21', 'free': '11'}}), ('26', {'updated': 1604648578, 'bonus': '0', 'timestamp': '2020-11-06T08:42:58.850000Z', 'fullAddress': 'ROŽNA DOLINA-ŠKRABČEVA UL.', 'number': 26, 'address': 'ROŽNA DOLINA-ŠKRABČEVA UL.', 'lat': '46.051439', 'lng': '14.492730', 'open': '1', 'name': 'ROŽNA DOLINA-ŠKRABČEVA UL.', 'station_valid': True, 'station': {'available': '2', 'ticket': '0', 'total': '18', 'free': '16'}}), ('27', {'updated': 1604648578, 'bonus': '0', 'timestamp': '2020-11-06T08:42:58.839000Z', 'fullAddress': 'DUNAJSKA C.-PS PETROL', 'number': 27, 'address': 'DUNAJSKA C.-PS PETROL', 'lat': '46.065136', 'lng': '14.509112', 'open': '1', 'name': 'DUNAJSKA C.-PS PETROL', 'station_valid': True, 'station': {'available': '3', 'ticket': '0', 'total': '20', 'free': '17'}}), ('28', {'updated': 1604648578, 'bonus': '0', 'timestamp': '2020-11-06T08:42:58.909000Z', 'fullAddress': 'PLEČNIKOV STADION', 'number': 28, 'address': 'PLEČNIKOV STADION', 'lat': '46.069420', 'lng': '14.510520', 'open': '1', 'name': 'PLEČNIKOV STADION', 'station_valid': True, 'station': {'available': '0', 'ticket': '0', 'total': '18', 'free': '18'}}), ('29', {'updated': 1604648578, 'bonus': '0', 'timestamp': '2020-11-06T08:42:58.829000Z', 'fullAddress': 'DUNAJSKA C.-PS MERCATOR', 'number': 29, 'address': 'DUNAJSKA C.-PS MERCATOR', 'lat': '46.074193', 'lng': '14.511134', 'open': '1', 'name': 'DUNAJSKA C.-PS MERCATOR', 'station_valid': True, 'station': {'available': '8', 'ticket': '0', 'total': '18', 'free': '10'}}), ('30', {'updated': 1604648578, 'bonus': '0', 'timestamp': '2020-11-06T08:42:58.832000Z', 'fullAddress': 'LIDL - VOJKOVA CESTA', 'number': 30, 'address': 'LIDL - VOJKOVA CESTA', 'lat': '46.075890', 'lng': '14.520110', 'open': '1', 'name': 'LIDL - VOJKOVA CESTA', 'station_valid': True, 'station': {'available': '5', 'ticket': '0', 'total': '20', 'free': '15'}}), ('31', {'updated': 1604648578, 'bonus': '0', 'timestamp': '2020-11-06T08:42:58.822000Z', 'fullAddress': 'ŠPORTNI CENTER STOŽICE', 'number': 31, 'address': 'ŠPORTNI CENTER STOŽICE', 'lat': '46.082590', 'lng': '14.520160', 'open': '1', 'name': 'ŠPORTNI CENTER STOŽICE', 'station_valid': True, 'station': {'available': '7', 'ticket': '0', 'total': '26', 'free': '19'}}), ('32', {'updated': 1604648578, 'bonus': '0', 'timestamp': '2020-11-06T08:42:58.831000Z', 'fullAddress': 'KOPRSKA ULICA', 'number': 32, 'address': 'KOPRSKA ULICA', 'lat': '46.033408', 'lng': '14.482468', 'open': '1', 'name': 'KOPRSKA ULICA', 'station_valid': True, 'station': {'available': '5', 'ticket': '0', 'total': '8', 'free': '3'}}), ('33', {'updated': 1604648578, 'bonus': '0', 'timestamp': '2020-11-06T08:42:58.858000Z', 'fullAddress': 'MERCATOR CENTER ŠIŠKA', 'number': 33, 'address': 'MERCATOR CENTER ŠIŠKA', 'lat': '46.087079', 'lng': '14.475439', 'open': '1', 'name': 'MERCATOR CENTER ŠIŠKA', 'station_valid': True, 'station': {'available': '10', 'ticket': '0', 'total': '22', 'free': '12'}}), ('34', {'updated': 1604648578, 'bonus': '0', 'timestamp': '2020-11-06T08:42:58.830000Z', 'fullAddress': 'CITYPARK', 'number': 34, 'address': 'CITYPARK', 'lat': '46.068805', 'lng': '14.546257', 'open': '1', 'name': 'CITYPARK', 'station_valid': True, 'station': {'available': '3', 'ticket': '0', 'total': '20', 'free': '17'}}), ('35', {'updated': 1604648578, 'bonus': '0', 'timestamp': '2020-11-06T08:42:58.846000Z', 'fullAddress': 'BTC CITY/DVORANA A', 'number': 35, 'address': 'BTC CITY/DVORANA A', 'lat': '46.065297', 'lng': '14.543996', 'open': '1', 'name': 'BTC CITY/DVORANA A', 'station_valid': True, 'station': {'available': '6', 'ticket': '0', 'total': '20', 'free': '14'}}), ('36', {'updated': 1604648578, 'bonus': '0', 'timestamp': '2020-11-06T08:42:58.893000Z', 'fullAddress': 'BTC CITY ATLANTIS', 'number': 36, 'address': 'BTC CITY ATLANTIS', 'lat': '46.063081', 'lng': '14.547851', 'open': '1', 'name': 'BTC CITY ATLANTIS', 'station_valid': True, 'station': {'available': '5', 'ticket': '0', 'total': '20', 'free': '15'}}), ('37', {'updated': 1604648578, 'bonus': '0', 'timestamp': '2020-11-06T08:42:58.847000Z', 'fullAddress': 'TRNOVO', 'number': 37, 'address': 'TRNOVO', 'lat': '46.037840', 'lng': '14.500010', 'open': '1', 'name': 'TRNOVO', 'station_valid': True, 'station': {'available': '15', 'ticket': '0', 'total': '20', 'free': '5'}}), ('38', {'updated': 1604648578, 'bonus': '0', 'timestamp': '2020-11-06T08:42:58.849000Z', 'fullAddress': 'P+R BARJE', 'number': 38, 'address': 'P+R BARJE', 'lat': '46.027490', 'lng': '14.499580', 'open': '1', 'name': 'P+R BARJE', 'station_valid': True, 'station': {'available': '14', 'ticket': '0', 'total': '20', 'free': '6'}}), ('39', {'updated': 1604648578, 'bonus': '0', 'timestamp': '2020-11-06T08:42:58.873000Z', 'fullAddress': 'P + R DOLGI MOST', 'number': 39, 'address': 'P + R DOLGI MOST', 'lat': '46.037003', 'lng': '14.465229', 'open': '1', 'name': 'P + R DOLGI MOST', 'station_valid': True, 'station': {'available': '12', 'ticket': '0', 'total': '20', 'free': '8'}}), ('40', {'updated': 1604648578, 'bonus': '0', 'timestamp': '2020-11-06T08:42:58.870000Z', 'fullAddress': 'BONIFACIJA', 'number': 40, 'address': 'BONIFACIJA', 'lat': '46.039641', 'lng': '14.472664', 'open': '1', 'name': 'BONIFACIJA', 'station_valid': True, 'station': {'available': '14', 'ticket': '0', 'total': '21', 'free': '7'}}), ('41', {'updated': 1604648578, 'bonus': '0', 'timestamp': '2020-11-06T08:42:58.811000Z', 'fullAddress': 'ANTONOV TRG', 'number': 41, 'address': 'ANTONOV TRG', 'lat': '46.041753', 'lng': '14.477016', 'open': '1', 'name': 'ANTONOV TRG', 'station_valid': True, 'station': {'available': '0', 'ticket': '0', 'total': '0', 'free': '0'}}), ('42', {'updated': 1604648578, 'bonus': '0', 'timestamp': '2020-11-06T08:42:58.842000Z', 'fullAddress': 'BRATOVŠEVA PLOŠČAD', 'number': 42, 'address': 'BRATOVŠEVA PLOŠČAD', 'lat': '46.089290', 'lng': '14.513751', 'open': '1', 'name': 'BRATOVŠEVA PLOŠČAD', 'station_valid': True, 'station': {'available': '8', 'ticket': '0', 'total': '19', 'free': '11'}}), ('43', {'updated': 1604648578, 'bonus': '0', 'timestamp': '2020-11-06T08:42:58.844000Z', 'fullAddress': 'BS4-STOŽICE', 'number': 43, 'address': 'BS4-STOŽICE', 'lat': '46.086761', 'lng': '14.514151', 'open': '1', 'name': 'BS4-STOŽICE', 'station_valid': True, 'station': {'available': '2', 'ticket': '0', 'total': '20', 'free': '18'}}), ('44', {'updated': 1604648578, 'bonus': '0', 'timestamp': '2020-11-06T08:42:58.889000Z', 'fullAddress': 'SAVSKO NASELJE 2-LINHARTOVA CESTA', 'number': 44, 'address': 'SAVSKO NASELJE 2-LINHARTOVA CESTA', 'lat': '46.064546', 'lng': '14.518013', 'open': '1', 'name': 'SAVSKO NASELJE 2-LINHARTOVA CESTA', 'station_valid': True, 'station': {'available': '0', 'ticket': '0', 'total': '20', 'free': '20'}}), ('45', {'updated': 1604648578, 'bonus': '0', 'timestamp': '2020-11-06T08:42:58.796000Z', 'fullAddress': 'SAVSKO NASELJE 1-ŠMARTINSKA CESTA', 'number': 45, 'address': 'SAVSKO NASELJE 1-ŠMARTINSKA CESTA', 'lat': '46.062475', 'lng': '14.524321', 'open': '1', 'name': 'SAVSKO NASELJE 1-ŠMARTINSKA CESTA', 'station_valid': True, 'station': {'available': '0', 'ticket': '0', 'total': '20', 'free': '20'}}), ('46', {'updated': 1604648578, 'bonus': '0', 'timestamp': '2020-11-06T08:42:58.826000Z', 'fullAddress': 'SITULA', 'number': 46, 'address': 'SITULA', 'lat': '46.059433', 'lng': '14.520510', 'open': '1', 'name': 'SITULA', 'station_valid': True, 'station': {'available': '2', 'ticket': '0', 'total': '19', 'free': '17'}}), ('47', {'updated': 1604648578, 'bonus': '0', 'timestamp': '2020-11-06T08:42:58.855000Z', 'fullAddress': 'ŠTEPANJSKO NASELJE 1-JAKČEVA ULICA', 'number': 47, 'address': 'ŠTEPANJSKO NASELJE 1-JAKČEVA ULICA', 'lat': '46.053047', 'lng': '14.545125', 'open': '1', 'name': 'ŠTEPANJSKO NASELJE 1-JAKČEVA ULICA', 'station_valid': True, 'station': {'available': '0', 'ticket': '0', 'total': '19', 'free': '19'}}), ('48', {'updated': 1604648578, 'bonus': '0', 'timestamp': '2020-11-06T08:42:58.838000Z', 'fullAddress': 'HOFER-KAJUHOVA', 'number': 48, 'address': 'HOFER-KAJUHOVA', 'lat': '46.056405', 'lng': '14.540901', 'open': '1', 'name': 'HOFER-KAJUHOVA', 'station_valid': True, 'station': {'available': '4', 'ticket': '0', 'total': '20', 'free': '16'}}), ('49', {'updated': 1604648578, 'bonus': '0', 'timestamp': '2020-11-06T08:42:58.852000Z', 'fullAddress': 'BRODARJEV TRG', 'number': 49, 'address': 'BRODARJEV TRG', 'lat': '46.054398', 'lng': '14.553319', 'open': '1', 'name': 'BRODARJEV TRG', 'station_valid': True, 'station': {'available': '3', 'ticket': '0', 'total': '19', 'free': '16'}}), ('50', {'updated': 1604648578, 'bonus': '0', 'timestamp': '2020-11-06T08:42:58.908000Z', 'fullAddress': 'PREGLOV TRG', 'number': 50, 'address': 'PREGLOV TRG', 'lat': '46.054554', 'lng': '14.559080', 'open': '1', 'name': 'PREGLOV TRG', 'station_valid': True, 'station': {'available': '0', 'ticket': '0', 'total': '20', 'free': '20'}}), ('51', {'updated': 1604648578, 'bonus': '0', 'timestamp': '2020-11-06T08:42:58.820000Z', 'fullAddress': 'LIDL-LITIJSKA CESTA', 'number': 51, 'address': 'LIDL-LITIJSKA CESTA', 'lat': '46.047689', 'lng': '14.547416', 'open': '1', 'name': 'LIDL-LITIJSKA CESTA', 'station_valid': True, 'station': {'available': '13', 'ticket': '0', 'total': '20', 'free': '7'}}), ('52', {'updated': 1604648578, 'bonus': '0', 'timestamp': '2020-11-06T08:42:58.845000Z', 'fullAddress': 'ŽIVALSKI VRT', 'number': 52, 'address': 'ŽIVALSKI VRT', 'lat': '46.052454', 'lng': '14.472149', 'open': '1', 'name': 'ŽIVALSKI VRT', 'station_valid': True, 'station': {'available': '11', 'ticket': '0', 'total': '20', 'free': '9'}}), ('53', {'updated': 1604648578, 'bonus': '0', 'timestamp': '2020-11-06T08:42:58.837000Z', 'fullAddress': 'CESTA NA ROŽNIK', 'number': 53, 'address': 'CESTA NA ROŽNIK', 'lat': '46.053241', 'lng': '14.486206', 'open': '1', 'name': 'CESTA NA ROŽNIK', 'station_valid': True, 'station': {'available': '10', 'ticket': '0', 'total': '20', 'free': '10'}}), ('54', {'updated': 1604648578, 'bonus': '0', 'timestamp': '2020-11-06T08:42:58.795000Z', 'fullAddress': 'ŠMARTINSKI PARK', 'number': 54, 'address': 'ŠMARTINSKI PARK', 'lat': '46.065206', 'lng': '14.529911', 'open': '1', 'name': 'ŠMARTINSKI PARK', 'station_valid': True, 'station': {'available': '6', 'ticket': '0', 'total': '20', 'free': '14'}}), ('55', {'updated': 1604648578, 'bonus': '0', 'timestamp': '2020-11-06T08:42:58.833000Z', 'fullAddress': 'POLJANSKA-POTOČNIKOVA', 'number': 55, 'address': 'POLJANSKA-POTOČNIKOVA', 'lat': '46.048982', 'lng': '14.522709', 'open': '1', 'name': 'POLJANSKA-POTOČNIKOVA', 'station_valid': True, 'station': {'available': '7', 'ticket': '0', 'total': '20', 'free': '13'}}), ('56', {'updated': 1604648578, 'bonus': '0', 'timestamp': '2020-11-06T08:42:58.876000Z', 'fullAddress': 'SREDNJA FRIZERSKA ŠOLA', 'number': 56, 'address': 'SREDNJA FRIZERSKA ŠOLA', 'lat': '46.080522', 'lng': '14.491439', 'open': '1', 'name': 'SREDNJA FRIZERSKA ŠOLA', 'station_valid': True, 'station': {'available': '0', 'ticket': '0', 'total': '20', 'free': '20'}}), ('57', {'updated': 1604648578, 'bonus': '0', 'timestamp': '2020-11-06T08:42:58.835000Z', 'fullAddress': 'POVŠETOVA-GRABLOVIČEVA', 'number': 57, 'address': 'POVŠETOVA-GRABLOVIČEVA', 'lat': '46.051863', 'lng': '14.530349', 'open': '1', 'name': 'POVŠETOVA-GRABLOVIČEVA', 'station_valid': True, 'station': {'available': '0', 'ticket': '0', 'total': '19', 'free': '19'}}), ('58', {'updated': 1604648578, 'bonus': '0', 'timestamp': '2020-11-06T08:42:58.856000Z', 'fullAddress': 'TRŽNICA KOSEZE', 'number': 58, 'address': 'TRŽNICA KOSEZE', 'lat': '46.074315', 'lng': '14.475483', 'open': '1', 'name': 'TRŽNICA KOSEZE', 'station_valid': True, 'station': {'available': '15', 'ticket': '0', 'total': '18', 'free': '3'}}), ('59', {'updated': 1604648578, 'bonus': '0', 'timestamp': '2020-11-06T08:42:58.792000Z', 'fullAddress': 'LIDL BEŽIGRAD', 'number': 59, 'address': 'LIDL BEŽIGRAD', 'lat': '46.063797', 'lng': '14.506854', 'open': '1', 'name': 'LIDL BEŽIGRAD', 'station_valid': True, 'station': {'available': '0', 'ticket': '0', 'total': '20', 'free': '20'}}), ('60', {'updated': 1604648578, 'bonus': '0', 'timestamp': '2020-11-06T08:42:58.888000Z', 'fullAddress': 'MERCATOR MARKET - CELOVŠKA C. 163', 'number': 60, 'address': 'MERCATOR MARKET - CELOVŠKA C. 163', 'lat': '46.073264', 'lng': '14.485942', 'open': '1', 'name': 'MERCATOR MARKET - CELOVŠKA C. 163', 'station_valid': True, 'station': {'available': '0', 'ticket': '0', 'total': '20', 'free': '20'}}), ('61', {'updated': 1604648578, 'bonus': '0', 'timestamp': '2020-11-06T08:42:58.906000Z', 'fullAddress': 'RAKOVNIK', 'number': 61, 'address': 'RAKOVNIK', 'lat': '46.036284', 'lng': '14.522948', 'open': '1', 'name': 'RAKOVNIK', 'station_valid': True, 'station': {'available': '6', 'ticket': '0', 'total': '20', 'free': '14'}}), ('62', {'updated': 1604648578, 'bonus': '0', 'timestamp': '2020-11-06T08:42:58.857000Z', 'fullAddress': 'ALEJA - CELOVŠKA CESTA', 'number': 62, 'address': 'ALEJA - CELOVŠKA CESTA', 'lat': '46.077302', 'lng': '14.482581', 'open': '1', 'name': 'ALEJA - CELOVŠKA CESTA', 'station_valid': True, 'station': {'available': '0', 'ticket': '0', 'total': '20', 'free': '20'}})])"
      ]
     },
     "metadata": {},
     "execution_count": 42
    }
   ],
   "source": []
  },
  {
   "cell_type": "code",
   "execution_count": null,
   "metadata": {},
   "outputs": [],
   "source": []
  },
  {
   "cell_type": "code",
   "execution_count": 43,
   "metadata": {},
   "outputs": [
    {
     "output_type": "stream",
     "name": "stdout",
     "text": [
      "['DSDSD', 'SDSDSD', 'FHFHHF']\n"
     ]
    }
   ],
   "source": [
    "a = ['dsdsd', 'sdsdsd', 'fhfhhf']\n",
    "\n",
    "results= []\n",
    "for el in a:\n",
    "    results.append(el.upper())\n",
    "\n",
    "print(results)"
   ]
  },
  {
   "cell_type": "code",
   "execution_count": 45,
   "metadata": {},
   "outputs": [
    {
     "output_type": "execute_result",
     "data": {
      "text/plain": [
       "['DSDSD', 'SDSDSD', 'FHFHHF']"
      ]
     },
     "metadata": {},
     "execution_count": 45
    }
   ],
   "source": [
    "results = [el.upper() for el in a]\n",
    "results"
   ]
  },
  {
   "cell_type": "code",
   "execution_count": null,
   "metadata": {},
   "outputs": [],
   "source": []
  }
 ]
}