{
 "metadata": {
  "language_info": {
   "codemirror_mode": {
    "name": "ipython",
    "version": 3
   },
   "file_extension": ".py",
   "mimetype": "text/x-python",
   "name": "python",
   "nbconvert_exporter": "python",
   "pygments_lexer": "ipython3",
   "version": "3.9.0-final"
  },
  "orig_nbformat": 2,
  "kernelspec": {
   "name": "python3",
   "display_name": "Python 3"
  }
 },
 "nbformat": 4,
 "nbformat_minor": 2,
 "cells": [
  {
   "source": [
    "# HTTP REST APIs (requests library)"
   ],
   "cell_type": "markdown",
   "metadata": {}
  },
  {
   "cell_type": "code",
   "execution_count": 2,
   "metadata": {},
   "outputs": [],
   "source": [
    "# importamo knjižnico\n",
    "import requests"
   ]
  },
  {
   "cell_type": "code",
   "execution_count": 3,
   "metadata": {},
   "outputs": [],
   "source": [
    "url_users = 'https://jsonplaceholder.typicode.com/users'"
   ]
  },
  {
   "cell_type": "code",
   "execution_count": 7,
   "metadata": {},
   "outputs": [
    {
     "output_type": "stream",
     "name": "stdout",
     "text": [
      "<class 'requests.models.Response'>\n"
     ]
    }
   ],
   "source": [
    "# GET klic\n",
    "response = requests.get(url_users)\n",
    "print(type(response))"
   ]
  },
  {
   "cell_type": "code",
   "execution_count": 8,
   "metadata": {},
   "outputs": [
    {
     "output_type": "execute_result",
     "data": {
      "text/plain": [
       "200"
      ]
     },
     "metadata": {},
     "execution_count": 8
    }
   ],
   "source": [
    "# response koda odgovora\n",
    "response.status_code"
   ]
  },
  {
   "cell_type": "code",
   "execution_count": 25,
   "metadata": {},
   "outputs": [
    {
     "output_type": "execute_result",
     "data": {
      "text/plain": [
       "'application/json; charset=utf-8'"
      ]
     },
     "metadata": {},
     "execution_count": 25
    }
   ],
   "source": [
    "response.headers['Content-Type']"
   ]
  },
  {
   "cell_type": "code",
   "execution_count": 19,
   "metadata": {},
   "outputs": [],
   "source": [
    "#response.content\n",
    "#print(response.text)\n",
    "# v primeru da je odgovor json\n",
    "data = response.json()"
   ]
  },
  {
   "cell_type": "code",
   "execution_count": 20,
   "metadata": {},
   "outputs": [
    {
     "output_type": "execute_result",
     "data": {
      "text/plain": [
       "list"
      ]
     },
     "metadata": {},
     "execution_count": 20
    }
   ],
   "source": [
    "type(data)"
   ]
  },
  {
   "cell_type": "code",
   "execution_count": 23,
   "metadata": {},
   "outputs": [
    {
     "output_type": "execute_result",
     "data": {
      "text/plain": [
       "'Leanne Graham'"
      ]
     },
     "metadata": {},
     "execution_count": 23
    }
   ],
   "source": [
    "data[0]['name']"
   ]
  },
  {
   "source": [
    "## Query String Parameters"
   ],
   "cell_type": "markdown",
   "metadata": {}
  },
  {
   "cell_type": "code",
   "execution_count": 31,
   "metadata": {},
   "outputs": [
    {
     "output_type": "stream",
     "name": "stdout",
     "text": [
      "[{'id': 8, 'name': 'Nicholas Runolfsdottir V', 'username': 'Maxime_Nienow', 'email': 'Sherwood@rosamond.me', 'address': {'street': 'Ellsworth Summit', 'suite': 'Suite 729', 'city': 'Aliyaview', 'zipcode': '45169', 'geo': {'lat': '-14.3990', 'lng': '-120.7677'}}, 'phone': '586.493.6943 x140', 'website': 'jacynthe.com', 'company': {'name': 'Abernathy Group', 'catchPhrase': 'Implemented secondary concept', 'bs': 'e-enable extensible e-tailers'}}]\n"
     ]
    },
    {
     "output_type": "execute_result",
     "data": {
      "text/plain": [
       "'Abernathy Group'"
      ]
     },
     "metadata": {},
     "execution_count": 31
    }
   ],
   "source": [
    "url_users = 'https://jsonplaceholder.typicode.com/users'\n",
    "response = requests.get(url_users, params={'id': 8})\n",
    "data = response.json()\n",
    "print(data)\n",
    "data[0]['company']['name']"
   ]
  },
  {
   "source": [
    "### Request Headers"
   ],
   "cell_type": "markdown",
   "metadata": {}
  },
  {
   "cell_type": "code",
   "execution_count": 34,
   "metadata": {},
   "outputs": [
    {
     "output_type": "stream",
     "name": "stdout",
     "text": [
      "[{'id': 8, 'name': 'Nicholas Runolfsdottir V', 'username': 'Maxime_Nienow', 'email': 'Sherwood@rosamond.me', 'address': {'street': 'Ellsworth Summit', 'suite': 'Suite 729', 'city': 'Aliyaview', 'zipcode': '45169', 'geo': {'lat': '-14.3990', 'lng': '-120.7677'}}, 'phone': '586.493.6943 x140', 'website': 'jacynthe.com', 'company': {'name': 'Abernathy Group', 'catchPhrase': 'Implemented secondary concept', 'bs': 'e-enable extensible e-tailers'}}]\n"
     ]
    }
   ],
   "source": [
    "url_users = 'https://jsonplaceholder.typicode.com/users'\n",
    "response = requests.get(url_users, params={'id': 8}, headers={'Accept': 'application/json'})\n",
    "data = response.json()\n",
    "print(data)"
   ]
  },
  {
   "source": [
    "### Ostale metode"
   ],
   "cell_type": "markdown",
   "metadata": {}
  },
  {
   "source": [
    "    requests.post('https://httpbin.org/post', data={'key':'value'})\n",
    "    requests.post('https://httpbin.org/post', data={'key':'value'})\n",
    "    requests.put('https://httpbin.org/put', data={'key':'value'})\n",
    "    requests.delete('https://httpbin.org/delete')\n",
    "    requests.head('https://httpbin.org/get')\n",
    "    requests.patch('https://httpbin.org/patch', data={'key':'value'})\n",
    "    requests.options('https://httpbin.org/get')"
   ],
   "cell_type": "markdown",
   "metadata": {}
  },
  {
   "cell_type": "code",
   "execution_count": 35,
   "metadata": {},
   "outputs": [
    {
     "output_type": "execute_result",
     "data": {
      "text/plain": [
       "{'args': {'id': '8'},\n",
       " 'data': '',\n",
       " 'files': {},\n",
       " 'form': {},\n",
       " 'headers': {'Accept': '*/*',\n",
       "  'Accept-Encoding': 'gzip, deflate',\n",
       "  'Content-Length': '0',\n",
       "  'Host': 'httpbin.org',\n",
       "  'User-Agent': 'python-requests/2.24.0',\n",
       "  'X-Amzn-Trace-Id': 'Root=1-5fa50adc-46d60d2b694e02c868dc27f4'},\n",
       " 'json': None,\n",
       " 'origin': '34.107.48.8',\n",
       " 'url': 'https://httpbin.org/delete?id=8'}"
      ]
     },
     "metadata": {},
     "execution_count": 35
    }
   ],
   "source": [
    "response = requests.delete('https://httpbin.org/delete', params={'id': 8})\n",
    "json_response = response.json()\n",
    "json_response"
   ]
  },
  {
   "cell_type": "code",
   "execution_count": 36,
   "metadata": {},
   "outputs": [
    {
     "output_type": "stream",
     "name": "stdout",
     "text": [
      "[{'id': 8, 'name': 'Nicholas Runolfsdottir V', 'username': 'Maxime_Nienow', 'email': 'Sherwood@rosamond.me', 'address': {'street': 'Ellsworth Summit', 'suite': 'Suite 729', 'city': 'Aliyaview', 'zipcode': '45169', 'geo': {'lat': '-14.3990', 'lng': '-120.7677'}}, 'phone': '586.493.6943 x140', 'website': 'jacynthe.com', 'company': {'name': 'Abernathy Group', 'catchPhrase': 'Implemented secondary concept', 'bs': 'e-enable extensible e-tailers'}}]\n"
     ]
    }
   ],
   "source": [
    "#imeouts\n",
    "url_users = 'https://jsonplaceholder.typicode.com/users'\n",
    "response = requests.get(url_users, params={'id': 8}, timeout=1)\n",
    "data = response.json()\n",
    "print(data)"
   ]
  },
  {
   "source": [
    "## Bicikelj vaja"
   ],
   "cell_type": "markdown",
   "metadata": {}
  },
  {
   "cell_type": "code",
   "execution_count": 37,
   "metadata": {},
   "outputs": [],
   "source": [
    "from make_request import get_api_data\n",
    "bicikelj_url = \"https://opendata.si/promet/bicikelj/list/\"\n",
    "data = get_api_data(bicikelj_url)"
   ]
  },
  {
   "cell_type": "code",
   "execution_count": 42,
   "metadata": {
    "tags": []
   },
   "outputs": [
    {
     "output_type": "execute_result",
     "data": {
      "text/plain": [
       "address': 'GRUDNOVO NABREŽJE-KARLOVŠKA C.', 'lat': '46.045748', 'lng': '14.506196', 'open': '1', 'name': 'GRUDNOVO NABREŽJE-KARLOVŠKA C.', 'station_valid': True, 'station': {'available': '9', 'ticket': '0', 'total': '18', 'free': '9'}}), ('7', {'updated': 1604648578, 'bonus': '0', 'timestamp': '2020-11-06T08:42:58.895000Z', 'fullAddress': 'MIKLOŠIČEV PARK', 'number': 7, 'address': 'MIKLOŠIČEV PARK', 'lat': '46.054168', 'lng': '14.507060', 'open': '1', 'name': 'MIKLOŠIČEV PARK', 'station_valid': True, 'station': {'available': '4', 'ticket': '0', 'total': '18', 'free': '14'}}), ('8', {'updated': 1604648578, 'bonus': '0', 'timestamp': '2020-11-06T08:42:58.824000Z', 'fullAddress': 'BAVARSKI DVOR', 'number': 8, 'address': 'BAVARSKI DVOR', 'lat': '46.056820', 'lng': '14.505510', 'open': '1', 'name': 'BAVARSKI DVOR', 'station_valid': True, 'station': {'available': '8', 'ticket': '0', 'total': '20', 'free': '12'}}), ('9', {'updated': 1604648578, 'bonus': '0', 'timestamp': '2020-11-06T08:42:58.880000Z', 'fullAddress': 'TRG OF-KOLODVORSKA UL.', 'number': 9, 'address': 'TRG OF-KOLODVORSKA UL.', 'lat': '46.057421', 'lng': '14.510265', 'open': '1', 'name': 'TRG OF-KOLODVORSKA UL.', 'station_valid': True, 'station': {'available': '3', 'ticket': '0', 'total': '26', 'free': '23'}}), ('10', {'updated': 1604648578, 'bonus': '0', 'timestamp': '2020-11-06T08:42:58.798000Z', 'fullAddress': 'MASARYKOVA DDC', 'number': 10, 'address': 'MASARYKOVA DDC', 'lat': '46.057630', 'lng': '14.514264', 'open': '1', 'name': 'MASARYKOVA DDC', 'station_valid': True, 'station': {'available': '1', 'ticket': '0', 'total': '18', 'free': '17'}}), ('11', {'updated': 1604648578, 'bonus': '0', 'timestamp': '2020-11-06T08:42:58.797000Z', 'fullAddress': 'VILHARJEVA CESTA', 'number': 11, 'address': 'VILHARJEVA CESTA', 'lat': '46.060050', 'lng': '14.513020', 'open': '1', 'name': 'VILHARJEVA CESTA', 'station_valid': True, 'station': {'available': '8', 'ticket': '0', 'total': '20', 'free': '12'}}), ('12', {'updated': 1604648578, 'bonus': '0', 'timestamp': '2020-11-06T08:42:58.836000Z', 'fullAddress': 'PARK NAVJE-ŽELEZNA CESTA', 'number': 12, 'address': 'PARK NAVJE-ŽELEZNA CESTA', 'lat': '46.063610', 'lng': '14.513150', 'open': '1', 'name': 'PARK NAVJE-ŽELEZNA CESTA', 'station_valid': True, 'station': {'available': '2', 'ticket': '0', 'total': '20', 'free': '18'}}), ('13', {'updated': 1604648578, 'bonus': '0', 'timestamp': '2020-11-06T08:42:58.881000Z', 'fullAddress': 'TRG MDB', 'number': 13, 'address': 'TRG MDB', 'lat': '46.047565', 'lng': '14.495687', 'open': '1', 'name': 'TRG MDB', 'station_valid': True, 'station': {'available': '6', 'ticket': '0', 'total': '16', 'free': '10'}}), ('14', {'updated': 1604648578, 'bonus': '0', 'timestamp': '2020-11-06T08:42:58.841000Z', 'fullAddress': 'PARKIRIŠČE NUK 2-FF', 'number': 14, 'address': 'PARKIRIŠČE NUK 2-FF', 'lat': '46.046377', 'lng': '14.501256', 'open': '1', 'name': 'PARKIRIŠČE NUK 2-FF', 'station_valid': True, 'station': {'available': '2', 'ticket': '0', 'total': '20', 'free': '18'}}), ('15', {'updated': 1604648578, 'bonus': '0', 'timestamp': '2020-11-06T08:42:58.905000Z', 'fullAddress': 'AMBROŽEV TRG', 'number': 15, 'address': 'AMBROŽEV TRG', 'lat': '46.049877', 'lng': '14.516308', 'open': '1', 'name': 'AMBROŽEV TRG', 'station_valid': True, 'station': {'available': '3', 'ticket': '0', 'total': '18', 'free': '15'}}), ('16', {'updated': 1604648578, 'bonus': '0', 'timestamp': '2020-11-06T08:42:58.869000Z', 'fullAddress': 'GH ŠENTPETER-NJEGOŠEVA C.', 'number': 16, 'address': 'GH ŠENTPETER-NJEGOŠEVA C.', 'lat': '46.052570', 'lng': '14.519280', 'open': '1', 'name': 'GH ŠENTPETER-NJEGOŠEVA C.', 'station_valid': True, 'station': {'available': '3', 'ticket': '0', 'total': '24', 'free': '21'}}), ('17', {'updated': 1604648578, 'bonus': '0', 'timestamp': '2020-11-06T08:42:58.827000Z', 'fullAddress': 'ILIRSKA ULICA', 'number': 17, 'address': 'ILIRSKA ULICA', 'lat': '46.053144', 'lng': '14.513479', 'open': '1', 'name': 'ILIRSKA ULICA', 'station_valid': True, 'station': {'available': '4', 'ticket': '0', 'total': '18', 'free': '14'}}), ('18', {'updated': 1604648578, 'bonus': '0', 'timestamp': '2020-11-06T08:42:58.882000Z', 'fullAddress': 'TRŽAŠKA C.-ILIRIJA', 'number': 18, 'address': 'TRŽAŠKA C.-ILIRIJA', 'lat': '46.044629', 'lng': '14.486699', 'open': '1', 'name': 'TRŽAŠKA C.-ILIRIJA', 'station_valid': True, 'station': {'available': '0', 'ticket': '0', 'total': '0', 'free': '0'}}), ('19', {'updated': 1604648578, 'bonus': '0', 'timestamp': '2020-11-06T08:42:58.813000Z', 'fullAddress': 'TIVOLI', 'number': 19, 'address': 'TIVOLI', 'lat': '46.059520', 'lng': '14.498200', 'open': '1', 'name': 'TIVOLI', 'station_valid': True, 'station': {'available': '8', 'ticket': '0', 'total': '20', 'free': '12'}}), ('20', {'updated': 1604648578, 'bonus': '0', 'timestamp': '2020-11-06T08:42:58.825000Z', 'fullAddress': 'STARA CERKEV', 'number': 20, 'address': 'STARA CERKEV', 'lat': '46.063420', 'lng': '14.494588', 'open': '1', 'name': 'STARA CERKEV', 'station_valid': True, 'station': {'available': '0', 'ticket': '0', 'total': '14', 'free': '14'}}), ('21', {'updated': 1604648578, 'bonus': '0', 'timestamp': '2020-11-06T08:42:58.851000Z', 'fullAddress': 'KINO ŠIŠKA', 'number': 21, 'address': 'KINO ŠIŠKA', 'lat': '46.069280', 'lng': '14.489710', 'open': '1', 'name': 'KINO ŠIŠKA', 'station_valid': True, 'station': {'available': '0', 'ticket': '0', 'total': '26', 'free': '26'}}), ('22', {'updated': 1604648578, 'bonus': '0', 'timestamp': '2020-11-06T08:42:58.823000Z', 'fullAddress': 'ŠPICA', 'number': 22, 'address': 'ŠPICA', 'lat': '46.040213', 'lng': '14.512044', 'open': '1', 'name': 'ŠPICA', 'station_valid': True, 'station': {'available': '7', 'ticket': '0', 'total': '18', 'free': '11'}}), ('23', {'updated': 1604648578, 'bonus': '0', 'timestamp': '2020-11-06T08:42:58.904000Z', 'fullAddress': 'BARJANSKA C.-CENTER STAREJŠIH TRNOVO', 'number': 23, 'address': 'BARJANSKA C.-CENTER STAREJŠIH TRNOVO', 'lat': '46.040810', 'lng': '14.499510', 'open': '1', 'name': 'BARJANSKA C.-CENTER STAREJŠIH TRNOVO', 'station_valid': True, 'station': {'available': '12', 'ticket': '0', 'total': '19', 'free': '7'}}), ('24', {'updated': 1604648578, 'bonus': '0', 'timestamp': '2020-11-06T08:42:58.853000Z', 'fullAddress': 'ZALOŠKA C.-GRABLOVIČEVA C.', 'number': 24, 'address': 'ZALOŠKA C.-GRABLOVIČEVA C.', 'lat': '46.054410', 'lng': '14.529780', 'open': '1', 'name': 'ZALOŠKA C.-GRABLOVIČEVA C.', 'station_valid': True, 'station': {'available': '13', 'ticket': '0', 'total': '16', 'free': '3'}}), ('25', {'updated': 1604648578, 'bonus': '0', 'timestamp': '2020-11-06T08:42:58.814000Z', 'fullAddress': 'TRŽNICA MOSTE', 'number': 25, 'address': 'TRŽNICA MOSTE', 'lat': '46.055801', 'lng': '14.534156', 'open': '1', 'name': 'TRŽNICA MOSTE', 'station_valid': True, 'station': {'available': '10', 'ticket': '0', 'total': '21', 'free': '11'}}), ('26', {'updated': 1604648578, 'bonus': '0', 'timestamp': '2020-11-06T08:42:58.850000Z', 'fullAddress': 'ROŽNA DOLINA-ŠKRABČEVA UL.', 'number': 26, 'address': 'ROŽNA DOLINA-ŠKRABČEVA UL.', 'lat': '46.051439', 'lng': '14.492730', 'open': '1', 'name': 'ROŽNA DOLINA-ŠKRABČEVA UL.', 'station_valid': True, 'station': {'available': '2', 'ticket': '0', 'total': '18', 'free': '16'}}), ('27', {'updated': 1604648578, 'bonus': '0', 'timestamp': '2020-11-06T08:42:58.839000Z', 'fullAddress': 'DUNAJSKA C.-PS PETROL', 'number': 27, 'address': 'DUNAJSKA C.-PS PETROL', 'lat': '46.065136', 'lng': '14.509112', 'open': '1', 'name': 'DUNAJSKA C.-PS PETROL', 'station_valid': True, 'station': {'available': '3', 'ticket': '0', 'total': '20', 'free': '17'}}), ('28', {'updated': 1604648578, 'bonus': '0', 'timestamp': '2020-11-06T08:42:58.909000Z', 'fullAddress': 'PLEČNIKOV STADION', 'number': 28, 'address': 'PLEČNIKOV STADION', 'lat': '46.069420', 'lng': '14.510520', 'open': '1', 'name': 'PLEČNIKOV STADION', 'station_valid': True, 'station': {'available': '0', 'ticket': '0', 'total': '18', 'free': '18'}}), ('29', {'updated': 1604648578, 'bonus': '0', 'timestamp': '2020-11-06T08:42:58.829000Z', 'fullAddress': 'DUNAJSKA C.-PS MERCATOR', 'number': 29, 'address': 'DUNAJSKA C.-PS MERCATOR', 'lat': '46.074193', 'lng': '14.511134', 'open': '1', 'name': 'DUNAJSKA C.-PS MERCATOR', 'station_valid': True, 'station': {'available': '8', 'ticket': '0', 'total': '18', 'free': '10'}}), ('30', {'updated': 1604648578, 'bonus': '0', 'timestamp': '2020-11-06T08:42:58.832000Z', 'fullAddress': 'LIDL - VOJKOVA CESTA', 'number': 30, 'address': 'LIDL - VOJKOVA CESTA', 'lat': '46.075890', 'lng': '14.520110', 'open': '1', 'name': 'LIDL - VOJKOVA CESTA', 'station_valid': True, 'station': {'available': '5', 'ticket': '0', 'total': '20', 'free': '15'}}), ('31', {'updated': 1604648578, 'bonus': '0', 'timestamp': '2020-11-06T08:42:58.822000Z', 'fullAddress': 'ŠPORTNI CENTER STOŽICE', 'number': 31, 'address': 'ŠPORTNI CENTER STOŽICE', 'lat': '46.082590', 'lng': '14.520160', 'open': '1', 'name': 'ŠPORTNI CENTER STOŽICE', 'station_valid': True, 'station': {'available': '7', 'ticket': '0', 'total': '26', 'free': '19'}}), ('32', {'updated': 1604648578, 'bonus': '0', 'timestamp': '2020-11-06T08:42:58.831000Z', 'fullAddress': 'KOPRSKA ULICA', 'number': 32, 'address': 'KOPRSKA ULICA', 'lat': '46.033408', 'lng': '14.482468', 'open': '1', 'name': 'KOPRSKA ULICA', 'station_valid': True, 'station': {'available': '5', 'ticket': '0', 'total': '8', 'free': '3'}}), ('33', {'updated': 1604648578, 'bonus': '0', 'timestamp': '2020-11-06T08:42:58.858000Z', 'fullAddress': 'MERCATOR CENTER ŠIŠKA', 'number': 33, 'address': 'MERCATOR CENTER ŠIŠKA', 'lat': '46.087079', 'lng': '14.475439', 'open': '1', 'name': 'MERCATOR CENTER ŠIŠKA', 'station_valid': True, 'station': {'available': '10', 'ticket': '0', 'total': '22', 'free': '12'}}), ('34', {'updated': 1604648578, 'bonus': '0', 'timestamp': '2020-11-06T08:42:58.830000Z', 'fullAddress': 'CITYPARK', 'number': 34, 'address': 'CITYPARK', 'lat': '46.068805', 'lng': '14.546257', 'open': '1', 'name': 'CITYPARK', 'station_valid': True, 'station': {'available': '3', 'ticket': '0', 'total': '20', 'free': '17'}}), ('35', {'updated': 1604648578, 'bonus': '0', 'timestamp': '2020-11-06T08:42:58.846000Z', 'fullAddress': 'BTC CITY/DVORANA A', 'number': 35, 'address': 'BTC CITY/DVORANA A', 'lat': '46.065297', 'lng': '14.543996', 'open': '1', 'name': 'BTC CITY/DVORANA A', 'station_valid': True, 'station': {'available': '6', 'ticket': '0', 'total': '20', 'free': '14'}}), ('36', {'updated': 1604648578, 'bonus': '0', 'timestamp': '2020-11-06T08:42:58.893000Z', 'fullAddress': 'BTC CITY ATLANTIS', 'number': 36, 'address': 'BTC CITY ATLANTIS', 'lat': '46.063081', 'lng': '14.547851', 'open': '1', 'name': 'BTC CITY ATLANTIS', 'station_valid': True, 'station': {'available': '5', 'ticket': '0', 'total': '20', 'free': '15'}}), ('37', {'updated': 1604648578, 'bonus': '0', 'timestamp': '2020-11-06T08:42:58.847000Z', 'fullAddress': 'TRNOVO', 'number': 37, 'address': 'TRNOVO', 'lat': '46.037840', 'lng': '14.500010', 'open': '1', 'name': 'TRNOVO', 'station_valid': True, 'station': {'available': '15', 'ticket': '0', 'total': '20', 'free': '5'}}), ('38', {'updated': 1604648578, 'bonus': '0', 'timestamp': '2020-11-06T08:42:58.849000Z', 'fullAddress': 'P+R BARJE', 'number': 38, 'address': 'P+R BARJE', 'lat': '46.027490', 'lng': '14.499580', 'open': '1', 'name': 'P+R BARJE', 'station_valid': True, 'station': {'available': '14', 'ticket': '0', 'total': '20', 'free': '6'}}), ('39', {'updated': 1604648578, 'bonus': '0', 'timestamp': '2020-11-06T08:42:58.873000Z', 'fullAddress': 'P + R DOLGI MOST', 'number': 39, 'address': 'P + R DOLGI MOST', 'lat': '46.037003', 'lng': '14.465229', 'open': '1', 'name': 'P + R DOLGI MOST', 'station_valid': True, 'station': {'available': '12', 'ticket': '0', 'total': '20', 'free': '8'}}), ('40', {'updated': 1604648578, 'bonus': '0', 'timestamp': '2020-11-06T08:42:58.870000Z', 'fullAddress': 'BONIFACIJA', 'number': 40, 'address': 'BONIFACIJA', 'lat': '46.039641', 'lng': '14.472664', 'open': '1', 'name': 'BONIFACIJA', 'station_valid': True, 'station': {'available': '14', 'ticket': '0', 'total': '21', 'free': '7'}}), ('41', {'updated': 1604648578, 'bonus': '0', 'timestamp': '2020-11-06T08:42:58.811000Z', 'fullAddress': 'ANTONOV TRG', 'number': 41, 'address': 'ANTONOV TRG', 'lat': '46.041753', 'lng': '14.477016', 'open': '1', 'name': 'ANTONOV TRG', 'station_valid': True, 'station': {'available': '0', 'ticket': '0', 'total': '0', 'free': '0'}}), ('42', {'updated': 1604648578, 'bonus': '0', 'timestamp': '2020-11-06T08:42:58.842000Z', 'fullAddress': 'BRATOVŠEVA PLOŠČAD', 'number': 42, 'address': 'BRATOVŠEVA PLOŠČAD', 'lat': '46.089290', 'lng': '14.513751', 'open': '1', 'name': 'BRATOVŠEVA PLOŠČAD', 'station_valid': True, 'station': {'available': '8', 'ticket': '0', 'total': '19', 'free': '11'}}), ('43', {'updated': 1604648578, 'bonus': '0', 'timestamp': '2020-11-06T08:42:58.844000Z', 'fullAddress': 'BS4-STOŽICE', 'number': 43, 'address': 'BS4-STOŽICE', 'lat': '46.086761', 'lng': '14.514151', 'open': '1', 'name': 'BS4-STOŽICE', 'station_valid': True, 'station': {'available': '2', 'ticket': '0', 'total': '20', 'free': '18'}}), ('44', {'updated': 1604648578, 'bonus': '0', 'timestamp': '2020-11-06T08:42:58.889000Z', 'fullAddress': 'SAVSKO NASELJE 2-LINHARTOVA CESTA', 'number': 44, 'address': 'SAVSKO NASELJE 2-LINHARTOVA CESTA', 'lat': '46.064546', 'lng': '14.518013', 'open': '1', 'name': 'SAVSKO NASELJE 2-LINHARTOVA CESTA', 'station_valid': True, 'station': {'available': '0', 'ticket': '0', 'total': '20', 'free': '20'}}), ('45', {'updated': 1604648578, 'bonus': '0', 'timestamp': '2020-11-06T08:42:58.796000Z', 'fullAddress': 'SAVSKO NASELJE 1-ŠMARTINSKA CESTA', 'number': 45, 'address': 'SAVSKO NASELJE 1-ŠMARTINSKA CESTA', 'lat': '46.062475', 'lng': '14.524321', 'open': '1', 'name': 'SAVSKO NASELJE 1-ŠMARTINSKA CESTA', 'station_valid': True, 'station': {'available': '0', 'ticket': '0', 'total': '20', 'free': '20'}}), ('46', {'updated': 1604648578, 'bonus': '0', 'timestamp': '2020-11-06T08:42:58.826000Z', 'fullAddress': 'SITULA', 'number': 46, 'address': 'SITULA', 'lat': '46.059433', 'lng': '14.520510', 'open': '1', 'name': 'SITULA', 'station_valid': True, 'station': {'available': '2', 'ticket': '0', 'total': '19', 'free': '17'}}), ('47', {'updated': 1604648578, 'bonus': '0', 'timestamp': '2020-11-06T08:42:58.855000Z', 'fullAddress': 'ŠTEPANJSKO NASELJE 1-JAKČEVA ULICA', 'number': 47, 'address': 'ŠTEPANJSKO NASELJE 1-JAKČEVA ULICA', 'lat': '46.053047', 'lng': '14.545125', 'open': '1', 'name': 'ŠTEPANJSKO NASELJE 1-JAKČEVA ULICA', 'station_valid': True, 'station': {'available': '0', 'ticket': '0', 'total': '19', 'free': '19'}}), ('48', {'updated': 1604648578, 'bonus': '0', 'timestamp': '2020-11-06T08:42:58.838000Z', 'fullAddress': 'HOFER-KAJUHOVA', 'number': 48, 'address': 'HOFER-KAJUHOVA', 'lat': '46.056405', 'lng': '14.540901', 'open': '1', 'name': 'HOFER-KAJUHOVA', 'station_valid': True, 'station': {'available': '4', 'ticket': '0', 'total': '20', 'free': '16'}}), ('49', {'updated': 1604648578, 'bonus': '0', 'timestamp': '2020-11-06T08:42:58.852000Z', 'fullAddress': 'BRODARJEV TRG', 'number': 49, 'address': 'BRODARJEV TRG', 'lat': '46.054398', 'lng': '14.553319', 'open': '1', 'name': 'BRODARJEV TRG', 'station_valid': True, 'station': {'available': '3', 'ticket': '0', 'total': '19', 'free': '16'}}), ('50', {'updated': 1604648578, 'bonus': '0', 'timestamp': '2020-11-06T08:42:58.908000Z', 'fullAddress': 'PREGLOV TRG', 'number': 50, 'address': 'PREGLOV TRG', 'lat': '46.054554', 'lng': '14.559080', 'open': '1', 'name': 'PREGLOV TRG', 'station_valid': True, 'station': {'available': '0', 'ticket': '0', 'total': '20', 'free': '20'}}), ('51', {'updated': 1604648578, 'bonus': '0', 'timestamp': '2020-11-06T08:42:58.820000Z', 'fullAddress': 'LIDL-LITIJSKA CESTA', 'number': 51, 'address': 'LIDL-LITIJSKA CESTA', 'lat': '46.047689', 'lng': '14.547416', 'open': '1', 'name': 'LIDL-LITIJSKA CESTA', 'station_valid': True, 'station': {'available': '13', 'ticket': '0', 'total': '20', 'free': '7'}}), ('52', {'updated': 1604648578, 'bonus': '0', 'timestamp': '2020-11-06T08:42:58.845000Z', 'fullAddress': 'ŽIVALSKI VRT', 'number': 52, 'address': 'ŽIVALSKI VRT', 'lat': '46.052454', 'lng': '14.472149', 'open': '1', 'name': 'ŽIVALSKI VRT', 'station_valid': True, 'station': {'available': '11', 'ticket': '0', 'total': '20', 'free': '9'}}), ('53', {'updated': 1604648578, 'bonus': '0', 'timestamp': '2020-11-06T08:42:58.837000Z', 'fullAddress': 'CESTA NA ROŽNIK', 'number': 53, 'address': 'CESTA NA ROŽNIK', 'lat': '46.053241', 'lng': '14.486206', 'open': '1', 'name': 'CESTA NA ROŽNIK', 'station_valid': True, 'station': {'available': '10', 'ticket': '0', 'total': '20', 'free': '10'}}), ('54', {'updated': 1604648578, 'bonus': '0', 'timestamp': '2020-11-06T08:42:58.795000Z', 'fullAddress': 'ŠMARTINSKI PARK', 'number': 54, 'address': 'ŠMARTINSKI PARK', 'lat': '46.065206', 'lng': '14.529911', 'open': '1', 'name': 'ŠMARTINSKI PARK', 'station_valid': True, 'station': {'available': '6', 'ticket': '0', 'total': '20', 'free': '14'}}), ('55', {'updated': 1604648578, 'bonus': '0', 'timestamp': '2020-11-06T08:42:58.833000Z', 'fullAddress': 'POLJANSKA-POTOČNIKOVA', 'number': 55, 'address': 'POLJANSKA-POTOČNIKOVA', 'lat': '46.048982', 'lng': '14.522709', 'open': '1', 'name': 'POLJANSKA-POTOČNIKOVA', 'station_valid': True, 'station': {'available': '7', 'ticket': '0', 'total': '20', 'free': '13'}}), ('56', {'updated': 1604648578, 'bonus': '0', 'timestamp': '2020-11-06T08:42:58.876000Z', 'fullAddress': 'SREDNJA FRIZERSKA ŠOLA', 'number': 56, 'address': 'SREDNJA FRIZERSKA ŠOLA', 'lat': '46.080522', 'lng': '14.491439', 'open': '1', 'name': 'SREDNJA FRIZERSKA ŠOLA', 'station_valid': True, 'station': {'available': '0', 'ticket': '0', 'total': '20', 'free': '20'}}), ('57', {'updated': 1604648578, 'bonus': '0', 'timestamp': '2020-11-06T08:42:58.835000Z', 'fullAddress': 'POVŠETOVA-GRABLOVIČEVA', 'number': 57, 'address': 'POVŠETOVA-GRABLOVIČEVA', 'lat': '46.051863', 'lng': '14.530349', 'open': '1', 'name': 'POVŠETOVA-GRABLOVIČEVA', 'station_valid': True, 'station': {'available': '0', 'ticket': '0', 'total': '19', 'free': '19'}}), ('58', {'updated': 1604648578, 'bonus': '0', 'timestamp': '2020-11-06T08:42:58.856000Z', 'fullAddress': 'TRŽNICA KOSEZE', 'number': 58, 'address': 'TRŽNICA KOSEZE', 'lat': '46.074315', 'lng': '14.475483', 'open': '1', 'name': 'TRŽNICA KOSEZE', 'station_valid': True, 'station': {'available': '15', 'ticket': '0', 'total': '18', 'free': '3'}}), ('59', {'updated': 1604648578, 'bonus': '0', 'timestamp': '2020-11-06T08:42:58.792000Z', 'fullAddress': 'LIDL BEŽIGRAD', 'number': 59, 'address': 'LIDL BEŽIGRAD', 'lat': '46.063797', 'lng': '14.506854', 'open': '1', 'name': 'LIDL BEŽIGRAD', 'station_valid': True, 'station': {'available': '0', 'ticket': '0', 'total': '20', 'free': '20'}}), ('60', {'updated': 1604648578, 'bonus': '0', 'timestamp': '2020-11-06T08:42:58.888000Z', 'fullAddress': 'MERCATOR MARKET - CELOVŠKA C. 163', 'number': 60, 'address': 'MERCATOR MARKET - CELOVŠKA C. 163', 'lat': '46.073264', 'lng': '14.485942', 'open': '1', 'name': 'MERCATOR MARKET - CELOVŠKA C. 163', 'station_valid': True, 'station': {'available': '0', 'ticket': '0', 'total': '20', 'free': '20'}}), ('61', {'updated': 1604648578, 'bonus': '0', 'timestamp': '2020-11-06T08:42:58.906000Z', 'fullAddress': 'RAKOVNIK', 'number': 61, 'address': 'RAKOVNIK', 'lat': '46.036284', 'lng': '14.522948', 'open': '1', 'name': 'RAKOVNIK', 'station_valid': True, 'station': {'available': '6', 'ticket': '0', 'total': '20', 'free': '14'}}), ('62', {'updated': 1604648578, 'bonus': '0', 'timestamp': '2020-11-06T08:42:58.857000Z', 'fullAddress': 'ALEJA - CELOVŠKA CESTA', 'number': 62, 'address': 'ALEJA - CELOVŠKA CESTA', 'lat': '46.077302', 'lng': '14.482581', 'open': '1', 'name': 'ALEJA - CELOVŠKA CESTA', 'station_valid': True, 'station': {'available': '0', 'ticket': '0', 'total': '20', 'free': '20'}})])"
      ]
     },
     "metadata": {},
     "execution_count": 42
    }
   ],
   "source": []
  },
  {
   "cell_type": "code",
   "execution_count": null,
   "metadata": {},
   "outputs": [],
   "source": []
  },
  {
   "cell_type": "code",
   "execution_count": 43,
   "metadata": {},
   "outputs": [
    {
     "output_type": "stream",
     "name": "stdout",
     "text": [
      "['DSDSD', 'SDSDSD', 'FHFHHF']\n"
     ]
    }
   ],
   "source": [
    "a = ['dsdsd', 'sdsdsd', 'fhfhhf']\n",
    "\n",
    "results= []\n",
    "for el in a:\n",
    "    results.append(el.upper())\n",
    "\n",
    "print(results)"
   ]
  },
  {
   "cell_type": "code",
   "execution_count": 45,
   "metadata": {},
   "outputs": [
    {
     "output_type": "execute_result",
     "data": {
      "text/plain": [
       "['DSDSD', 'SDSDSD', 'FHFHHF']"
      ]
     },
     "metadata": {},
     "execution_count": 45
    }
   ],
   "source": [
    "results = [el.upper() for el in a]\n",
    "results"
   ]
  },
  {
   "source": [
    "# Web Scraping"
   ],
   "cell_type": "markdown",
   "metadata": {}
  },
  {
   "cell_type": "code",
   "execution_count": 46,
   "metadata": {},
   "outputs": [],
   "source": [
    "url_got = 'https://en.wikipedia.org/wiki/List_of_Game_of_Thrones_episodes'"
   ]
  },
  {
   "cell_type": "code",
   "execution_count": 50,
   "metadata": {},
   "outputs": [],
   "source": [
    "import requests\n",
    "from bs4 import BeautifulSoup"
   ]
  },
  {
   "cell_type": "code",
   "execution_count": 62,
   "metadata": {},
   "outputs": [],
   "source": [
    "r = requests.get(url_got)\n",
    "html_contents = r.text"
   ]
  },
  {
   "cell_type": "code",
   "execution_count": 49,
   "metadata": {},
   "outputs": [
    {
     "output_type": "execute_result",
     "data": {
      "text/plain": [
       "'<!DOCTYPE html>\\n<html class=\"client-nojs\" lang=\"en\" dir=\"ltr\">\\n<head>\\n<meta charset=\"UTF-8\"/>\\n<title>List of Game of Thrones episodes - Wikipedia</title>\\n<script>document.documentElement.className=\"client-js\";RLCONF={\"wgBreakFrames\":!1,\"wgSeparatorTransformTable\":[\"\",\"\"],\"wgDigitTransformTable\":[\"\",\"\"],\"wgDefaultDateFormat\":\"dmy\",\"wgMonthNames\":[\"\",\"January\",\"February\",\"March\",\"April\",\"May\",\"June\",\"July\",\"August\",\"September\",\"October\",\"November\",\"December\"],\"wgRequestId\":\"95d8dbf7-ef43-4683-881c'"
      ]
     },
     "metadata": {},
     "execution_count": 49
    }
   ],
   "source": [
    "html_contents[:500]"
   ]
  },
  {
   "cell_type": "code",
   "execution_count": 63,
   "metadata": {},
   "outputs": [],
   "source": [
    "html_soup = BeautifulSoup(html_contents, 'html.parser')"
   ]
  },
  {
   "cell_type": "code",
   "execution_count": 58,
   "metadata": {},
   "outputs": [
    {
     "output_type": "execute_result",
     "data": {
      "text/plain": [
       "<h1 class=\"firstHeading\" id=\"firstHeading\" lang=\"en\">List of <i>Game of Thrones</i> episodes</h1>"
      ]
     },
     "metadata": {},
     "execution_count": 58
    }
   ],
   "source": [
    "# iskanje po tagu\n",
    "html_soup.find('h1')"
   ]
  },
  {
   "cell_type": "code",
   "execution_count": 64,
   "metadata": {},
   "outputs": [
    {
     "output_type": "stream",
     "name": "stdout",
     "text": [
      "None\n"
     ]
    }
   ],
   "source": [
    "# iskanje po attr\n",
    "print(html_soup.find('', {'id': 'mw-page-base'}))"
   ]
  },
  {
   "source": [
    "- The `name` argument defines the tag names you wish to “find” on the page. You can pass a string, or a list of tags. Leaving this argument as an empty string simply selects all elements.\n",
    "- The `attrs` argument takes a Python dictionary of attributes and matches HTML elements that match those attributes.\n",
    "- The `recursive` argument is a Boolean and governs the depth of the search. If set to True - the default value, the find and find_all methods will look into children, children’s children, and so on... for elements that match your query. If it is False, it will only look at direct child elements.\n",
    "- The `string` argument is used to perform matching based on the text content of elements.\n",
    "- The `limit` argument is only used in the find_all method and can be used to limit the number of elements that are retrieved. Note that find is functionally equivalent to calling find_all with the limit set to 1, with the exception that the former returns the retrieved element directly, and that the latter will always return a list of items, even if it just contains a single element. Also important to know is that, when find_all cannot find anything, it returns an empty list, whereas if find cannot find anything, it returns None."
   ],
   "cell_type": "markdown",
   "metadata": {}
  },
  {
   "cell_type": "code",
   "execution_count": 67,
   "metadata": {},
   "outputs": [
    {
     "output_type": "stream",
     "name": "stdout",
     "text": [
      "h1\nh2\nh2\nh2\nh2\nh2\nh2\nh2\nh2\nh2\n"
     ]
    }
   ],
   "source": [
    "for found in html_soup.find_all(['h1', 'h2']):\n",
    "    print(found.name)"
   ]
  },
  {
   "cell_type": "code",
   "execution_count": 69,
   "metadata": {},
   "outputs": [
    {
     "output_type": "stream",
     "name": "stdout",
     "text": [
      "List of Game of Thrones episodes\nContents\nSeries overview[edit]\nEpisodes[edit]\nSpecials[edit]\nHome media release[edit]\nRatings[edit]\nReferences[edit]\nExternal links[edit]\nNavigation menu\n"
     ]
    }
   ],
   "source": [
    "for found in html_soup.find_all(['h1', 'h2']):\n",
    "    #print(found.contents)\n",
    "    print(found.text)"
   ]
  },
  {
   "cell_type": "code",
   "execution_count": 70,
   "metadata": {},
   "outputs": [],
   "source": [
    "cites = html_soup.find_all('cite', {'class': 'citation'}, limit=5)"
   ]
  },
  {
   "cell_type": "code",
   "execution_count": 76,
   "metadata": {},
   "outputs": [
    {
     "output_type": "stream",
     "name": "stdout",
     "text": [
      "--> Cite: Fowler, Matt (April 8, 2011). \"Game of Thrones: \"Winter is Coming\" Review\". IGN. Archived from the original on August 17, 2012. Retrieved September 22, 2016. on link http://tv.ign.com/articles/116/1160215p1.html\n--> Cite: Fleming, Michael (January 16, 2007). \"HBO turns Fire into fantasy series\". Variety. Archived from the original on May 16, 2012. Retrieved September 3, 2016. on link https://web.archive.org/web/20120516224747/http://www.variety.com/article/VR1117957532?refCatId=14\n--> Cite: \"Game of Thrones\". Emmys.com. Retrieved September 17, 2016. on link http://www.emmys.com/shows/game-thrones\n--> Cite: Roberts, Josh (April 1, 2012). \"Where HBO's hit 'Game of Thrones' was filmed\". USA Today. Archived from the original on April 1, 2012. Retrieved March 8, 2013. on link https://web.archive.org/web/20120401123724/http://travel.usatoday.com/destinations/story/2012-04-01/Where-the-HBO-hit-Game-of-Thrones-was-filmed/53876876/1\n--> Cite: Schwartz, Terri (January 28, 2013). \"'Game of Thrones' casts a bear and shoots in Los Angeles for major Season 3 scene\". Zap2it. Archived from the original on October 16, 2013. Retrieved March 8, 2013. on link https://web.archive.org/web/20131016062544/http://blog.zap2it.com/frominsidethebox/2013/01/game-of-thrones-casts-a-bear-and-shoots-in-los-angeles-for-major-season-3-scene.html\n"
     ]
    }
   ],
   "source": [
    "#cites\n",
    "for citation in cites:\n",
    "    text = citation.text\n",
    "    link = citation.find('a').get('href')\n",
    "    cite_pairs = (text, link)\n",
    "    print(f\"--> Cite: {text} on link {link}\")"
   ]
  },
  {
   "cell_type": "code",
   "execution_count": 77,
   "metadata": {},
   "outputs": [],
   "source": [
    "import pandas as pd"
   ]
  },
  {
   "cell_type": "code",
   "execution_count": 78,
   "metadata": {},
   "outputs": [],
   "source": [
    "tables = pd.read_html(url_got)"
   ]
  },
  {
   "cell_type": "code",
   "execution_count": 80,
   "metadata": {},
   "outputs": [
    {
     "output_type": "execute_result",
     "data": {
      "text/plain": [
       "15"
      ]
     },
     "metadata": {},
     "execution_count": 80
    }
   ],
   "source": [
    "len(tables)"
   ]
  },
  {
   "cell_type": "code",
   "execution_count": 84,
   "metadata": {},
   "outputs": [
    {
     "output_type": "execute_result",
     "data": {
      "text/plain": [
       "   No.overall  No. inseason                                    Title  \\\n",
       "0           1             1                       \"Winter Is Coming\"   \n",
       "1           2             2                          \"The Kingsroad\"   \n",
       "2           3             3                              \"Lord Snow\"   \n",
       "3           4             4  \"Cripples, Bastards, and Broken Things\"   \n",
       "4           5             5                  \"The Wolf and the Lion\"   \n",
       "5           6             6                         \"A Golden Crown\"   \n",
       "6           7             7                     \"You Win or You Die\"   \n",
       "7           8             8                         \"The Pointy End\"   \n",
       "8           9             9                                 \"Baelor\"   \n",
       "9          10            10                         \"Fire and Blood\"   \n",
       "\n",
       "      Directed by                                         Written by  \\\n",
       "0  Tim Van Patten                        David Benioff & D. B. Weiss   \n",
       "1  Tim Van Patten                        David Benioff & D. B. Weiss   \n",
       "2      Brian Kirk                        David Benioff & D. B. Weiss   \n",
       "3      Brian Kirk                                       Bryan Cogman   \n",
       "4      Brian Kirk                        David Benioff & D. B. Weiss   \n",
       "5  Daniel Minahan  Story by : David Benioff & D. B. WeissTeleplay...   \n",
       "6  Daniel Minahan                        David Benioff & D. B. Weiss   \n",
       "7  Daniel Minahan                                George R. R. Martin   \n",
       "8     Alan Taylor                        David Benioff & D. B. Weiss   \n",
       "9     Alan Taylor                        David Benioff & D. B. Weiss   \n",
       "\n",
       "  Original air date [20] U.S. viewers(millions)  \n",
       "0         April 17, 2011               2.22[21]  \n",
       "1         April 24, 2011               2.20[22]  \n",
       "2            May 1, 2011               2.44[23]  \n",
       "3            May 8, 2011               2.45[24]  \n",
       "4           May 15, 2011               2.58[25]  \n",
       "5           May 22, 2011               2.44[26]  \n",
       "6           May 29, 2011               2.40[27]  \n",
       "7           June 5, 2011               2.72[28]  \n",
       "8          June 12, 2011               2.66[29]  \n",
       "9          June 19, 2011               3.04[30]  "
      ],
      "text/html": "<div>\n<style scoped>\n    .dataframe tbody tr th:only-of-type {\n        vertical-align: middle;\n    }\n\n    .dataframe tbody tr th {\n        vertical-align: top;\n    }\n\n    .dataframe thead th {\n        text-align: right;\n    }\n</style>\n<table border=\"1\" class=\"dataframe\">\n  <thead>\n    <tr style=\"text-align: right;\">\n      <th></th>\n      <th>No.overall</th>\n      <th>No. inseason</th>\n      <th>Title</th>\n      <th>Directed by</th>\n      <th>Written by</th>\n      <th>Original air date [20]</th>\n      <th>U.S. viewers(millions)</th>\n    </tr>\n  </thead>\n  <tbody>\n    <tr>\n      <th>0</th>\n      <td>1</td>\n      <td>1</td>\n      <td>\"Winter Is Coming\"</td>\n      <td>Tim Van Patten</td>\n      <td>David Benioff &amp; D. B. Weiss</td>\n      <td>April 17, 2011</td>\n      <td>2.22[21]</td>\n    </tr>\n    <tr>\n      <th>1</th>\n      <td>2</td>\n      <td>2</td>\n      <td>\"The Kingsroad\"</td>\n      <td>Tim Van Patten</td>\n      <td>David Benioff &amp; D. B. Weiss</td>\n      <td>April 24, 2011</td>\n      <td>2.20[22]</td>\n    </tr>\n    <tr>\n      <th>2</th>\n      <td>3</td>\n      <td>3</td>\n      <td>\"Lord Snow\"</td>\n      <td>Brian Kirk</td>\n      <td>David Benioff &amp; D. B. Weiss</td>\n      <td>May 1, 2011</td>\n      <td>2.44[23]</td>\n    </tr>\n    <tr>\n      <th>3</th>\n      <td>4</td>\n      <td>4</td>\n      <td>\"Cripples, Bastards, and Broken Things\"</td>\n      <td>Brian Kirk</td>\n      <td>Bryan Cogman</td>\n      <td>May 8, 2011</td>\n      <td>2.45[24]</td>\n    </tr>\n    <tr>\n      <th>4</th>\n      <td>5</td>\n      <td>5</td>\n      <td>\"The Wolf and the Lion\"</td>\n      <td>Brian Kirk</td>\n      <td>David Benioff &amp; D. B. Weiss</td>\n      <td>May 15, 2011</td>\n      <td>2.58[25]</td>\n    </tr>\n    <tr>\n      <th>5</th>\n      <td>6</td>\n      <td>6</td>\n      <td>\"A Golden Crown\"</td>\n      <td>Daniel Minahan</td>\n      <td>Story by : David Benioff &amp; D. B. WeissTeleplay...</td>\n      <td>May 22, 2011</td>\n      <td>2.44[26]</td>\n    </tr>\n    <tr>\n      <th>6</th>\n      <td>7</td>\n      <td>7</td>\n      <td>\"You Win or You Die\"</td>\n      <td>Daniel Minahan</td>\n      <td>David Benioff &amp; D. B. Weiss</td>\n      <td>May 29, 2011</td>\n      <td>2.40[27]</td>\n    </tr>\n    <tr>\n      <th>7</th>\n      <td>8</td>\n      <td>8</td>\n      <td>\"The Pointy End\"</td>\n      <td>Daniel Minahan</td>\n      <td>George R. R. Martin</td>\n      <td>June 5, 2011</td>\n      <td>2.72[28]</td>\n    </tr>\n    <tr>\n      <th>8</th>\n      <td>9</td>\n      <td>9</td>\n      <td>\"Baelor\"</td>\n      <td>Alan Taylor</td>\n      <td>David Benioff &amp; D. B. Weiss</td>\n      <td>June 12, 2011</td>\n      <td>2.66[29]</td>\n    </tr>\n    <tr>\n      <th>9</th>\n      <td>10</td>\n      <td>10</td>\n      <td>\"Fire and Blood\"</td>\n      <td>Alan Taylor</td>\n      <td>David Benioff &amp; D. B. Weiss</td>\n      <td>June 19, 2011</td>\n      <td>3.04[30]</td>\n    </tr>\n  </tbody>\n</table>\n</div>"
     },
     "metadata": {},
     "execution_count": 84
    }
   ],
   "source": [
    "season_01 = tables[1]\n",
    "season_01"
   ]
  },
  {
   "cell_type": "code",
   "execution_count": 92,
   "metadata": {},
   "outputs": [
    {
     "output_type": "execute_result",
     "data": {
      "text/plain": [
       "25.150000000000002"
      ]
     },
     "metadata": {},
     "execution_count": 92
    }
   ],
   "source": [
    "season_01['U.S. viewers(millions)'].str.split('[').str[0].astype('float').sum()"
   ]
  },
  {
   "cell_type": "code",
   "execution_count": 93,
   "metadata": {},
   "outputs": [],
   "source": [
    "from got_wiki_parser import analyze_viewers_for_season"
   ]
  },
  {
   "cell_type": "code",
   "execution_count": 95,
   "metadata": {},
   "outputs": [
    {
     "output_type": "execute_result",
     "data": {
      "text/plain": [
       "0    25.15\n",
       "1    37.95\n",
       "2    49.66\n",
       "3    68.46\n",
       "4    68.80\n",
       "5    76.88\n",
       "6    71.83\n",
       "7    71.96\n",
       "dtype: float64"
      ]
     },
     "metadata": {},
     "execution_count": 95
    }
   ],
   "source": [
    "season_sums = pd.Series([analyze_viewers_for_season(season_num, 'sum') for season_num in range(1,9)])\n",
    "season_sums"
   ]
  },
  {
   "cell_type": "code",
   "execution_count": 97,
   "metadata": {},
   "outputs": [
    {
     "output_type": "display_data",
     "data": {
      "text/plain": "<Figure size 432x288 with 1 Axes>",
      "image/svg+xml": "<?xml version=\"1.0\" encoding=\"utf-8\" standalone=\"no\"?>\n<!DOCTYPE svg PUBLIC \"-//W3C//DTD SVG 1.1//EN\"\n  \"http://www.w3.org/Graphics/SVG/1.1/DTD/svg11.dtd\">\n<!-- Created with matplotlib (https://matplotlib.org/) -->\n<svg height=\"248.518125pt\" version=\"1.1\" viewBox=\"0 0 368.925 248.518125\" width=\"368.925pt\" xmlns=\"http://www.w3.org/2000/svg\" xmlns:xlink=\"http://www.w3.org/1999/xlink\">\n <metadata>\n  <rdf:RDF xmlns:cc=\"http://creativecommons.org/ns#\" xmlns:dc=\"http://purl.org/dc/elements/1.1/\" xmlns:rdf=\"http://www.w3.org/1999/02/22-rdf-syntax-ns#\">\n   <cc:Work>\n    <dc:type rdf:resource=\"http://purl.org/dc/dcmitype/StillImage\"/>\n    <dc:date>2020-11-06T10:21:01.215272</dc:date>\n    <dc:format>image/svg+xml</dc:format>\n    <dc:creator>\n     <cc:Agent>\n      <dc:title>Matplotlib v3.3.2, https://matplotlib.org/</dc:title>\n     </cc:Agent>\n    </dc:creator>\n   </cc:Work>\n  </rdf:RDF>\n </metadata>\n <defs>\n  <style type=\"text/css\">*{stroke-linecap:butt;stroke-linejoin:round;}</style>\n </defs>\n <g id=\"figure_1\">\n  <g id=\"patch_1\">\n   <path d=\"M -0 248.518125 \nL 368.925 248.518125 \nL 368.925 0 \nL -0 0 \nz\n\" style=\"fill:none;\"/>\n  </g>\n  <g id=\"axes_1\">\n   <g id=\"patch_2\">\n    <path d=\"M 26.925 224.64 \nL 361.725 224.64 \nL 361.725 7.2 \nL 26.925 7.2 \nz\n\" style=\"fill:#ffffff;\"/>\n   </g>\n   <g id=\"matplotlib.axis_1\">\n    <g id=\"xtick_1\">\n     <g id=\"line2d_1\">\n      <defs>\n       <path d=\"M 0 0 \nL 0 3.5 \n\" id=\"mb1051bd0f3\" style=\"stroke:#000000;stroke-width:0.8;\"/>\n      </defs>\n      <g>\n       <use style=\"stroke:#000000;stroke-width:0.8;\" x=\"42.143182\" xlink:href=\"#mb1051bd0f3\" y=\"224.64\"/>\n      </g>\n     </g>\n     <g id=\"text_1\">\n      <!-- 0 -->\n      <g transform=\"translate(38.961932 239.238437)scale(0.1 -0.1)\">\n       <defs>\n        <path d=\"M 31.78125 66.40625 \nQ 24.171875 66.40625 20.328125 58.90625 \nQ 16.5 51.421875 16.5 36.375 \nQ 16.5 21.390625 20.328125 13.890625 \nQ 24.171875 6.390625 31.78125 6.390625 \nQ 39.453125 6.390625 43.28125 13.890625 \nQ 47.125 21.390625 47.125 36.375 \nQ 47.125 51.421875 43.28125 58.90625 \nQ 39.453125 66.40625 31.78125 66.40625 \nz\nM 31.78125 74.21875 \nQ 44.046875 74.21875 50.515625 64.515625 \nQ 56.984375 54.828125 56.984375 36.375 \nQ 56.984375 17.96875 50.515625 8.265625 \nQ 44.046875 -1.421875 31.78125 -1.421875 \nQ 19.53125 -1.421875 13.0625 8.265625 \nQ 6.59375 17.96875 6.59375 36.375 \nQ 6.59375 54.828125 13.0625 64.515625 \nQ 19.53125 74.21875 31.78125 74.21875 \nz\n\" id=\"DejaVuSans-48\"/>\n       </defs>\n       <use xlink:href=\"#DejaVuSans-48\"/>\n      </g>\n     </g>\n    </g>\n    <g id=\"xtick_2\">\n     <g id=\"line2d_2\">\n      <g>\n       <use style=\"stroke:#000000;stroke-width:0.8;\" x=\"85.623701\" xlink:href=\"#mb1051bd0f3\" y=\"224.64\"/>\n      </g>\n     </g>\n     <g id=\"text_2\">\n      <!-- 1 -->\n      <g transform=\"translate(82.442451 239.238437)scale(0.1 -0.1)\">\n       <defs>\n        <path d=\"M 12.40625 8.296875 \nL 28.515625 8.296875 \nL 28.515625 63.921875 \nL 10.984375 60.40625 \nL 10.984375 69.390625 \nL 28.421875 72.90625 \nL 38.28125 72.90625 \nL 38.28125 8.296875 \nL 54.390625 8.296875 \nL 54.390625 0 \nL 12.40625 0 \nz\n\" id=\"DejaVuSans-49\"/>\n       </defs>\n       <use xlink:href=\"#DejaVuSans-49\"/>\n      </g>\n     </g>\n    </g>\n    <g id=\"xtick_3\">\n     <g id=\"line2d_3\">\n      <g>\n       <use style=\"stroke:#000000;stroke-width:0.8;\" x=\"129.104221\" xlink:href=\"#mb1051bd0f3\" y=\"224.64\"/>\n      </g>\n     </g>\n     <g id=\"text_3\">\n      <!-- 2 -->\n      <g transform=\"translate(125.922971 239.238437)scale(0.1 -0.1)\">\n       <defs>\n        <path d=\"M 19.1875 8.296875 \nL 53.609375 8.296875 \nL 53.609375 0 \nL 7.328125 0 \nL 7.328125 8.296875 \nQ 12.9375 14.109375 22.625 23.890625 \nQ 32.328125 33.6875 34.8125 36.53125 \nQ 39.546875 41.84375 41.421875 45.53125 \nQ 43.3125 49.21875 43.3125 52.78125 \nQ 43.3125 58.59375 39.234375 62.25 \nQ 35.15625 65.921875 28.609375 65.921875 \nQ 23.96875 65.921875 18.8125 64.3125 \nQ 13.671875 62.703125 7.8125 59.421875 \nL 7.8125 69.390625 \nQ 13.765625 71.78125 18.9375 73 \nQ 24.125 74.21875 28.421875 74.21875 \nQ 39.75 74.21875 46.484375 68.546875 \nQ 53.21875 62.890625 53.21875 53.421875 \nQ 53.21875 48.921875 51.53125 44.890625 \nQ 49.859375 40.875 45.40625 35.40625 \nQ 44.1875 33.984375 37.640625 27.21875 \nQ 31.109375 20.453125 19.1875 8.296875 \nz\n\" id=\"DejaVuSans-50\"/>\n       </defs>\n       <use xlink:href=\"#DejaVuSans-50\"/>\n      </g>\n     </g>\n    </g>\n    <g id=\"xtick_4\">\n     <g id=\"line2d_4\">\n      <g>\n       <use style=\"stroke:#000000;stroke-width:0.8;\" x=\"172.58474\" xlink:href=\"#mb1051bd0f3\" y=\"224.64\"/>\n      </g>\n     </g>\n     <g id=\"text_4\">\n      <!-- 3 -->\n      <g transform=\"translate(169.40349 239.238437)scale(0.1 -0.1)\">\n       <defs>\n        <path d=\"M 40.578125 39.3125 \nQ 47.65625 37.796875 51.625 33 \nQ 55.609375 28.21875 55.609375 21.1875 \nQ 55.609375 10.40625 48.1875 4.484375 \nQ 40.765625 -1.421875 27.09375 -1.421875 \nQ 22.515625 -1.421875 17.65625 -0.515625 \nQ 12.796875 0.390625 7.625 2.203125 \nL 7.625 11.71875 \nQ 11.71875 9.328125 16.59375 8.109375 \nQ 21.484375 6.890625 26.8125 6.890625 \nQ 36.078125 6.890625 40.9375 10.546875 \nQ 45.796875 14.203125 45.796875 21.1875 \nQ 45.796875 27.640625 41.28125 31.265625 \nQ 36.765625 34.90625 28.71875 34.90625 \nL 20.21875 34.90625 \nL 20.21875 43.015625 \nL 29.109375 43.015625 \nQ 36.375 43.015625 40.234375 45.921875 \nQ 44.09375 48.828125 44.09375 54.296875 \nQ 44.09375 59.90625 40.109375 62.90625 \nQ 36.140625 65.921875 28.71875 65.921875 \nQ 24.65625 65.921875 20.015625 65.03125 \nQ 15.375 64.15625 9.8125 62.3125 \nL 9.8125 71.09375 \nQ 15.4375 72.65625 20.34375 73.4375 \nQ 25.25 74.21875 29.59375 74.21875 \nQ 40.828125 74.21875 47.359375 69.109375 \nQ 53.90625 64.015625 53.90625 55.328125 \nQ 53.90625 49.265625 50.4375 45.09375 \nQ 46.96875 40.921875 40.578125 39.3125 \nz\n\" id=\"DejaVuSans-51\"/>\n       </defs>\n       <use xlink:href=\"#DejaVuSans-51\"/>\n      </g>\n     </g>\n    </g>\n    <g id=\"xtick_5\">\n     <g id=\"line2d_5\">\n      <g>\n       <use style=\"stroke:#000000;stroke-width:0.8;\" x=\"216.06526\" xlink:href=\"#mb1051bd0f3\" y=\"224.64\"/>\n      </g>\n     </g>\n     <g id=\"text_5\">\n      <!-- 4 -->\n      <g transform=\"translate(212.88401 239.238437)scale(0.1 -0.1)\">\n       <defs>\n        <path d=\"M 37.796875 64.3125 \nL 12.890625 25.390625 \nL 37.796875 25.390625 \nz\nM 35.203125 72.90625 \nL 47.609375 72.90625 \nL 47.609375 25.390625 \nL 58.015625 25.390625 \nL 58.015625 17.1875 \nL 47.609375 17.1875 \nL 47.609375 0 \nL 37.796875 0 \nL 37.796875 17.1875 \nL 4.890625 17.1875 \nL 4.890625 26.703125 \nz\n\" id=\"DejaVuSans-52\"/>\n       </defs>\n       <use xlink:href=\"#DejaVuSans-52\"/>\n      </g>\n     </g>\n    </g>\n    <g id=\"xtick_6\">\n     <g id=\"line2d_6\">\n      <g>\n       <use style=\"stroke:#000000;stroke-width:0.8;\" x=\"259.545779\" xlink:href=\"#mb1051bd0f3\" y=\"224.64\"/>\n      </g>\n     </g>\n     <g id=\"text_6\">\n      <!-- 5 -->\n      <g transform=\"translate(256.364529 239.238437)scale(0.1 -0.1)\">\n       <defs>\n        <path d=\"M 10.796875 72.90625 \nL 49.515625 72.90625 \nL 49.515625 64.59375 \nL 19.828125 64.59375 \nL 19.828125 46.734375 \nQ 21.96875 47.46875 24.109375 47.828125 \nQ 26.265625 48.1875 28.421875 48.1875 \nQ 40.625 48.1875 47.75 41.5 \nQ 54.890625 34.8125 54.890625 23.390625 \nQ 54.890625 11.625 47.5625 5.09375 \nQ 40.234375 -1.421875 26.90625 -1.421875 \nQ 22.3125 -1.421875 17.546875 -0.640625 \nQ 12.796875 0.140625 7.71875 1.703125 \nL 7.71875 11.625 \nQ 12.109375 9.234375 16.796875 8.0625 \nQ 21.484375 6.890625 26.703125 6.890625 \nQ 35.15625 6.890625 40.078125 11.328125 \nQ 45.015625 15.765625 45.015625 23.390625 \nQ 45.015625 31 40.078125 35.4375 \nQ 35.15625 39.890625 26.703125 39.890625 \nQ 22.75 39.890625 18.8125 39.015625 \nQ 14.890625 38.140625 10.796875 36.28125 \nz\n\" id=\"DejaVuSans-53\"/>\n       </defs>\n       <use xlink:href=\"#DejaVuSans-53\"/>\n      </g>\n     </g>\n    </g>\n    <g id=\"xtick_7\">\n     <g id=\"line2d_7\">\n      <g>\n       <use style=\"stroke:#000000;stroke-width:0.8;\" x=\"303.026299\" xlink:href=\"#mb1051bd0f3\" y=\"224.64\"/>\n      </g>\n     </g>\n     <g id=\"text_7\">\n      <!-- 6 -->\n      <g transform=\"translate(299.845049 239.238437)scale(0.1 -0.1)\">\n       <defs>\n        <path d=\"M 33.015625 40.375 \nQ 26.375 40.375 22.484375 35.828125 \nQ 18.609375 31.296875 18.609375 23.390625 \nQ 18.609375 15.53125 22.484375 10.953125 \nQ 26.375 6.390625 33.015625 6.390625 \nQ 39.65625 6.390625 43.53125 10.953125 \nQ 47.40625 15.53125 47.40625 23.390625 \nQ 47.40625 31.296875 43.53125 35.828125 \nQ 39.65625 40.375 33.015625 40.375 \nz\nM 52.59375 71.296875 \nL 52.59375 62.3125 \nQ 48.875 64.0625 45.09375 64.984375 \nQ 41.3125 65.921875 37.59375 65.921875 \nQ 27.828125 65.921875 22.671875 59.328125 \nQ 17.53125 52.734375 16.796875 39.40625 \nQ 19.671875 43.65625 24.015625 45.921875 \nQ 28.375 48.1875 33.59375 48.1875 \nQ 44.578125 48.1875 50.953125 41.515625 \nQ 57.328125 34.859375 57.328125 23.390625 \nQ 57.328125 12.15625 50.6875 5.359375 \nQ 44.046875 -1.421875 33.015625 -1.421875 \nQ 20.359375 -1.421875 13.671875 8.265625 \nQ 6.984375 17.96875 6.984375 36.375 \nQ 6.984375 53.65625 15.1875 63.9375 \nQ 23.390625 74.21875 37.203125 74.21875 \nQ 40.921875 74.21875 44.703125 73.484375 \nQ 48.484375 72.75 52.59375 71.296875 \nz\n\" id=\"DejaVuSans-54\"/>\n       </defs>\n       <use xlink:href=\"#DejaVuSans-54\"/>\n      </g>\n     </g>\n    </g>\n    <g id=\"xtick_8\">\n     <g id=\"line2d_8\">\n      <g>\n       <use style=\"stroke:#000000;stroke-width:0.8;\" x=\"346.506818\" xlink:href=\"#mb1051bd0f3\" y=\"224.64\"/>\n      </g>\n     </g>\n     <g id=\"text_8\">\n      <!-- 7 -->\n      <g transform=\"translate(343.325568 239.238437)scale(0.1 -0.1)\">\n       <defs>\n        <path d=\"M 8.203125 72.90625 \nL 55.078125 72.90625 \nL 55.078125 68.703125 \nL 28.609375 0 \nL 18.3125 0 \nL 43.21875 64.59375 \nL 8.203125 64.59375 \nz\n\" id=\"DejaVuSans-55\"/>\n       </defs>\n       <use xlink:href=\"#DejaVuSans-55\"/>\n      </g>\n     </g>\n    </g>\n   </g>\n   <g id=\"matplotlib.axis_2\">\n    <g id=\"ytick_1\">\n     <g id=\"line2d_9\">\n      <defs>\n       <path d=\"M 0 0 \nL -3.5 0 \n\" id=\"m5e9bd954d0\" style=\"stroke:#000000;stroke-width:0.8;\"/>\n      </defs>\n      <g>\n       <use style=\"stroke:#000000;stroke-width:0.8;\" x=\"26.925\" xlink:href=\"#m5e9bd954d0\" y=\"196.223351\"/>\n      </g>\n     </g>\n     <g id=\"text_9\">\n      <!-- 30 -->\n      <g transform=\"translate(7.2 200.02257)scale(0.1 -0.1)\">\n       <use xlink:href=\"#DejaVuSans-51\"/>\n       <use x=\"63.623047\" xlink:href=\"#DejaVuSans-48\"/>\n      </g>\n     </g>\n    </g>\n    <g id=\"ytick_2\">\n     <g id=\"line2d_10\">\n      <g>\n       <use style=\"stroke:#000000;stroke-width:0.8;\" x=\"26.925\" xlink:href=\"#m5e9bd954d0\" y=\"158.010955\"/>\n      </g>\n     </g>\n     <g id=\"text_10\">\n      <!-- 40 -->\n      <g transform=\"translate(7.2 161.810174)scale(0.1 -0.1)\">\n       <use xlink:href=\"#DejaVuSans-52\"/>\n       <use x=\"63.623047\" xlink:href=\"#DejaVuSans-48\"/>\n      </g>\n     </g>\n    </g>\n    <g id=\"ytick_3\">\n     <g id=\"line2d_11\">\n      <g>\n       <use style=\"stroke:#000000;stroke-width:0.8;\" x=\"26.925\" xlink:href=\"#m5e9bd954d0\" y=\"119.798558\"/>\n      </g>\n     </g>\n     <g id=\"text_11\">\n      <!-- 50 -->\n      <g transform=\"translate(7.2 123.597777)scale(0.1 -0.1)\">\n       <use xlink:href=\"#DejaVuSans-53\"/>\n       <use x=\"63.623047\" xlink:href=\"#DejaVuSans-48\"/>\n      </g>\n     </g>\n    </g>\n    <g id=\"ytick_4\">\n     <g id=\"line2d_12\">\n      <g>\n       <use style=\"stroke:#000000;stroke-width:0.8;\" x=\"26.925\" xlink:href=\"#m5e9bd954d0\" y=\"81.586162\"/>\n      </g>\n     </g>\n     <g id=\"text_12\">\n      <!-- 60 -->\n      <g transform=\"translate(7.2 85.38538)scale(0.1 -0.1)\">\n       <use xlink:href=\"#DejaVuSans-54\"/>\n       <use x=\"63.623047\" xlink:href=\"#DejaVuSans-48\"/>\n      </g>\n     </g>\n    </g>\n    <g id=\"ytick_5\">\n     <g id=\"line2d_13\">\n      <g>\n       <use style=\"stroke:#000000;stroke-width:0.8;\" x=\"26.925\" xlink:href=\"#m5e9bd954d0\" y=\"43.373765\"/>\n      </g>\n     </g>\n     <g id=\"text_13\">\n      <!-- 70 -->\n      <g transform=\"translate(7.2 47.172984)scale(0.1 -0.1)\">\n       <use xlink:href=\"#DejaVuSans-55\"/>\n       <use x=\"63.623047\" xlink:href=\"#DejaVuSans-48\"/>\n      </g>\n     </g>\n    </g>\n   </g>\n   <g id=\"line2d_14\">\n    <path clip-path=\"url(#p271205a9fd)\" d=\"M 42.143182 214.756364 \nL 85.623701 165.844496 \nL 129.104221 121.09778 \nL 172.58474 49.258474 \nL 216.06526 47.959253 \nL 259.545779 17.083636 \nL 303.026299 36.380897 \nL 346.506818 35.884135 \n\" style=\"fill:none;stroke:#1f77b4;stroke-linecap:square;stroke-width:1.5;\"/>\n   </g>\n   <g id=\"patch_3\">\n    <path d=\"M 26.925 224.64 \nL 26.925 7.2 \n\" style=\"fill:none;stroke:#000000;stroke-linecap:square;stroke-linejoin:miter;stroke-width:0.8;\"/>\n   </g>\n   <g id=\"patch_4\">\n    <path d=\"M 361.725 224.64 \nL 361.725 7.2 \n\" style=\"fill:none;stroke:#000000;stroke-linecap:square;stroke-linejoin:miter;stroke-width:0.8;\"/>\n   </g>\n   <g id=\"patch_5\">\n    <path d=\"M 26.925 224.64 \nL 361.725 224.64 \n\" style=\"fill:none;stroke:#000000;stroke-linecap:square;stroke-linejoin:miter;stroke-width:0.8;\"/>\n   </g>\n   <g id=\"patch_6\">\n    <path d=\"M 26.925 7.2 \nL 361.725 7.2 \n\" style=\"fill:none;stroke:#000000;stroke-linecap:square;stroke-linejoin:miter;stroke-width:0.8;\"/>\n   </g>\n  </g>\n </g>\n <defs>\n  <clipPath id=\"p271205a9fd\">\n   <rect height=\"217.44\" width=\"334.8\" x=\"26.925\" y=\"7.2\"/>\n  </clipPath>\n </defs>\n</svg>\n",
      "image/png": "[encoded data removed]"
     },
     "metadata": {
      "needs_background": "light"
     }
    }
   ],
   "source": [
    "import matplotlib.pyplot as plt\n",
    "season_sums.plot()\n",
    "plt.show()"
   ]
  },
  {
   "cell_type": "code",
   "execution_count": null,
   "metadata": {},
   "outputs": [],
   "source": []
  }
 ]
}