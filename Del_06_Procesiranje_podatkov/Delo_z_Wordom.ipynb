{
 "cells": [
  {
   "cell_type": "markdown",
   "metadata": {},
   "source": [
    "# Docx\n"
   ]
  },
  {
   "cell_type": "markdown",
   "metadata": {},
   "source": [
    "```\n",
    "pip install python-docx\n",
    "```"
   ]
  },
  {
   "cell_type": "code",
   "execution_count": 3,
   "metadata": {},
   "outputs": [],
   "source": [
    "from docx import Document\n",
    "\n",
    "document = Document()"
   ]
  },
  {
   "cell_type": "code",
   "execution_count": 4,
   "metadata": {},
   "outputs": [],
   "source": [
    "paragraph = document.add_paragraph(\"Lore ipsum dolor....\")\n",
    "\n",
    "document.save(\"moj_doc.docx\")"
   ]
  },
  {
   "cell_type": "code",
   "execution_count": 5,
   "metadata": {},
   "outputs": [],
   "source": [
    "prior_paragraph = paragraph.insert_paragraph_before(\"Lore ipsum...\")\n",
    "\n",
    "document.save(\"moj_doc.docx\")"
   ]
  },
  {
   "cell_type": "markdown",
   "metadata": {},
   "source": [
    "## Headings"
   ]
  },
  {
   "cell_type": "code",
   "execution_count": 6,
   "metadata": {},
   "outputs": [],
   "source": [
    "document.add_heading(\"Naslov - level 0\", level=0)\n",
    "document.add_heading(\"Naslov - level 1\", level=1)\n",
    "document.add_heading(\"Naslov - level 2\", level=2)\n",
    "\n",
    "document.save(\"moj_doc.docx\")"
   ]
  },
  {
   "cell_type": "markdown",
   "metadata": {},
   "source": [
    "## Page breaks"
   ]
  },
  {
   "cell_type": "code",
   "execution_count": 7,
   "metadata": {},
   "outputs": [],
   "source": [
    "document.add_page_break()\n",
    "document.add_paragraph(\"Lore ipsum dolor sit.......\")\n",
    "\n",
    "document.save(\"moj_doc.docx\")"
   ]
  },
  {
   "cell_type": "markdown",
   "metadata": {},
   "source": [
    "## Table"
   ]
  },
  {
   "cell_type": "code",
   "execution_count": 12,
   "metadata": {},
   "outputs": [
    {
     "name": "stdout",
     "output_type": "stream",
     "text": [
      "Table ima 2 vrstic\n",
      "Table ima 2 stolpcev\n",
      "(<docx.table._Cell object at 0x00000237ECDF1160>, <docx.table._Cell object at 0x00000237ECDF1040>)\n"
     ]
    }
   ],
   "source": [
    "table = document.add_table(rows=2, cols=2, style=\"Table Grid\")\n",
    "\n",
    "print(\"Table ima\", len(table.rows), \"vrstic\")\n",
    "print(\"Table ima\", len(table.columns), \"stolpcev\")\n",
    "\n",
    "document.save(\"moj_doc.docx\")"
   ]
  },
  {
   "cell_type": "code",
   "execution_count": 9,
   "metadata": {},
   "outputs": [],
   "source": [
    "cell = table.cell(1, 0)\n",
    "cell.text = \"112233\"\n",
    "\n",
    "document.save(\"moj_doc.docx\")"
   ]
  },
  {
   "cell_type": "code",
   "execution_count": 10,
   "metadata": {},
   "outputs": [],
   "source": [
    "document.add_paragraph()\n",
    "\n",
    "table_head = (\"#\", \"ISBN\", \"Description\")\n",
    "podatki = [(1, \"10: 0316029181\", \"The Last Wish: Introducing The Witcher\"),\n",
    "          (2, \"10: 0316390682\", \"Leviathan Wakes\"),\n",
    "          (3, \"10: 1408855658\", \"Harry Potter and the Philosopher's Stone\")]\n",
    "\n",
    "table2 = document.add_table(1, 3, style=\"Table Grid\")\n",
    "\n",
    "table_head_row = table2.rows[0].cells\n",
    "table_head_row[0].text = table_head[0]\n",
    "table_head_row[1].text = table_head[1]\n",
    "table_head_row[2].text = table_head[2]\n",
    "\n",
    "for podatek in podatki:\n",
    "    cells = table2.add_row().cells\n",
    "    cells[0].text = str(podatek[0])\n",
    "    cells[1].text = podatek[1]\n",
    "    cells[2].text = podatek[2]\n",
    "    \n",
    "document.save(\"moj_doc.docx\")"
   ]
  },
  {
   "cell_type": "markdown",
   "metadata": {},
   "source": [
    "## Picture"
   ]
  },
  {
   "cell_type": "code",
   "execution_count": 13,
   "metadata": {},
   "outputs": [],
   "source": [
    "from docx.shared import Cm\n",
    "\n",
    "document.add_picture(\"nas_graf.png\", height=Cm(10))\n",
    "\n",
    "document.save(\"moj_doc.docx\")"
   ]
  },
  {
   "cell_type": "markdown",
   "metadata": {},
   "source": [
    "## Style"
   ]
  },
  {
   "cell_type": "code",
   "execution_count": 15,
   "metadata": {},
   "outputs": [],
   "source": [
    "from docx.shared import RGBColor\n",
    "\n",
    "paragraph = document.add_paragraph(\"Lore ipsum \")\n",
    "run = paragraph.add_run(\" dolor \")\n",
    "run.bold = True\n",
    "font = run.font\n",
    "font.color.rgb = RGBColor(0xFF, 0x00, 0xFF)\n",
    "\n",
    "paragraph.add_run(\" sit amet.\")\n",
    "\n",
    "document.save(\"moj_doc.docx\")"
   ]
  },
  {
   "cell_type": "code",
   "execution_count": 17,
   "metadata": {},
   "outputs": [],
   "source": [
    "paragraph = document.add_paragraph(\"Lore ipsum \")\n",
    "paragraph.add_run(\"nek text nek text\", \"Strong\")\n",
    "\n",
    "document.save(\"moj_doc.docx\")"
   ]
  },
  {
   "cell_type": "code",
   "execution_count": null,
   "metadata": {},
   "outputs": [],
   "source": []
  }
 ],
 "metadata": {
  "kernelspec": {
   "display_name": "Python 3",
   "language": "python",
   "name": "python3"
  },
  "language_info": {
   "codemirror_mode": {
    "name": "ipython",
    "version": 3
   },
   "file_extension": ".py",
   "mimetype": "text/x-python",
   "name": "python",
   "nbconvert_exporter": "python",
   "pygments_lexer": "ipython3",
   "version": "3.8.5"
  }
 },
 "nbformat": 4,
 "nbformat_minor": 4
}