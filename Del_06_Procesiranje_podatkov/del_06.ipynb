{
 "metadata": {
  "language_info": {
   "codemirror_mode": {
    "name": "ipython",
    "version": 3
   },
   "file_extension": ".py",
   "mimetype": "text/x-python",
   "name": "python",
   "nbconvert_exporter": "python",
   "pygments_lexer": "ipython3",
   "version": "3.9.0-final"
  },
  "orig_nbformat": 2,
  "kernelspec": {
   "name": "python3",
   "display_name": "Python 3"
  }
 },
 "nbformat": 4,
 "nbformat_minor": 2,
 "cells": [
  {
   "source": [
    "# Procesiranje podatkov"
   ],
   "cell_type": "markdown",
   "metadata": {}
  },
  {
   "source": [
    "## List Comprehension"
   ],
   "cell_type": "markdown",
   "metadata": {}
  },
  {
   "cell_type": "code",
   "execution_count": 1,
   "metadata": {},
   "outputs": [
    {
     "output_type": "stream",
     "name": "stdout",
     "text": [
      "[0, 1, 4, 9, 16, 25, 36, 49, 64, 81]\n"
     ]
    }
   ],
   "source": [
    "squares = []\n",
    "\n",
    "for i in range(10):\n",
    "    squares.append(i*i)\n",
    "\n",
    "print(squares)"
   ]
  },
  {
   "cell_type": "code",
   "execution_count": 2,
   "metadata": {},
   "outputs": [],
   "source": [
    "# map() funkcija\n",
    "\n",
    "cene = [1.03, 25.26, 23.8, 5.89]\n",
    "DAVEK = 0.22\n",
    "\n",
    "def dodaj_davek(cena):\n",
    "    return cena * (1 + DAVEK)\n"
   ]
  },
  {
   "cell_type": "code",
   "execution_count": 4,
   "metadata": {},
   "outputs": [
    {
     "output_type": "execute_result",
     "data": {
      "text/plain": [
       "[1.2566, 30.8172, 29.036, 7.1857999999999995]"
      ]
     },
     "metadata": {},
     "execution_count": 4
    }
   ],
   "source": [
    "map(dodaj_davek, cene)"
   ]
  },
  {
   "cell_type": "code",
   "execution_count": 5,
   "metadata": {},
   "outputs": [
    {
     "output_type": "stream",
     "name": "stdout",
     "text": [
      "1.2566\n30.8172\n29.036\n7.1857999999999995\n"
     ]
    }
   ],
   "source": [
    "for val in map(dodaj_davek, cene):\n",
    "    print(val)"
   ]
  },
  {
   "cell_type": "code",
   "execution_count": 7,
   "metadata": {},
   "outputs": [
    {
     "output_type": "stream",
     "name": "stdout",
     "text": [
      "[1.26, 30.82, 29.04, 7.19]\n"
     ]
    }
   ],
   "source": [
    "koncne_cene = list(map(dodaj_davek, cene))\n",
    "\n",
    "zaokrozene = []\n",
    "\n",
    "for cena in koncne_cene:\n",
    "    zaokrozene.append(round(cena, 2))\n",
    "\n",
    "print(zaokrozene)"
   ]
  },
  {
   "cell_type": "code",
   "execution_count": 8,
   "metadata": {},
   "outputs": [
    {
     "output_type": "stream",
     "name": "stdout",
     "text": [
      "[0, 1, 4, 9, 16, 25, 36, 49, 64, 81]\n"
     ]
    }
   ],
   "source": [
    "squares = []\n",
    "\n",
    "for i in range(10):\n",
    "    squares.append(i*i)\n",
    "\n",
    "print(squares)"
   ]
  },
  {
   "source": [
    "    new_list = [expression for member in iterable]"
   ],
   "cell_type": "markdown",
   "metadata": {}
  },
  {
   "cell_type": "code",
   "execution_count": 9,
   "metadata": {},
   "outputs": [],
   "source": [
    "squares  = [i*i for i in range(10)]"
   ]
  },
  {
   "cell_type": "code",
   "execution_count": 11,
   "metadata": {},
   "outputs": [
    {
     "output_type": "execute_result",
     "data": {
      "text/plain": [
       "[1.26, 30.82, 29.04, 7.19]"
      ]
     },
     "metadata": {},
     "execution_count": 11
    }
   ],
   "source": [
    "koncne_cene = [round(dodaj_davek(cena), 2) for cena in cene]\n",
    "koncne_cene"
   ]
  },
  {
   "source": [
    "    new_list = [expression for member in iterable (if conditional)]"
   ],
   "cell_type": "markdown",
   "metadata": {}
  },
  {
   "cell_type": "code",
   "execution_count": 13,
   "metadata": {},
   "outputs": [
    {
     "output_type": "execute_result",
     "data": {
      "text/plain": [
       "['O', 'E', 'U', 'O', 'A', 'E']"
      ]
     },
     "metadata": {},
     "execution_count": 13
    }
   ],
   "source": [
    "stavek = 'python je uporaben'\n",
    "samoglasniki = [i.upper() for i in stavek if i in 'aeiou']\n",
    "samoglasniki"
   ]
  },
  {
   "cell_type": "code",
   "execution_count": 14,
   "metadata": {},
   "outputs": [],
   "source": [
    "besedilo = \"\"\"Python je interpretni visokoravni večnamenski programski jezik, ki ga je ustvaril Guido van Rossum leta 1990. Jezik je dobil ime po priljubljeni angleški televizijski nanizanki Leteči cirkus Montyja Pythona. Python podpira dinamične podatkovne tipe, kar ga naredi drugačnega od npr. Jave ali družine C.\"\"\""
   ]
  },
  {
   "cell_type": "code",
   "execution_count": 19,
   "metadata": {},
   "outputs": [
    {
     "output_type": "execute_result",
     "data": {
      "text/plain": [
       "['python',\n",
       " 'interpretni',\n",
       " 'visokoravni',\n",
       " 'večnamenski',\n",
       " 'programski',\n",
       " 'jezik',\n",
       " 'ustvaril',\n",
       " 'rossum',\n",
       " 'priljubljeni',\n",
       " 'angleški',\n",
       " 'televizijski',\n",
       " 'nanizanki',\n",
       " 'leteči',\n",
       " 'cirkus',\n",
       " 'montyja',\n",
       " 'pythona',\n",
       " 'python',\n",
       " 'podpira',\n",
       " 'dinamične',\n",
       " 'podatkovne',\n",
       " 'naredi',\n",
       " 'drugačnega',\n",
       " 'družine']"
      ]
     },
     "metadata": {},
     "execution_count": 19
    }
   ],
   "source": [
    "urejene_besede = [beseda.lower().replace('.','').replace(',','') for beseda in besedilo.split() if len(beseda) > 5]\n",
    "urejene_besede"
   ]
  },
  {
   "source": [
    "    new_list = [expression (if conditional) for member in iterable]"
   ],
   "cell_type": "markdown",
   "metadata": {}
  },
  {
   "cell_type": "code",
   "execution_count": 24,
   "metadata": {},
   "outputs": [
    {
     "output_type": "execute_result",
     "data": {
      "text/plain": [
       "[34.101000000000006, 32.13, 7.1857999999999995]"
      ]
     },
     "metadata": {},
     "execution_count": 24
    }
   ],
   "source": [
    "\n",
    "cene = [1.03, 25.26, 23.8, 5.89]\n",
    "DAVEK1 = 0.22\n",
    "DAVEK2 = 0.35\n",
    " \n",
    "def dodaj_davek(cena, DAVEK):\n",
    "    return cena * (1 + DAVEK)\n",
    "\n",
    "koncne_cene = [dodaj_davek(cena, DAVEK1) if cena < 10 else dodaj_davek(cena, DAVEK2) for cena in cene if cena > 2]\n",
    "koncne_cene\n"
   ]
  },
  {
   "cell_type": "code",
   "execution_count": 27,
   "metadata": {},
   "outputs": [
    {
     "output_type": "execute_result",
     "data": {
      "text/plain": [
       "{'0': 0,\n",
       " '1': 1,\n",
       " '2': 4,\n",
       " '3': 9,\n",
       " '4': 16,\n",
       " '5': 25,\n",
       " '6': 36,\n",
       " '7': 49,\n",
       " '8': 64,\n",
       " '9': 81}"
      ]
     },
     "metadata": {},
     "execution_count": 27
    }
   ],
   "source": [
    "#  Dictionary Comprehensions\n",
    "\n",
    "squares = {str(i): i*i for i in range(10)}\n",
    "squares"
   ]
  },
  {
   "cell_type": "code",
   "execution_count": 29,
   "metadata": {},
   "outputs": [
    {
     "output_type": "execute_result",
     "data": {
      "text/plain": [
       "[[0, 1, 2, 3, 4],\n",
       " [0, 1, 2, 3, 4],\n",
       " [0, 1, 2, 3, 4],\n",
       " [0, 1, 2, 3, 4],\n",
       " [0, 1, 2, 3, 4],\n",
       " [0, 1, 2, 3, 4]]"
      ]
     },
     "metadata": {},
     "execution_count": 29
    }
   ],
   "source": [
    "matrix = [[i for i in range(5)] for _ in range(6)]\n",
    "matrix"
   ]
  },
  {
   "cell_type": "code",
   "execution_count": 30,
   "metadata": {},
   "outputs": [],
   "source": [
    "import random\n",
    "import timeit\n",
    "\n",
    "TAX_RATE = .08\n",
    "txns = [random.randrange(100) for _ in range(100000)]\n",
    "\n",
    "def get_price(txn):\n",
    "    return txn * (1 + TAX_RATE)"
   ]
  },
  {
   "cell_type": "code",
   "execution_count": 31,
   "metadata": {},
   "outputs": [],
   "source": [
    "def get_prices_with_map():\n",
    "    return list(map(get_price, txns))\n",
    "\n",
    "def get_prices_with_comprehension():\n",
    "    return [get_price(txn) for txn in txns]\n",
    "\n",
    "def get_prices_with_loop():\n",
    "    prices = []\n",
    "    for txn in txns:\n",
    "        prices.append(get_price(txn))\n",
    "    return prices"
   ]
  },
  {
   "cell_type": "code",
   "execution_count": 32,
   "metadata": {},
   "outputs": [
    {
     "output_type": "stream",
     "name": "stdout",
     "text": [
      "12.6 ms ± 286 µs per loop (mean ± std. dev. of 7 runs, 100 loops each)\n"
     ]
    }
   ],
   "source": [
    "%%timeit\n",
    "get_prices_with_map()"
   ]
  },
  {
   "cell_type": "code",
   "execution_count": 33,
   "metadata": {},
   "outputs": [
    {
     "output_type": "stream",
     "name": "stdout",
     "text": [
      "15.7 ms ± 269 µs per loop (mean ± std. dev. of 7 runs, 100 loops each)\n"
     ]
    }
   ],
   "source": [
    "%%timeit\n",
    "get_prices_with_comprehension()"
   ]
  },
  {
   "cell_type": "code",
   "execution_count": 34,
   "metadata": {},
   "outputs": [
    {
     "output_type": "stream",
     "name": "stdout",
     "text": [
      "18.5 ms ± 158 µs per loop (mean ± std. dev. of 7 runs, 100 loops each)\n"
     ]
    }
   ],
   "source": [
    "%%timeit\n",
    "get_prices_with_loop()"
   ]
  },
  {
   "source": [
    "# Lambda function"
   ],
   "cell_type": "markdown",
   "metadata": {}
  },
  {
   "cell_type": "code",
   "execution_count": 35,
   "metadata": {},
   "outputs": [],
   "source": [
    "def add_10(x):\n",
    "    return x + 10"
   ]
  },
  {
   "cell_type": "code",
   "execution_count": 36,
   "metadata": {},
   "outputs": [
    {
     "output_type": "execute_result",
     "data": {
      "text/plain": [
       "<function __main__.<lambda>(x)>"
      ]
     },
     "metadata": {},
     "execution_count": 36
    }
   ],
   "source": [
    "lambda x: x + 10"
   ]
  },
  {
   "cell_type": "code",
   "execution_count": 37,
   "metadata": {},
   "outputs": [
    {
     "output_type": "execute_result",
     "data": {
      "text/plain": [
       "['id125', 'id2', 'id25', 'id35', 'id45', 'id50']"
      ]
     },
     "metadata": {},
     "execution_count": 37
    }
   ],
   "source": [
    "ids = ['id25', 'id35','id2','id45','id50','id125']\n",
    "\n",
    "sorted(ids)"
   ]
  },
  {
   "cell_type": "code",
   "execution_count": 38,
   "metadata": {},
   "outputs": [
    {
     "output_type": "execute_result",
     "data": {
      "text/plain": [
       "['id2', 'id25', 'id35', 'id45', 'id50', 'id125']"
      ]
     },
     "metadata": {},
     "execution_count": 38
    }
   ],
   "source": [
    "sorted(ids, key=lambda x: int(x[2:]))"
   ]
  },
  {
   "cell_type": "code",
   "execution_count": 39,
   "metadata": {},
   "outputs": [],
   "source": [
    "a = lambda x: x + 10"
   ]
  },
  {
   "cell_type": "code",
   "execution_count": 40,
   "metadata": {},
   "outputs": [
    {
     "output_type": "execute_result",
     "data": {
      "text/plain": [
       "55"
      ]
     },
     "metadata": {},
     "execution_count": 40
    }
   ],
   "source": [
    "a(45)"
   ]
  },
  {
   "source": [
    "## The Map Function"
   ],
   "cell_type": "markdown",
   "metadata": {}
  },
  {
   "cell_type": "code",
   "execution_count": 41,
   "metadata": {},
   "outputs": [],
   "source": [
    "vrednosti = [1,2,3,4,5]"
   ]
  },
  {
   "cell_type": "code",
   "execution_count": 44,
   "metadata": {},
   "outputs": [
    {
     "output_type": "execute_result",
     "data": {
      "text/plain": [
       "[11, 12, 13, 14, 15]"
      ]
     },
     "metadata": {},
     "execution_count": 44
    }
   ],
   "source": [
    "\n",
    "add10 = list(map(lambda x: x + 10, vrednosti))\n",
    "add10"
   ]
  },
  {
   "cell_type": "code",
   "execution_count": 47,
   "metadata": {},
   "outputs": [
    {
     "output_type": "stream",
     "name": "stdout",
     "text": [
      "['200.155.108.44', '36.139.255.202', '50.112.115.219', '10.0.25.26', '233.154.7.24', '241.220.141.78', '191.198.138.97', '172.40.187.145', '225.119.46.80', '97.218.117.229']\n"
     ]
    }
   ],
   "source": [
    "# NALOGA 1: pridobimo IPje v list\n",
    "\n",
    "with open('./data/example_log.txt') as f:\n",
    "    lines = f.readlines()\n",
    "    ip_adderesses = list(map(lambda x: x.split()[0], lines))\n",
    "    print(ip_adderesses[:10])"
   ]
  },
  {
   "source": [
    "# Uporaba list comprehension\n",
    "with open('./data/example_log.txt') as f:\n",
    "    lines = f.readlines()\n",
    "    ip_adderesses = [line.split()[0] for line in lines]\n",
    "    print(ip_adderesses[:10])"
   ],
   "cell_type": "code",
   "metadata": {},
   "execution_count": 48,
   "outputs": [
    {
     "output_type": "stream",
     "name": "stdout",
     "text": [
      "['200.155.108.44', '36.139.255.202', '50.112.115.219', '10.0.25.26', '233.154.7.24', '241.220.141.78', '191.198.138.97', '172.40.187.145', '225.119.46.80', '97.218.117.229']\n"
     ]
    }
   ]
  },
  {
   "source": [
    "### Filter Function"
   ],
   "cell_type": "markdown",
   "metadata": {}
  },
  {
   "cell_type": "code",
   "execution_count": 52,
   "metadata": {},
   "outputs": [
    {
     "output_type": "execute_result",
     "data": {
      "text/plain": [
       "[1, 3, 5, 7, 9, 11, 13]"
      ]
     },
     "metadata": {},
     "execution_count": 52
    }
   ],
   "source": [
    "vrednosti = list(range(15))\n",
    "lihe = list(filter(lambda x: x % 2 == 1, vrednosti))\n",
    "lihe"
   ]
  },
  {
   "cell_type": "code",
   "execution_count": 54,
   "metadata": {},
   "outputs": [
    {
     "output_type": "execute_result",
     "data": {
      "text/plain": [
       "[1, 3, 5, 7, 9, 11, 13]"
      ]
     },
     "metadata": {},
     "execution_count": 54
    }
   ],
   "source": [
    "lihe = [x for x in vrednosti if x % 2 == 1]\n",
    "lihe"
   ]
  },
  {
   "source": [
    "# NALOGA 2\n",
    "with open('./data/example_log.txt') as f:\n",
    "    lines = f.readlines()\n",
    "    ip_adderesses = list(map(lambda x: x.split()[0], lines))\n",
    "    filtered_ips = list(filter(lambda x: int(x.split('.')[0]) <= 20, ip_adderesses))\n",
    "    print(filtered_ips[:10])"
   ],
   "cell_type": "code",
   "metadata": {},
   "execution_count": 55,
   "outputs": [
    {
     "output_type": "stream",
     "name": "stdout",
     "text": [
      "['10.0.25.26', '4.31.18.29', '10.3.25.58', '5.237.70.145', '4.186.143.85', '7.205.198.134', '2.98.108.99', '20.123.163.219', '17.192.186.123', '19.137.101.141']\n"
     ]
    }
   ]
  },
  {
   "cell_type": "code",
   "execution_count": 56,
   "metadata": {},
   "outputs": [
    {
     "output_type": "stream",
     "name": "stdout",
     "text": [
      "['10.0.25.26', '4.31.18.29', '10.3.25.58', '5.237.70.145', '4.186.143.85', '7.205.198.134', '2.98.108.99', '20.123.163.219', '17.192.186.123', '19.137.101.141']\n"
     ]
    }
   ],
   "source": [
    "with open('./data/example_log.txt') as f:\n",
    "    lines = f.readlines()\n",
    "    ip_adderesses = [line.split()[0] for line in lines]\n",
    "    filtered_ips = [ip for ip in ip_adderesses if int(ip.split('.')[0]) <= 20]\n",
    "    print(filtered_ips[:10])\n"
   ]
  },
  {
   "source": [
    "### Primer: Parsanje IPjev"
   ],
   "cell_type": "markdown",
   "metadata": {}
  },
  {
   "cell_type": "code",
   "execution_count": 57,
   "metadata": {},
   "outputs": [],
   "source": [
    "with open('./data/example_log.txt') as f:\n",
    "    lines = f.readlines()"
   ]
  },
  {
   "cell_type": "code",
   "execution_count": 58,
   "metadata": {},
   "outputs": [],
   "source": [
    "import ipaddress\n",
    "\n",
    "def is_ip_private(ip):\n",
    "    ip_object = ipaddress.ip_address(ip)\n",
    "    return ip_object.is_private and not ip_object.is_reserved and not ip_object.is_loopback"
   ]
  },
  {
   "cell_type": "code",
   "execution_count": 61,
   "metadata": {},
   "outputs": [
    {
     "output_type": "execute_result",
     "data": {
      "text/plain": [
       "False"
      ]
     },
     "metadata": {},
     "execution_count": 61
    }
   ],
   "source": [
    "is_ip_private('212.251.66.5')"
   ]
  },
  {
   "cell_type": "code",
   "execution_count": 62,
   "metadata": {},
   "outputs": [
    {
     "output_type": "execute_result",
     "data": {
      "text/plain": [
       "True"
      ]
     },
     "metadata": {},
     "execution_count": 62
    }
   ],
   "source": [
    "is_ip_private('10.0.14.4')"
   ]
  },
  {
   "cell_type": "code",
   "execution_count": 63,
   "metadata": {},
   "outputs": [],
   "source": [
    "status_codes = []\n",
    "\n",
    "for line in lines:\n",
    "    ip = line.split()[0]\n",
    "    if is_ip_private(ip):\n",
    "        status_codes.append(int(line.split()[8]))\n"
   ]
  },
  {
   "cell_type": "code",
   "execution_count": 66,
   "metadata": {},
   "outputs": [
    {
     "output_type": "execute_result",
     "data": {
      "text/plain": [
       "{404: 15, 401: 19, 200: 28}"
      ]
     },
     "metadata": {},
     "execution_count": 66
    }
   ],
   "source": [
    "from collections import Counter\n",
    "\n",
    "dict(Counter(status_codes))"
   ]
  },
  {
   "source": [
    "### Pandas alternativa"
   ],
   "cell_type": "markdown",
   "metadata": {}
  },
  {
   "cell_type": "code",
   "execution_count": 67,
   "metadata": {},
   "outputs": [],
   "source": [
    "import ipaddress\n",
    "\n",
    "def is_ip_private(ip):\n",
    "    ip_object = ipaddress.ip_address(ip)\n",
    "    return ip_object.is_private and not ip_object.is_reserved and not ip_object.is_loopback"
   ]
  },
  {
   "cell_type": "code",
   "execution_count": 68,
   "metadata": {},
   "outputs": [],
   "source": [
    "import pandas as pd"
   ]
  },
  {
   "cell_type": "code",
   "execution_count": 82,
   "metadata": {},
   "outputs": [],
   "source": []
  },
  {
   "cell_type": "code",
   "execution_count": 84,
   "metadata": {},
   "outputs": [
    {
     "output_type": "execute_result",
     "data": {
      "text/plain": [
       "                 ip  status_code  is_private\n",
       "3        10.0.25.26          404        True\n",
       "13      172.16.45.5          401        True\n",
       "19       10.3.25.58          404        True\n",
       "631  10.182.249.118          404        True\n",
       "731    10.56.168.95          200        True"
      ],
      "text/html": "<div>\n<style scoped>\n    .dataframe tbody tr th:only-of-type {\n        vertical-align: middle;\n    }\n\n    .dataframe tbody tr th {\n        vertical-align: top;\n    }\n\n    .dataframe thead th {\n        text-align: right;\n    }\n</style>\n<table border=\"1\" class=\"dataframe\">\n  <thead>\n    <tr style=\"text-align: right;\">\n      <th></th>\n      <th>ip</th>\n      <th>status_code</th>\n      <th>is_private</th>\n    </tr>\n  </thead>\n  <tbody>\n    <tr>\n      <th>3</th>\n      <td>10.0.25.26</td>\n      <td>404</td>\n      <td>True</td>\n    </tr>\n    <tr>\n      <th>13</th>\n      <td>172.16.45.5</td>\n      <td>401</td>\n      <td>True</td>\n    </tr>\n    <tr>\n      <th>19</th>\n      <td>10.3.25.58</td>\n      <td>404</td>\n      <td>True</td>\n    </tr>\n    <tr>\n      <th>631</th>\n      <td>10.182.249.118</td>\n      <td>404</td>\n      <td>True</td>\n    </tr>\n    <tr>\n      <th>731</th>\n      <td>10.56.168.95</td>\n      <td>200</td>\n      <td>True</td>\n    </tr>\n  </tbody>\n</table>\n</div>"
     },
     "metadata": {},
     "execution_count": 84
    }
   ],
   "source": [
    "df = pd.read_csv('data/example_log.txt', sep=' ', header=None)\n",
    "df = df[[0,6]]\n",
    "df.rename(columns={0:'ip', 6:'status_code'}, inplace=True)\n",
    "\n",
    "df['is_private'] = df['ip'].apply(lambda ip: is_ip_private(ip))\n",
    "\n",
    "private_ips_df = df[df['is_private'] == True].copy()\n",
    "result = private_ips_df['status_code'].value_counts().to_dict()\n",
    "\n",
    "private_ips_df.head()\n"
   ]
  },
  {
   "cell_type": "code",
   "execution_count": 85,
   "metadata": {},
   "outputs": [
    {
     "output_type": "execute_result",
     "data": {
      "text/plain": [
       "{200: 28, 401: 19, 404: 15}"
      ]
     },
     "metadata": {},
     "execution_count": 85
    }
   ],
   "source": [
    "result"
   ]
  },
  {
   "cell_type": "code",
   "execution_count": null,
   "metadata": {},
   "outputs": [],
   "source": []
  }
 ]
}